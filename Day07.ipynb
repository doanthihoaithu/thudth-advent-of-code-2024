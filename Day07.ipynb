{
 "cells": [
  {
   "cell_type": "code",
   "execution_count": 24,
   "id": "ab539b02",
   "metadata": {},
   "outputs": [],
   "source": [
    "import numpy as np"
   ]
  },
  {
   "cell_type": "markdown",
   "id": "b61ebd38",
   "metadata": {},
   "source": [
    "# Part 1"
   ]
  },
  {
   "cell_type": "code",
   "execution_count": 64,
   "id": "d28aeca9",
   "metadata": {},
   "outputs": [],
   "source": [
    "def check(test_value, numbers):\n",
    "    if len(numbers)  == 1:\n",
    "        return test_value == numbers[0]\n",
    "    else:\n",
    "        last_number = numbers[-1]\n",
    "        if test_value % last_number == 0:\n",
    "            return check(test_value-numbers[-1], numbers[:-1]) or check(test_value/numbers[-1], numbers[:-1])\n",
    "        else:\n",
    "            return check(test_value-numbers[-1], numbers[:-1])"
   ]
  },
  {
   "cell_type": "code",
   "execution_count": 65,
   "id": "a28148fe",
   "metadata": {},
   "outputs": [
    {
     "name": "stdout",
     "output_type": "stream",
     "text": [
      "Answer: 465126289353\n"
     ]
    }
   ],
   "source": [
    "with open('input_day07.txt') as file:\n",
    "    lines = file.readlines()\n",
    "    result = 0\n",
    "    for line in lines:\n",
    "        line = line.strip()\n",
    "        tokens = line.split(':')\n",
    "        test_value = int(tokens[0])\n",
    "        numbers = [int(n) for n in tokens[1].strip().split(' ')]\n",
    "        if check(test_value, numbers):\n",
    "            result = result + test_value\n",
    "    print('Answer:', result)"
   ]
  },
  {
   "cell_type": "markdown",
   "id": "835b37a8",
   "metadata": {},
   "source": [
    "# Part 2"
   ]
  },
  {
   "cell_type": "code",
   "execution_count": 62,
   "id": "b0add532",
   "metadata": {},
   "outputs": [],
   "source": [
    "def check2(test_value, numbers):\n",
    "    if len(numbers)  == 1:\n",
    "        return test_value == numbers[0]\n",
    "    else:\n",
    "        last_number = numbers[-1]\n",
    "        if test_value % last_number == 0:\n",
    "            return check2(test_value-numbers[-1], numbers[:-1]) or check2(test_value/numbers[-1], numbers[:-1]) \\\n",
    "                                or check2((test_value-numbers[-1])/(10**len(str(numbers[-1]))), numbers[:-1])\n",
    "        else:\n",
    "            return check2(test_value-numbers[-1], numbers[:-1]) \\\n",
    "                                or check2((test_value-numbers[-1])/(10**len(str(numbers[-1]))), numbers[:-1])"
   ]
  },
  {
   "cell_type": "code",
   "execution_count": 63,
   "id": "21426601",
   "metadata": {},
   "outputs": [
    {
     "name": "stdout",
     "output_type": "stream",
     "text": [
      "Answer: 70597497486371\n"
     ]
    }
   ],
   "source": [
    "with open('input_day07.txt') as file:\n",
    "    lines = file.readlines()\n",
    "    result = 0\n",
    "    for line in lines:\n",
    "        line = line.strip()\n",
    "        tokens = line.split(':')\n",
    "        test_value = int(tokens[0])\n",
    "        numbers = [int(n) for n in tokens[1].strip().split(' ')]\n",
    "        if check2(test_value, numbers):\n",
    "            result = result + test_value\n",
    "    print('Answer:', result)"
   ]
  },
  {
   "cell_type": "code",
   "execution_count": null,
   "id": "a3cb803b",
   "metadata": {},
   "outputs": [],
   "source": []
  }
 ],
 "metadata": {
  "kernelspec": {
   "display_name": "Python 3.8 (timeeval)",
   "language": "python",
   "name": "timeeval"
  },
  "language_info": {
   "codemirror_mode": {
    "name": "ipython",
    "version": 3
   },
   "file_extension": ".py",
   "mimetype": "text/x-python",
   "name": "python",
   "nbconvert_exporter": "python",
   "pygments_lexer": "ipython3",
   "version": "3.8.19"
  },
  "toc": {
   "base_numbering": 1,
   "nav_menu": {},
   "number_sections": true,
   "sideBar": true,
   "skip_h1_title": false,
   "title_cell": "Table of Contents",
   "title_sidebar": "Contents",
   "toc_cell": false,
   "toc_position": {},
   "toc_section_display": true,
   "toc_window_display": false
  }
 },
 "nbformat": 4,
 "nbformat_minor": 5
}
