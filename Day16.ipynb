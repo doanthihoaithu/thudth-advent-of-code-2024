{
 "cells": [
  {
   "cell_type": "markdown",
   "id": "df6c21da",
   "metadata": {},
   "source": [
    "# Part 1"
   ]
  },
  {
   "cell_type": "code",
   "execution_count": 2,
   "id": "e91894f3",
   "metadata": {},
   "outputs": [],
   "source": [
    "import numpy as np"
   ]
  },
  {
   "cell_type": "code",
   "execution_count": 8,
   "id": "0c0a19b8",
   "metadata": {},
   "outputs": [],
   "source": [
    "def in_bound(pos, map_matrix):\n",
    "    max_row = map_matrix.shape[0]\n",
    "    max_column = map_matrix.shape[1]\n",
    "    return pos[0] in range(max_row) and pos[1] in range(max_column)"
   ]
  },
  {
   "cell_type": "code",
   "execution_count": 25,
   "id": "9c23aae8",
   "metadata": {},
   "outputs": [],
   "source": [
    "from collections import deque\n",
    "directions = [(1,0), (0,-1), (-1,0), (0,1)]\n",
    "\n",
    "def turn_left(cur_dir):\n",
    "    return directions[(directions.index(cur_dir) - 1 + len(directions))%len(directions)]\n",
    "\n",
    "def turn_right(cur_dir):\n",
    "    return directions[(directions.index(cur_dir) + 1 + len(directions))%len(directions)]\n",
    "\n",
    "def spread(cost_map, room_map):\n",
    "    queue = deque()\n",
    "    start = (start_position, (0,1), 0)\n",
    "    cost_map[start_position] = 0\n",
    "    queue.append(start)\n",
    "    \n",
    "    while queue:\n",
    "        current = queue.popleft()\n",
    "        current_position, current_direction, current_cost = current\n",
    "        next_directions_n_cost = [(current_direction, current_cost + 1), \\\n",
    "                                  (turn_left(current_direction), current_cost + 1001), \\\n",
    "                                  (turn_right(current_direction), current_cost + 1001)]\n",
    "        for next_direction, next_cost in next_directions_n_cost:\n",
    "            next_position = (current_position[0] + next_direction[0], current_position[1] + next_direction[1])\n",
    "            if room_map[next_position] == '#':\n",
    "                continue\n",
    "            if room_map[next_position] in ['.', 'E'] and cost_map[next_position] > next_cost:\n",
    "                cost_map[next_position] = next_cost\n",
    "                queue.append((next_position, next_direction, next_cost))\n",
    "                \n",
    "    return cost_map[end_position]\n",
    "            "
   ]
  },
  {
   "cell_type": "code",
   "execution_count": 26,
   "id": "504f8078",
   "metadata": {},
   "outputs": [
    {
     "name": "stdout",
     "output_type": "stream",
     "text": [
      "(141, 141) (141, 141)\n",
      "(139, 1) (1, 139)\n",
      "Answer for part 1: 66404\n",
      "Execution time 0.048573\n"
     ]
    }
   ],
   "source": [
    "from datetime import datetime\n",
    "import numpy as np\n",
    "with open('input_day16.txt') as file:\n",
    "    lines = file.readlines()\n",
    "    lines = [line.strip() for line in lines]\n",
    "    room_map = [[c for c in line] for line in lines]\n",
    "    room_map = np.array(room_map)\n",
    "    cost_map = np.array([[1000000000 for j in range(room_map.shape[1])] for i in range(room_map.shape[0])])\n",
    "    print(room_map.shape, cost_map.shape)\n",
    "    \n",
    "    start_position = (0,0)\n",
    "    end_position = (0,0)\n",
    "    for i in range(room_map.shape[0]):\n",
    "        for j in range(room_map.shape[1]):\n",
    "            if room_map[i,j] == 'S':\n",
    "                start_position = (i,j)\n",
    "            elif room_map[i,j] == 'E':\n",
    "                end_position = (i,j)\n",
    "                \n",
    "    print(start_position, end_position)\n",
    "    \n",
    "    start = datetime.now()\n",
    "#     record_titles = []\n",
    "    result = spread(cost_map, room_map)\n",
    "    end = datetime.now()\n",
    "    time_execution = (end - start).total_seconds()\n",
    "    print('Answer for part 1:', result)\n",
    "    print('Execution time', time_execution)\n",
    "    \n",
    "    \n",
    "#     recored_scores = []"
   ]
  },
  {
   "cell_type": "markdown",
   "id": "9d9fafee",
   "metadata": {},
   "source": [
    "# Part 2 "
   ]
  },
  {
   "cell_type": "code",
   "execution_count": 31,
   "id": "88cdff9c",
   "metadata": {},
   "outputs": [],
   "source": [
    "def backward_spread(cost_map):\n",
    "    queue = deque()\n",
    "    start_1 = (end_position, (1,0), cost_map[end_position])\n",
    "    start_2 = (end_position, (0,-1), cost_map[end_position])\n",
    "    \n",
    "    queue.append(start_1)\n",
    "    queue.append(start_2)\n",
    "    visited = set()\n",
    "    res = 1\n",
    "    \n",
    "    while queue:\n",
    "        current = queue.popleft()\n",
    "        current_position, current_direction, current_cost = current\n",
    "        next_directions_n_cost = [(current_direction, current_cost - 1), \\\n",
    "                                  (turn_left(current_direction), current_cost - 1001), \\\n",
    "                                  (turn_right(current_direction), current_cost - 1001)]\n",
    "        for next_direction, next_cost in next_directions_n_cost:\n",
    "            next_position = (current_position[0] + next_direction[0], current_position[1] + next_direction[1])\n",
    "#             if room_map[next_position] == '#':\n",
    "#                 continue\n",
    "            if cost_map[next_position] in [next_cost, next_cost + 1000] and next_position not in visited:\n",
    "#                 cost_map[next_position] = next_cost\n",
    "                res += 1\n",
    "                queue.append((next_position, next_direction, next_cost))\n",
    "                visited.add(next_position)\n",
    "                \n",
    "    return res"
   ]
  },
  {
   "cell_type": "code",
   "execution_count": 32,
   "id": "8ace2a73",
   "metadata": {},
   "outputs": [
    {
     "name": "stdout",
     "output_type": "stream",
     "text": [
      "(141, 141) (141, 141)\n",
      "(139, 1) (1, 139)\n",
      "Answer for part 1: 66404\n",
      "Answer for part 2: 433\n",
      "Execution time 0.049845\n"
     ]
    }
   ],
   "source": [
    "from datetime import datetime\n",
    "import numpy as np\n",
    "with open('input_day16.txt') as file:\n",
    "    lines = file.readlines()\n",
    "    lines = [line.strip() for line in lines]\n",
    "    room_map = [[c for c in line] for line in lines]\n",
    "    room_map = np.array(room_map)\n",
    "    cost_map = np.array([[1000000000 for j in range(room_map.shape[1])] for i in range(room_map.shape[0])])\n",
    "    print(room_map.shape, cost_map.shape)\n",
    "    \n",
    "    start_position = (0,0)\n",
    "    end_position = (0,0)\n",
    "    for i in range(room_map.shape[0]):\n",
    "        for j in range(room_map.shape[1]):\n",
    "            if room_map[i,j] == 'S':\n",
    "                start_position = (i,j)\n",
    "            elif room_map[i,j] == 'E':\n",
    "                end_position = (i,j)\n",
    "                \n",
    "    print(start_position, end_position)\n",
    "    \n",
    "    start = datetime.now()\n",
    "#     record_titles = []\n",
    "    result_1 = spread(cost_map, room_map)\n",
    "    result_2 = backward_spread(cost_map)\n",
    "    end = datetime.now()\n",
    "    time_execution = (end - start).total_seconds()\n",
    "    print('Answer for part 1:', result_1)\n",
    "    print('Answer for part 2:', result_2)\n",
    "    print('Execution time', time_execution)\n",
    "    \n",
    "    \n",
    "#     recored_scores = []"
   ]
  }
 ],
 "metadata": {
  "kernelspec": {
   "display_name": "Python 3.11 (tensorflow)",
   "language": "python",
   "name": "tensorflow"
  },
  "language_info": {
   "codemirror_mode": {
    "name": "ipython",
    "version": 3
   },
   "file_extension": ".py",
   "mimetype": "text/x-python",
   "name": "python",
   "nbconvert_exporter": "python",
   "pygments_lexer": "ipython3",
   "version": "3.11.4"
  },
  "toc": {
   "base_numbering": 1,
   "nav_menu": {},
   "number_sections": true,
   "sideBar": true,
   "skip_h1_title": false,
   "title_cell": "Table of Contents",
   "title_sidebar": "Contents",
   "toc_cell": false,
   "toc_position": {},
   "toc_section_display": true,
   "toc_window_display": false
  }
 },
 "nbformat": 4,
 "nbformat_minor": 5
}
