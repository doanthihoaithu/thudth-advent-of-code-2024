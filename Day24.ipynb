{
 "cells": [
  {
   "cell_type": "markdown",
   "id": "d6ceaf46",
   "metadata": {},
   "source": [
    "# Part 1"
   ]
  },
  {
   "cell_type": "code",
   "execution_count": 60,
   "id": "401c1e53",
   "metadata": {},
   "outputs": [],
   "source": [
    "with open('input_day24.txt') as file:\n",
    "    lines = file.readlines()\n",
    "    \n",
    "    variables = dict()\n",
    "    gates = []\n",
    "    for line in lines:\n",
    "        if \":\" in line:\n",
    "            tokens = line.strip().split(': ')\n",
    "            name = tokens[0]\n",
    "            value = int(tokens[1])\n",
    "            variables[name] = value\n",
    "        elif \"->\" in line:\n",
    "            tokens = line.strip().split(' ')\n",
    "            left = tokens[0]\n",
    "            operator = tokens[1]\n",
    "            right = tokens[2]\n",
    "            output_var = tokens[4]\n",
    "            gates.append((left, operator, right, output_var))"
   ]
  },
  {
   "cell_type": "code",
   "execution_count": 61,
   "id": "757f66e6",
   "metadata": {},
   "outputs": [],
   "source": [
    "import numpy as np\n",
    "gate_status = np.zeros(len(gates)).astype(bool)\n",
    "def calculate(gates, variables):\n",
    "    while gate_status.all() == False:\n",
    "        for index,g in enumerate(gates):\n",
    "            if gate_status[index] == False:\n",
    "                left, operator, right, output_var = g\n",
    "#                 print(g)\n",
    "                if (left in variables) and (right in variables):\n",
    "                    if operator == 'AND':\n",
    "                        variables[output_var] = variables[left] & variables[right]\n",
    "                    elif operator == 'OR':\n",
    "                        variables[output_var] = variables[left] | variables[right]\n",
    "                    elif operator == 'XOR':\n",
    "                        variables[output_var] = variables[left] ^ variables[right]\n",
    "                    gate_status[index] = True"
   ]
  },
  {
   "cell_type": "code",
   "execution_count": 62,
   "id": "4c8a5056",
   "metadata": {},
   "outputs": [
    {
     "name": "stdout",
     "output_type": "stream",
     "text": [
      "1100101000010010000000110000000111000011101000\n",
      "Answer for part 1: 55544677167336\n"
     ]
    }
   ],
   "source": [
    "calculate(gates, variables)\n",
    "z_variables = dict()\n",
    "for key, value in variables.items():\n",
    "    if key.startswith('z'):\n",
    "        z_variables[key] = value\n",
    "sorted_dict = dict(sorted(z_variables.items(),  reverse = True))\n",
    "final_binary = \"\".join([str(c) for c in sorted_dict.values()])\n",
    "print(final_binary)\n",
    "print('Answer for part 1:', int(final_binary, 2))"
   ]
  },
  {
   "cell_type": "markdown",
   "id": "26e16bd4",
   "metadata": {},
   "source": [
    "# Part 2"
   ]
  },
  {
   "cell_type": "code",
   "execution_count": 68,
   "id": "dcbbd618",
   "metadata": {},
   "outputs": [],
   "source": [
    "with open('input_day24.txt') as file:\n",
    "    lines = file.readlines()\n",
    "    \n",
    "    variables = dict()\n",
    "    gates = []\n",
    "    for line in lines:\n",
    "        if \":\" in line:\n",
    "            tokens = line.strip().split(': ')\n",
    "            name = tokens[0]\n",
    "            value = int(tokens[1])\n",
    "            variables[name] = value\n",
    "        elif \"->\" in line:\n",
    "            tokens = line.strip().split(' ')\n",
    "            left = tokens[0]\n",
    "            operator = tokens[1]\n",
    "            right = tokens[2]\n",
    "            output_var = tokens[4]\n",
    "            gates.append((left, operator, right, output_var))"
   ]
  },
  {
   "cell_type": "code",
   "execution_count": 108,
   "id": "68c856b4",
   "metadata": {},
   "outputs": [
    {
     "name": "stdout",
     "output_type": "stream",
     "text": [
      "Answer for part 1: 55544677167336\n",
      "Answer for part 2: gsd,kth,qnf,tbt,vpm,z12,z26,z32\n"
     ]
    }
   ],
   "source": [
    "# Ripple-carry adder: to add two integers \n",
    "# All XOR gates that input x__ and y__ cannot every output z__ (unless x00,y00 because the first one is a half adder)\n",
    "\n",
    "# All other XOR gates must output z__\n",
    "\n",
    "# All gates that output z__ must be XOR (except for z45, which is the final carry)\n",
    "\n",
    "# All gates checked in (1) must output to gate checked in (2)\n",
    "\n",
    "# If there are any swaps unaccounted for, manually review\n",
    "\n",
    "# This solution is from @lscddit\n",
    "# https://www.reddit.com/r/adventofcode/comments/1hl698z/2024_day_24_solutions/\n",
    "\n",
    "wires = {}\n",
    "operations = []\n",
    "\n",
    "def process(op, op1, op2):\n",
    "    if op == \"AND\":\n",
    "        return op1 & op2\n",
    "    elif op == \"OR\":\n",
    "        return op1 | op2\n",
    "    elif op == \"XOR\":\n",
    "        return op1 ^ op2\n",
    "\n",
    "highest_z = \"z00\"\n",
    "data = open(\"input_day24.txt\").read().split(\"\\n\")\n",
    "for line in data:\n",
    "    if \":\" in line:\n",
    "        wire, value = line.split(\": \")\n",
    "        wires[wire] = int(value)\n",
    "    elif \"->\" in line:\n",
    "        op1, op, op2, _, res = line.split(\" \")\n",
    "        operations.append((op1, op, op2, res))\n",
    "        if res[0] == \"z\" and int(res[1:]) > int(highest_z[1:]):\n",
    "            highest_z = res\n",
    "\n",
    "wrong = set()\n",
    "for op1, op, op2, res in operations:\n",
    "    if res[0] == \"z\" and op != \"XOR\" and res != highest_z:\n",
    "        wrong.add(res)\n",
    "    if (\n",
    "        op == \"XOR\"\n",
    "        and res[0] not in [\"x\", \"y\", \"z\"]\n",
    "        and op1[0] not in [\"x\", \"y\", \"z\"]\n",
    "        and op2[0] not in [\"x\", \"y\", \"z\"]\n",
    "    ):\n",
    "        wrong.add(res)\n",
    "    if op == \"AND\" and \"x00\" not in [op1, op2]:\n",
    "        for subop1, subop, subop2, subres in operations:\n",
    "            if (res == subop1 or res == subop2) and subop != \"OR\":\n",
    "                wrong.add(res)\n",
    "    if op == \"XOR\":\n",
    "        for subop1, subop, subop2, subres in operations:\n",
    "            if (res == subop1 or res == subop2) and subop == \"OR\":\n",
    "                wrong.add(res)\n",
    "\n",
    "while len(operations):\n",
    "    op1, op, op2, res = operations.pop(0)\n",
    "    if op1 in wires and op2 in wires:\n",
    "        wires[res] = process(op, wires[op1], wires[op2])\n",
    "    else:\n",
    "        operations.append((op1, op, op2, res))\n",
    "\n",
    "bits = [str(wires[wire]) for wire in sorted(wires, reverse=True) if wire[0] == \"z\"]\n",
    "print('Answer for part 1:', int(\"\".join(bits), 2))\n",
    "print('Answer for part 2:', \",\".join(sorted(wrong)))"
   ]
  },
  {
   "cell_type": "code",
   "execution_count": null,
   "id": "ed66f3be",
   "metadata": {},
   "outputs": [],
   "source": []
  }
 ],
 "metadata": {
  "kernelspec": {
   "display_name": "Python 3.11 (tensorflow)",
   "language": "python",
   "name": "tensorflow"
  },
  "language_info": {
   "codemirror_mode": {
    "name": "ipython",
    "version": 3
   },
   "file_extension": ".py",
   "mimetype": "text/x-python",
   "name": "python",
   "nbconvert_exporter": "python",
   "pygments_lexer": "ipython3",
   "version": "3.11.4"
  },
  "toc": {
   "base_numbering": 1,
   "nav_menu": {},
   "number_sections": true,
   "sideBar": true,
   "skip_h1_title": false,
   "title_cell": "Table of Contents",
   "title_sidebar": "Contents",
   "toc_cell": false,
   "toc_position": {},
   "toc_section_display": true,
   "toc_window_display": false
  }
 },
 "nbformat": 4,
 "nbformat_minor": 5
}
