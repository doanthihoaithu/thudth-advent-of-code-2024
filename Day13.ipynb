{
 "cells": [
  {
   "cell_type": "code",
   "execution_count": 1,
   "id": "4e2d5602",
   "metadata": {},
   "outputs": [],
   "source": [
    "import numpy as np"
   ]
  },
  {
   "cell_type": "markdown",
   "id": "76550e5f",
   "metadata": {},
   "source": [
    "# Part 1"
   ]
  },
  {
   "cell_type": "code",
   "execution_count": 110,
   "id": "6fa0bed3",
   "metadata": {},
   "outputs": [
    {
     "name": "stdout",
     "output_type": "stream",
     "text": [
      "1279\n",
      "Answer: 35082\n"
     ]
    }
   ],
   "source": [
    "import re \n",
    "from sympy import symbols, Eq, solve, Symbol\n",
    "with open('input_day13.txt') as file:\n",
    "    lines = file.readlines()\n",
    "    print(len(lines))\n",
    "    buttonA_array = []\n",
    "    buttonB_array = []\n",
    "    target_prizes = []\n",
    "    for i, line in enumerate(lines):\n",
    "#         print(line)\n",
    "        if i % 4 == 0:\n",
    "            numbers = re.findall(r\"\\d+\",line.strip())\n",
    "            buttonA_array.append((int(numbers[0]), int(numbers[1])))\n",
    "        elif i % 4 == 1:\n",
    "            numbers = re.findall(r\"\\d+\",line.strip())\n",
    "            buttonB_array.append((int(numbers[0]), int(numbers[1])))\n",
    "        elif i % 4 == 2:\n",
    "            numbers = re.findall(r\"\\d+\",line.strip())\n",
    "            target_prizes.append((int(numbers[0]), int(numbers[1])))\n",
    "            \n",
    "    counter = 0\n",
    "    for i in range(len(buttonA_array)):\n",
    "        deltaXA, deltaYA = buttonA_array[i]\n",
    "        deltaXB, deltaYB= buttonB_array[i]\n",
    "        targetX, targetY = target_prizes[i]\n",
    "        x = Symbol('x', real=True, positive=True, integer=True)\n",
    "        y = Symbol('y', real=True, positive=True, integer=True)\n",
    "        eq1 = deltaXA*x + deltaXB*y - targetX\n",
    "        eq2 = deltaYA*x + deltaYB*y - targetY\n",
    "        result = solve((eq1,eq2), (x, y))\n",
    "        if isinstance(result, dict):\n",
    "    #         print(result)\n",
    "    #         print(f'Button A: {result[x]} - Button B: {result[y]}')\n",
    "            if result[x] <= 100 and result[y] <= 100:\n",
    "                counter = counter + result[x]*3 + result[y]\n",
    "    print('Answer:', counter)\n",
    "    \n",
    "            "
   ]
  },
  {
   "cell_type": "markdown",
   "id": "a8db920c",
   "metadata": {},
   "source": [
    "# Part 2"
   ]
  },
  {
   "cell_type": "code",
   "execution_count": 111,
   "id": "8aa6ad81",
   "metadata": {},
   "outputs": [
    {
     "name": "stdout",
     "output_type": "stream",
     "text": [
      "1279\n",
      "Answer: 82570698600470\n"
     ]
    }
   ],
   "source": [
    "import re \n",
    "with open('input_day13.txt') as file:\n",
    "    lines = file.readlines()\n",
    "    print(len(lines))\n",
    "    buttonA_array = []\n",
    "    buttonB_array = []\n",
    "    target_prizes = []\n",
    "    for i, line in enumerate(lines):\n",
    "#         print(line)\n",
    "        if i % 4 == 0:\n",
    "            numbers = re.findall(r\"\\d+\",line.strip())\n",
    "            buttonA_array.append((int(numbers[0]), int(numbers[1])))\n",
    "        elif i % 4 == 1:\n",
    "            numbers = re.findall(r\"\\d+\",line.strip())\n",
    "            buttonB_array.append((int(numbers[0]), int(numbers[1])))\n",
    "        elif i % 4 == 2:\n",
    "            numbers = re.findall(r\"\\d+\",line.strip())\n",
    "            target_prizes.append((10**13 + int(numbers[0]), 10**13 + int(numbers[1])))\n",
    "            \n",
    "    counter = 0\n",
    "    for i in range(len(buttonA_array)):\n",
    "        deltaXA, deltaYA = buttonA_array[i]\n",
    "        deltaXB, deltaYB= buttonB_array[i]\n",
    "        targetX, targetY = target_prizes[i]\n",
    "        x = Symbol('x', real=True, positive=True, integer=True)\n",
    "        y = Symbol('y', real=True, positive=True, integer=True)\n",
    "        eq1 = deltaXA*x + deltaXB*y - targetX\n",
    "        eq2 = deltaYA*x + deltaYB*y - targetY\n",
    "        result = solve((eq1,eq2), (x, y))\n",
    "        if isinstance(result, dict):\n",
    "    #         print(f'Button A: {result[x]} - Button B: {result[y]}')\n",
    "            counter = counter + result[x]*3 + result[y]\n",
    "\n",
    "    print('Answer:', counter)"
   ]
  },
  {
   "cell_type": "code",
   "execution_count": null,
   "id": "2da2537c",
   "metadata": {},
   "outputs": [],
   "source": []
  }
 ],
 "metadata": {
  "kernelspec": {
   "display_name": "Python 3.12 (basic)",
   "language": "python",
   "name": "basic"
  },
  "language_info": {
   "codemirror_mode": {
    "name": "ipython",
    "version": 3
   },
   "file_extension": ".py",
   "mimetype": "text/x-python",
   "name": "python",
   "nbconvert_exporter": "python",
   "pygments_lexer": "ipython3",
   "version": "3.12.3"
  },
  "toc": {
   "base_numbering": 1,
   "nav_menu": {},
   "number_sections": true,
   "sideBar": true,
   "skip_h1_title": false,
   "title_cell": "Table of Contents",
   "title_sidebar": "Contents",
   "toc_cell": false,
   "toc_position": {},
   "toc_section_display": true,
   "toc_window_display": false
  }
 },
 "nbformat": 4,
 "nbformat_minor": 5
}
