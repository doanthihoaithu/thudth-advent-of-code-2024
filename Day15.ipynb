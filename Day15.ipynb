{
 "cells": [
  {
   "cell_type": "markdown",
   "id": "11c279c9",
   "metadata": {},
   "source": [
    "# Part 1"
   ]
  },
  {
   "cell_type": "code",
   "execution_count": 38,
   "id": "ea422246",
   "metadata": {},
   "outputs": [],
   "source": [
    "def add_position(current_position, delta):\n",
    "    return (current_position[0]+delta[0], current_position[1] +  delta[1])"
   ]
  },
  {
   "cell_type": "code",
   "execution_count": 65,
   "id": "116b3902",
   "metadata": {},
   "outputs": [],
   "source": [
    "def in_bound(pos, map_matrix):\n",
    "    max_row = map_matrix.shape[0]\n",
    "    max_column = map_matrix.shape[1]\n",
    "    return pos[0] in range(max_row) and pos[1] in range(max_column)"
   ]
  },
  {
   "cell_type": "code",
   "execution_count": 39,
   "id": "d0bd3ff9",
   "metadata": {},
   "outputs": [],
   "source": [
    "def get_delta(move):\n",
    "    if move == '>':\n",
    "        return (0,1)\n",
    "    elif move == '<':\n",
    "        return (0,-1)\n",
    "    elif move == '^':\n",
    "        return (-1,0)\n",
    "    else:\n",
    "        return (1,0)"
   ]
  },
  {
   "cell_type": "code",
   "execution_count": 64,
   "id": "ddbd2b0c",
   "metadata": {},
   "outputs": [
    {
     "name": "stdout",
     "output_type": "stream",
     "text": [
      "(24, 24)\n",
      "Answer: 1360570\n"
     ]
    }
   ],
   "source": [
    "from datetime import datetime\n",
    "import numpy as np\n",
    "with open('input_day15.txt') as file:\n",
    "    lines = file.readlines()\n",
    "    lines = [line for line in lines]\n",
    "    room_map = []\n",
    "    movements = []\n",
    "    for line in lines:\n",
    "        if '#' in line:\n",
    "            room_map.append([c for c in line.strip()])\n",
    "        elif line != '\\n':\n",
    "            movements.extend([c for c in line.strip()])\n",
    "    room_map = np.array(room_map)\n",
    "    \n",
    "    start_position = (0,0)\n",
    "    for i in range(room_map.shape[0]):\n",
    "        for j in range(room_map.shape[1]):\n",
    "            if room_map[i,j] == '@':\n",
    "                start_position = (i,j)\n",
    "                break\n",
    "                \n",
    "    print(start_position)\n",
    "    \n",
    "    current_position = start_position\n",
    "#     print(room_map)\n",
    "    for move in movements:\n",
    "#         print(move)\n",
    "        delta = get_delta(move)\n",
    "        next_position = add_position(current_position, delta)\n",
    "        if in_bound(next_position, room_map) and room_map[next_position] != '#':\n",
    "            if room_map[next_position] == '.':\n",
    "#                 print(f'{move} - Moving @({current_position} to {next_position})')\n",
    "                room_map[current_position] = '.'\n",
    "                room_map[next_position] = '@'\n",
    "                current_position = next_position\n",
    "            elif room_map[next_position] == 'O':\n",
    "                tmp = next_position\n",
    "                while room_map[tmp] == 'O':\n",
    "                    tmp = add_position(tmp, delta)\n",
    "                if room_map[tmp] == '.':\n",
    "#                     print(f'{move} - Moving @({current_position} to {next_position}), Moving O {next_position} to {tmp}')\n",
    "                    room_map[tmp] = 'O'\n",
    "                    room_map[current_position] = '.'\n",
    "                    room_map[next_position] = '@'\n",
    "                    current_position = next_position\n",
    "#             print(room_map)\n",
    "    \n",
    "    counter = 0\n",
    "    for i in range(room_map.shape[0]):\n",
    "        for j in range(room_map.shape[1]):\n",
    "            if room_map[i,j] == 'O':\n",
    "                counter = counter + 100*i + j\n",
    "    print('Answer:', counter)"
   ]
  },
  {
   "cell_type": "markdown",
   "id": "38086dee",
   "metadata": {},
   "source": [
    "# Part 2"
   ]
  },
  {
   "cell_type": "code",
   "execution_count": 72,
   "id": "673c8e0c",
   "metadata": {},
   "outputs": [
    {
     "name": "stdout",
     "output_type": "stream",
     "text": [
      "(4, 4)\n"
     ]
    }
   ],
   "source": [
    "from datetime import datetime\n",
    "import numpy as np\n",
    "with open('input_day15_test_2.txt') as file:\n",
    "    lines = file.readlines()\n",
    "    lines = [line for line in lines]\n",
    "    room_map = []\n",
    "    movements = []\n",
    "    for line in lines:\n",
    "        if '#' in line:\n",
    "            room_map.append([c for c in line.strip()])\n",
    "        elif line != '\\n':\n",
    "            movements.extend([c for c in line.strip()])\n",
    "    room_map = np.array(room_map)\n",
    "    \n",
    "    start_position = (0,0)\n",
    "    for i in range(room_map.shape[0]):\n",
    "        for j in range(room_map.shape[1]):\n",
    "            if room_map[i,j] == '@':\n",
    "                start_position = (i,j)\n",
    "                break\n",
    "                \n",
    "    print(start_position)"
   ]
  },
  {
   "cell_type": "code",
   "execution_count": 73,
   "id": "dac9923d",
   "metadata": {},
   "outputs": [],
   "source": [
    "def get_larger_map(room_map):\n",
    "    total_rows = []\n",
    "    for i in range(room_map.shape[0]):\n",
    "        single_row = []\n",
    "        for j in range(room_map.shape[1]):\n",
    "            if room_map[i,j] == '#':\n",
    "                single_row.extend(['#','#'])\n",
    "            elif room_map[i,j] == 'O':\n",
    "                single_row.extend(['[',']'])\n",
    "            elif room_map[i,j] == '.':\n",
    "                single_row.extend(['.','.'])\n",
    "            elif room_map[i,j] == '@':\n",
    "                single_row.extend(['@','.'])\n",
    "        total_rows.append(single_row)\n",
    "    return np.array(total_rows)"
   ]
  },
  {
   "cell_type": "code",
   "execution_count": 76,
   "id": "1c5f0839",
   "metadata": {},
   "outputs": [
    {
     "name": "stdout",
     "output_type": "stream",
     "text": [
      "####################\n",
      "##....[]....[]..[]##\n",
      "##............[]..##\n",
      "##..[][]....[]..[]##\n",
      "##....[]@.....[]..##\n",
      "##[]##....[]......##\n",
      "##[]....[]....[]..##\n",
      "##..[][]..[]..[][]##\n",
      "##........[]......##\n",
      "####################\n"
     ]
    },
    {
     "data": {
      "text/plain": [
       "[None, None, None, None, None, None, None, None, None, None]"
      ]
     },
     "execution_count": 76,
     "metadata": {},
     "output_type": "execute_result"
    }
   ],
   "source": [
    "extended_map = get_larger_map(room_map)\n",
    "[print(\"\".join(i)) for i in extended_map]"
   ]
  },
  {
   "cell_type": "code",
   "execution_count": 82,
   "id": "12f2efba",
   "metadata": {},
   "outputs": [],
   "source": [
    "def get_box_paired_positions(extended_map, next_position):\n",
    "    if extended_map[next_position] == '[':\n",
    "        return [next_position, (next_position[0], next_position[1]+1)]\n",
    "    elif extended_map[next_position] == ']':\n",
    "        return [(next_position[0], next_position[1]-1), next_position]\n",
    "#     else return []\n",
    "\n",
    "def get_boxes_paired_positions(extended_map, next_positions):\n",
    "    result = []\n",
    "    for p in next_positions:\n",
    "        result.extend(get_box_paired_positions(extended_map, p))\n",
    "\n",
    "def can_push(positions, denta, extended_map):\n",
    "    next_positions = [add_position(p, delta) for p in positions]\n",
    "    for n in next_positions:\n",
    "        if extended_map[n] != '.':\n",
    "            return False\n",
    "    return True\n",
    "\n",
    "def get_next_positions(current_positions, delta, extended_map):\n",
    "    return [add_position(p, delta) for p in current_positions]\n",
    "\n",
    "def contain_box(positions, extended_map):\n",
    "    contain = False\n",
    "    for p in positions:\n",
    "        if extended_map[p] == '[' or extended_map[p] == ']':\n",
    "            contain = True\n",
    "    return contain\n",
    "\n",
    "def build_boxes_tower(current_position, delta, extended_map):\n",
    "    levels = []\n",
    "    next_position = add_position(current_position, denta)\n",
    "    tmp = get_box_paired_positions(extended_map, next_position)\n",
    "    while contain_box(tmp, extended_map):\n",
    "        levels.append(tmp)\n",
    "        next_positions = get_next_positions(tmp)\n",
    "        paired_next_positions = get_box_paired_positions(extended_map, next_position)\n",
    "        tmp = paired_next_positions\n",
    "        \n",
    "    return levels\n",
    "#         if extended_map[next_position] == '[' or extended_map[next_position] == ']'\n",
    "#         box_positions = get_box_paired_positions(extended_map, next_position)\n",
    "#         levels.append(box_positions)\n",
    "    "
   ]
  },
  {
   "cell_type": "code",
   "execution_count": null,
   "id": "adaf8231",
   "metadata": {},
   "outputs": [],
   "source": [
    "for move in movements:\n",
    "#         print(move)\n",
    "        delta = get_delta(move)\n",
    "#         next_position = add_position(current_position, delta)\n",
    "        levels = build_boxes_tower(current_position, delta, extended_map)\n",
    "        if len(levels) == 0:\n",
    "            \n",
    "        else:\n",
    "            if can_push(levels[-1], delta, extended_map):\n",
    "                move_box_tower(levels, extended_map, current_position)\n",
    "    \n",
    "        if in_bound(next_position, extended_map) and extended_map[next_position] != '#':\n",
    "            if room_map[next_position] == '.':\n",
    "#                 print(f'{move} - Moving @({current_position} to {next_position})')\n",
    "                room_map[current_position] = '.'\n",
    "                room_map[next_position] = '@'\n",
    "                current_position = next_position\n",
    "            elif room_map[next_position] == '[' or room_map[next_position] == ']' :\n",
    "                tmp = next_position\n",
    "                while room_map[tmp] == 'O':\n",
    "                    tmp = add_position(tmp, delta)\n",
    "                if room_map[tmp] == '.':\n",
    "#                     print(f'{move} - Moving @({current_position} to {next_position}), Moving O {next_position} to {tmp}')\n",
    "                    room_map[tmp] = 'O'\n",
    "                    room_map[current_position] = '.'\n",
    "                    room_map[next_position] = '@'\n",
    "                    current_position = next_position\n",
    "#             print(room_map)"
   ]
  },
  {
   "cell_type": "code",
   "execution_count": 75,
   "id": "b08f44ac",
   "metadata": {},
   "outputs": [
    {
     "data": {
      "text/plain": [
       "(10, 20)"
      ]
     },
     "execution_count": 75,
     "metadata": {},
     "output_type": "execute_result"
    }
   ],
   "source": [
    "extended_map.shape"
   ]
  },
  {
   "cell_type": "code",
   "execution_count": 61,
   "id": "65c70dd5",
   "metadata": {},
   "outputs": [
    {
     "data": {
      "text/plain": [
       "20000"
      ]
     },
     "execution_count": 61,
     "metadata": {},
     "output_type": "execute_result"
    }
   ],
   "source": [
    "len(movements)"
   ]
  },
  {
   "cell_type": "code",
   "execution_count": 62,
   "id": "38e6ddb0",
   "metadata": {},
   "outputs": [
    {
     "data": {
      "text/plain": [
       "1360570"
      ]
     },
     "execution_count": 62,
     "metadata": {},
     "output_type": "execute_result"
    }
   ],
   "source": [
    "counter"
   ]
  },
  {
   "cell_type": "code",
   "execution_count": 29,
   "id": "8bf5072d",
   "metadata": {},
   "outputs": [],
   "source": []
  },
  {
   "cell_type": "code",
   "execution_count": 30,
   "id": "cf9b594a",
   "metadata": {},
   "outputs": [
    {
     "data": {
      "text/plain": [
       "array([['#', '#', '#', ..., '#', '#', '#'],\n",
       "       ['#', '.', '.', ..., 'O', 'O', '#'],\n",
       "       ['#', '.', '.', ..., 'O', 'O', '#'],\n",
       "       ...,\n",
       "       ['#', '.', 'O', ..., '.', '.', '#'],\n",
       "       ['#', '.', '.', ..., '.', '.', '#'],\n",
       "       ['#', '#', '#', ..., '#', '#', '#']], dtype='<U1')"
      ]
     },
     "execution_count": 30,
     "metadata": {},
     "output_type": "execute_result"
    }
   ],
   "source": [
    "room_map"
   ]
  },
  {
   "cell_type": "code",
   "execution_count": null,
   "id": "cc88ac90",
   "metadata": {},
   "outputs": [],
   "source": []
  }
 ],
 "metadata": {
  "kernelspec": {
   "display_name": "Python 3.12 (basic)",
   "language": "python",
   "name": "basic"
  },
  "language_info": {
   "codemirror_mode": {
    "name": "ipython",
    "version": 3
   },
   "file_extension": ".py",
   "mimetype": "text/x-python",
   "name": "python",
   "nbconvert_exporter": "python",
   "pygments_lexer": "ipython3",
   "version": "3.12.3"
  },
  "toc": {
   "base_numbering": 1,
   "nav_menu": {},
   "number_sections": true,
   "sideBar": true,
   "skip_h1_title": false,
   "title_cell": "Table of Contents",
   "title_sidebar": "Contents",
   "toc_cell": false,
   "toc_position": {},
   "toc_section_display": true,
   "toc_window_display": false
  }
 },
 "nbformat": 4,
 "nbformat_minor": 5
}
