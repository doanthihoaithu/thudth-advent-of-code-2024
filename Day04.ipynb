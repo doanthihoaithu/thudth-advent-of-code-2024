{
 "cells": [
  {
   "cell_type": "markdown",
   "id": "842abea3",
   "metadata": {},
   "source": [
    "# Part 1"
   ]
  },
  {
   "cell_type": "code",
   "execution_count": 55,
   "id": "fd354bd8",
   "metadata": {},
   "outputs": [
    {
     "name": "stdout",
     "output_type": "stream",
     "text": [
      "(140, 140)\n"
     ]
    }
   ],
   "source": [
    "import numpy as np\n",
    "\n",
    "# Load charaters in files to 2D matrix\n",
    "with open('input_day04.txt') as file:\n",
    "    lines = file.readlines()\n",
    "    lines = [[c for c in line.strip()] for line in lines]\n",
    "    x = np.array(lines)\n",
    "    print(x.shape)"
   ]
  },
  {
   "cell_type": "code",
   "execution_count": 60,
   "id": "82717b9c",
   "metadata": {},
   "outputs": [],
   "source": [
    "s1 = 'XMAS'\n",
    "s2 = 'SAMX'\n",
    "\n",
    "\n",
    "# Scan 4 directions: go right , go down, go diagonally down to the left, go diagonally down to the right\n",
    "\n",
    "def check_horizontal_forward(s: str, row: int, col:int, matrix):\n",
    "    length = len(s)\n",
    "    if get_string(matrix[row, col: col+ length]) == s:\n",
    "        return 1\n",
    "    else:\n",
    "        return 0\n",
    "def check_vertical_downward(s: str, row: int, col:int, matrix):\n",
    "    length = len(s)\n",
    "    if get_string(matrix[row:row+length, col]) == s:\n",
    "        return 1\n",
    "    else:\n",
    "        return 0\n",
    "\n",
    "def check_diagonal_right_down(s: str, row: int, col:int, matrix):\n",
    "    length = len(s)\n",
    "    if row <= matrix.shape[0]-length and col<=matrix.shape[1]-length:\n",
    "        extracted_string = \"\".join([matrix[row + k, col + k] for k in range(length)])\n",
    "        if extracted_string == s:\n",
    "            return 1\n",
    "        else:\n",
    "            return 0\n",
    "    else:\n",
    "        return 0\n",
    "    \n",
    "def check_diagonal_left_down(s: str, row: int, col:int, matrix):\n",
    "    length = len(s)\n",
    "    if col >= 3 and row <= matrix.shape[0]-length:\n",
    "        extracted_string = \"\".join([matrix[row + k, col - k] for k in range(length)])\n",
    "        if extracted_string == s:\n",
    "            return 1\n",
    "        else:\n",
    "            return 0\n",
    "    else:\n",
    "        return 0"
   ]
  },
  {
   "cell_type": "code",
   "execution_count": 61,
   "id": "db2eaff7",
   "metadata": {},
   "outputs": [
    {
     "name": "stdout",
     "output_type": "stream",
     "text": [
      "Answer: 2468\n"
     ]
    }
   ],
   "source": [
    "rows = x.shape[0]\n",
    "columns = x.shape[1]\n",
    "counter = 0\n",
    "\n",
    "for i in range(rows):\n",
    "    for j in range(columns):\n",
    "        counter = counter + check_horizontal_forward(s1,i,j, x)\n",
    "        counter = counter + check_horizontal_forward(s2,i,j, x)\n",
    "        counter = counter + check_vertical_downward(s1,i,j, x)\n",
    "        counter = counter + check_vertical_downward(s2,i,j, x)\n",
    "        counter = counter + check_diagonal_right_down(s1,i,j, x)\n",
    "        counter = counter + check_diagonal_right_down(s2,i,j, x)\n",
    "        counter = counter + check_diagonal_left_down(s1,i,j, x)\n",
    "        counter = counter + check_diagonal_left_down(s2,i,j, x)\n",
    "print('Answer:', counter)"
   ]
  },
  {
   "cell_type": "markdown",
   "id": "2ab2bbb3",
   "metadata": {},
   "source": [
    "# Part 2"
   ]
  },
  {
   "cell_type": "code",
   "execution_count": 63,
   "id": "06cfa552",
   "metadata": {},
   "outputs": [
    {
     "name": "stdout",
     "output_type": "stream",
     "text": [
      "(140, 140)\n"
     ]
    },
    {
     "data": {
      "text/plain": [
       "array([['M', 'A', 'M', ..., 'A', 'M', 'X'],\n",
       "       ['M', 'S', 'M', ..., 'A', 'A', 'X'],\n",
       "       ['X', 'A', 'A', ..., 'M', 'M', 'S'],\n",
       "       ...,\n",
       "       ['S', 'M', 'X', ..., 'M', 'A', 'A'],\n",
       "       ['A', 'A', 'A', ..., 'M', 'S', 'M'],\n",
       "       ['M', 'M', 'M', ..., 'M', 'X', 'X']], dtype='<U1')"
      ]
     },
     "execution_count": 63,
     "metadata": {},
     "output_type": "execute_result"
    }
   ],
   "source": [
    "import numpy as np\n",
    "\n",
    "# Load charaters in files to 2D matrix\n",
    "with open('input_day04.txt') as file:\n",
    "    lines = file.readlines()\n",
    "    lines = [[c for c in line.strip()] for line in lines]\n",
    "    x = np.array(lines)\n",
    "    print(x.shape)\n",
    "\n",
    "x"
   ]
  },
  {
   "cell_type": "code",
   "execution_count": 66,
   "id": "6d75cf95",
   "metadata": {},
   "outputs": [
    {
     "name": "stdout",
     "output_type": "stream",
     "text": [
      "Answer: 1864\n"
     ]
    }
   ],
   "source": [
    "counter = 0\n",
    "for i in range(1, x.shape[0]-1):\n",
    "    for j in range(1, x.shape[1]-1):\n",
    "        if x[i,j] == 'A':\n",
    "            array_1 = [x[i-1,j-1],x[i,j],x[i+1,j+1]]\n",
    "            diagonal_str_1 = \"\".join(array_1)\n",
    "            array_2 = [x[i-1,j+1],x[i,j],x[i+1,j-1]]\n",
    "            diagonal_str_2 = \"\".join(array_2)\n",
    "            if diagonal_str_1 in ['MAS','SAM'] and diagonal_str_2 in ['MAS','SAM']:\n",
    "                counter = counter +1\n",
    "print('Answer:', counter)"
   ]
  }
 ],
 "metadata": {
  "kernelspec": {
   "display_name": "TimeEval (Python 3.8)",
   "language": "python",
   "name": "timeeval"
  },
  "language_info": {
   "codemirror_mode": {
    "name": "ipython",
    "version": 3
   },
   "file_extension": ".py",
   "mimetype": "text/x-python",
   "name": "python",
   "nbconvert_exporter": "python",
   "pygments_lexer": "ipython3",
   "version": "3.8.19"
  },
  "toc": {
   "base_numbering": 1,
   "nav_menu": {},
   "number_sections": true,
   "sideBar": true,
   "skip_h1_title": false,
   "title_cell": "Table of Contents",
   "title_sidebar": "Contents",
   "toc_cell": false,
   "toc_position": {},
   "toc_section_display": true,
   "toc_window_display": false
  }
 },
 "nbformat": 4,
 "nbformat_minor": 5
}
