{
 "cells": [
  {
   "cell_type": "markdown",
   "id": "5ffef401",
   "metadata": {},
   "source": [
    "# Part 1"
   ]
  },
  {
   "cell_type": "code",
   "execution_count": 105,
   "id": "5e4c2f31",
   "metadata": {},
   "outputs": [
    {
     "name": "stdout",
     "output_type": "stream",
     "text": [
      "Initialized registers: 47792830 0 0\n",
      "Program: [2, 4, 1, 5, 7, 5, 1, 6, 4, 3, 5, 5, 0, 3, 3, 0]\n",
      "Answer: 2,1,3,0,5,2,3,7,1\n"
     ]
    }
   ],
   "source": [
    "from datetime import datetime\n",
    "import numpy as np\n",
    "import re\n",
    "\n",
    "with open('input_day17.txt') as file:\n",
    "    lines = file.readlines()\n",
    "    lines = [line.strip() for line in lines]\n",
    "    register_A = int(re.findall(r'(\\d+)', lines[0])[0])\n",
    "    register_B = int(re.findall(r'(\\d+)', lines[1])[0])\n",
    "    register_C = int(re.findall(r'(\\d+)', lines[2])[0])\n",
    "    program =[int(i) for i in lines[4].replace('Program: ','').split(',')]\n",
    "    print('Initialized registers:',register_A, register_B, register_C)\n",
    "    print(\"Program:\", program)\n",
    "       \n",
    "def execute_program(program, register_A, register_B, register_C):\n",
    "    instruction_pointer = 0\n",
    "    output = []\n",
    "    while instruction_pointer < len(program):\n",
    "        opcode = program[instruction_pointer]\n",
    "        operand = program[instruction_pointer+1]\n",
    "\n",
    "        operand_value = -1\n",
    "        if operand < 4:\n",
    "            operand_value = operand\n",
    "        elif operand == 4:\n",
    "            operand_value = register_A\n",
    "        elif operand == 5:\n",
    "            operand_value = register_B\n",
    "        elif operand == 6: \n",
    "            operand_value = register_C\n",
    "\n",
    "        if opcode == 0:\n",
    "            result = int(register_A/(2**operand_value))\n",
    "            register_A = result\n",
    "            instruction_pointer = instruction_pointer + 2\n",
    "        elif opcode == 1:\n",
    "            register_B = register_B ^ operand\n",
    "            instruction_pointer = instruction_pointer + 2\n",
    "        elif opcode == 2:\n",
    "            register_B = operand_value % 8\n",
    "            instruction_pointer = instruction_pointer + 2\n",
    "        elif opcode == 3:\n",
    "            if register_A == 0:\n",
    "#                 print('Do nothing')\n",
    "                instruction_pointer = instruction_pointer + 2\n",
    "            else:\n",
    "                instruction_pointer = operand\n",
    "        elif opcode == 4:\n",
    "            register_B = register_B ^ register_C\n",
    "            instruction_pointer = instruction_pointer + 2\n",
    "        elif opcode == 5:\n",
    "            output.append(operand_value % 8)\n",
    "            instruction_pointer = instruction_pointer + 2\n",
    "        elif opcode == 6:\n",
    "            result = int(register_A/(2**operand_value))\n",
    "            register_B = result\n",
    "            instruction_pointer = instruction_pointer + 2\n",
    "        elif opcode == 7:\n",
    "            result = int(register_A/(2**operand_value))\n",
    "            register_C = result\n",
    "            instruction_pointer = instruction_pointer + 2\n",
    "\n",
    "    #     print(f'Ins number: {index}, Opcode: {opcode}, Operand: {operand}, {operand_value}')\n",
    "\n",
    "    return output, register_A, register_B, register_C\n",
    "\n",
    "output, register_A, register_B, register_C = execute_program(program, register_A, register_B, register_C)\n",
    "# output, register_A, register_B, register_C\n",
    "print('Answer:',','.join([str(i) for i in output]))"
   ]
  },
  {
   "cell_type": "markdown",
   "id": "83ca3ce1",
   "metadata": {},
   "source": [
    "# Part 2"
   ]
  },
  {
   "cell_type": "code",
   "execution_count": 106,
   "id": "8b0fad8b",
   "metadata": {},
   "outputs": [
    {
     "name": "stdout",
     "output_type": "stream",
     "text": [
      "Initialized registers: 47792830 0 0\n",
      "Program: [2, 4, 1, 5, 7, 5, 1, 6, 4, 3, 5, 5, 0, 3, 3, 0]\n"
     ]
    }
   ],
   "source": [
    "with open('input_day17.txt') as file:\n",
    "    lines = file.readlines()\n",
    "    lines = [line.strip() for line in lines]\n",
    "    register_A = int(re.findall(r'(\\d+)', lines[0])[0])\n",
    "    register_B = int(re.findall(r'(\\d+)', lines[1])[0])\n",
    "    register_C = int(re.findall(r'(\\d+)', lines[2])[0])\n",
    "    program =[int(i) for i in lines[4].replace('Program: ','').split(',')]\n",
    "    print('Initialized registers:',register_A, register_B, register_C)\n",
    "    print(\"Program:\", program)"
   ]
  },
  {
   "cell_type": "code",
   "execution_count": 107,
   "id": "a08ec0a9",
   "metadata": {},
   "outputs": [
    {
     "name": "stdout",
     "output_type": "stream",
     "text": [
      "Answer: 107416732707226\n"
     ]
    },
    {
     "data": {
      "text/plain": [
       "True"
      ]
     },
     "execution_count": 107,
     "metadata": {},
     "output_type": "execute_result"
    }
   ],
   "source": [
    "#This solution is from Boojum \n",
    "#https://www.reddit.com/r/adventofcode/comments/1hg38ah/2024_day_17_solutions/\n",
    "g = program\n",
    "\n",
    "def solve( p, r ):\n",
    "    if p < 0:\n",
    "        print(\"Answer:\", r)\n",
    "        return True\n",
    "    for d in range( 8 ):\n",
    "        a, i = r << 3 | d, 0\n",
    "        while i < len(g):\n",
    "            if   g[ i + 1 ] <= 3: o = g[ i + 1 ]\n",
    "            elif g[ i + 1 ] == 4: o = a\n",
    "            elif g[ i + 1 ] == 5: o = b\n",
    "            elif g[ i + 1 ] == 6: o = c\n",
    "            if   g[ i ] == 0: a >>= o\n",
    "            elif g[ i ] == 1: b  ^= g[ i + 1 ]\n",
    "            elif g[ i ] == 2: b   = o & 7\n",
    "            elif g[ i ] == 3: i   = g[ i + 1 ] - 2 if a != 0 else i\n",
    "            elif g[ i ] == 4: b  ^= c\n",
    "            elif g[ i ] == 5: w   = o & 7; break\n",
    "            elif g[ i ] == 6: b   = a >> o\n",
    "            elif g[ i ] == 7: c   = a >> o\n",
    "            i += 2\n",
    "        if w == g[ p ] and solve( p - 1, r << 3 | d ):\n",
    "            return True\n",
    "    return False\n",
    "\n",
    "solve( len( g ) - 1, 0 )"
   ]
  }
 ],
 "metadata": {
  "kernelspec": {
   "display_name": "Python 3.12 (basic)",
   "language": "python",
   "name": "basic"
  },
  "language_info": {
   "codemirror_mode": {
    "name": "ipython",
    "version": 3
   },
   "file_extension": ".py",
   "mimetype": "text/x-python",
   "name": "python",
   "nbconvert_exporter": "python",
   "pygments_lexer": "ipython3",
   "version": "3.12.3"
  },
  "toc": {
   "base_numbering": 1,
   "nav_menu": {},
   "number_sections": true,
   "sideBar": true,
   "skip_h1_title": false,
   "title_cell": "Table of Contents",
   "title_sidebar": "Contents",
   "toc_cell": false,
   "toc_position": {},
   "toc_section_display": true,
   "toc_window_display": false
  }
 },
 "nbformat": 4,
 "nbformat_minor": 5
}
