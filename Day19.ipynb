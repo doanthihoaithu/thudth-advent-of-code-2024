{
 "cells": [
  {
   "cell_type": "markdown",
   "id": "66982386",
   "metadata": {},
   "source": [
    "# Part 1"
   ]
  },
  {
   "cell_type": "code",
   "execution_count": 46,
   "id": "9c6cb93b",
   "metadata": {},
   "outputs": [],
   "source": [
    "def is_possible(s, dictionary, patterns, left, right):\n",
    "    if (left, right) in dictionary:\n",
    "        return dictionary.get((left, right))\n",
    "    elif s[left: right+1] in patterns:\n",
    "        dictionary[(left, right)] = True\n",
    "        return True\n",
    "    else:\n",
    "\n",
    "        possible = False\n",
    "        for i in range(left, right):\n",
    "            k = is_possible(s, dictionary, patterns, left, i) and is_possible(s, dictionary, patterns, i+1, right)\n",
    "            if k == True:\n",
    "                dictionary[(left, right)] = True\n",
    "                return True\n",
    "\n",
    "        dictionary[(left, right)] = False\n",
    "        return False"
   ]
  },
  {
   "cell_type": "code",
   "execution_count": 50,
   "id": "0a9c45a3",
   "metadata": {},
   "outputs": [
    {
     "name": "stdout",
     "output_type": "stream",
     "text": [
      "Number of patterns: 447\n",
      "Number of designs 400\n",
      "Answer: 290\n"
     ]
    }
   ],
   "source": [
    "from datetime import datetime\n",
    "import numpy as np\n",
    "with open('input_day19.txt') as file:\n",
    "    lines = file.readlines()\n",
    "    patterns = lines[0].strip().split(', ')\n",
    "    print('Number of patterns:', len(patterns))\n",
    "    \n",
    "    towel_designs = []\n",
    "    for i in range(2, len(lines)):\n",
    "        towel_designs.append(lines[i].strip())\n",
    "    print('Number of designs', len(towel_designs))\n",
    "\n",
    "    \n",
    "    counter = 0\n",
    "    for index, d in enumerate(towel_designs):\n",
    "#         print(index, d)\n",
    "        dictionary = dict()\n",
    "        possible = is_possible(d, dictionary, patterns, 0, len(d)-1)\n",
    "        if possible:\n",
    "            counter = counter + 1\n",
    "    print('Answer:', counter)"
   ]
  },
  {
   "cell_type": "markdown",
   "id": "0879075a",
   "metadata": {},
   "source": [
    "# Part 2"
   ]
  },
  {
   "cell_type": "code",
   "execution_count": 68,
   "id": "2aa3fa1f",
   "metadata": {},
   "outputs": [
    {
     "name": "stdout",
     "output_type": "stream",
     "text": [
      "Number of patterns: 447\n",
      "Number of designs 400\n",
      "Answer for part 1: 290\n",
      "Answer for part 2: 712058625427487\n"
     ]
    }
   ],
   "source": [
    "# This solution is collected from @nameIsEly\n",
    "# https://www.reddit.com/r/adventofcode/comments/1hhlb8g/2024_day_19_solutions/\n",
    "# A different approach compared to my solution in part 1, but can work for both part 1 and part 2\n",
    "# My solution can only return True or False, not the number of possible combinations\n",
    "# s[:i] = sum(s[:j] + in_dictionary[j:i]) for j in [1,i-1]\n",
    "\n",
    "\n",
    "def canForm(s, dictionary, maxLen):\n",
    "    n = len(s)\n",
    "    dp = [0] * (n + 1)\n",
    "    dp[0] = 1\n",
    "    for i in range(1, n + 1):\n",
    "        for j in range(i - 1, max(i - maxLen - 1, -1), -1):\n",
    "            # dp[j] represents the number of ways we can form s[:j]\n",
    "            if dp[j] and s[j:i] in dictionary:\n",
    "                dp[i] += dp[j]\n",
    "                # break # only need to know if s[:j] is possible for part 1\n",
    "    return dp[n]\n",
    "    \n",
    "with open('input_day19.txt') as file:\n",
    "    lines = file.readlines()\n",
    "    patterns = lines[0].strip().split(', ')\n",
    "    print('Number of patterns:', len(patterns))\n",
    "    \n",
    "    dictionary = set()\n",
    "    maxLen = 0\n",
    "    for s in patterns:\n",
    "        maxLen = max(maxLen,len(s)) # just to help\n",
    "        dictionary.add(s)\n",
    "    \n",
    "    towel_designs = []\n",
    "    for i in range(2, len(lines)):\n",
    "        towel_designs.append(lines[i].strip())\n",
    "    print('Number of designs', len(towel_designs))\n",
    "    \n",
    "#     words = towel_designs\n",
    "    \n",
    "# Part 1\n",
    "print('Answer for part 1:', sum(canForm(design, dictionary, maxLen) > 0 for design in towel_designs))\n",
    "\n",
    "# Part 2\n",
    "print('Answer for part 2:', sum(canForm(design, dictionary, maxLen) for design in towel_designs))"
   ]
  },
  {
   "cell_type": "code",
   "execution_count": null,
   "id": "4dd8f8b0",
   "metadata": {},
   "outputs": [],
   "source": []
  }
 ],
 "metadata": {
  "kernelspec": {
   "display_name": "Python 3.12 (basic)",
   "language": "python",
   "name": "basic"
  },
  "language_info": {
   "codemirror_mode": {
    "name": "ipython",
    "version": 3
   },
   "file_extension": ".py",
   "mimetype": "text/x-python",
   "name": "python",
   "nbconvert_exporter": "python",
   "pygments_lexer": "ipython3",
   "version": "3.12.3"
  },
  "toc": {
   "base_numbering": 1,
   "nav_menu": {},
   "number_sections": true,
   "sideBar": true,
   "skip_h1_title": false,
   "title_cell": "Table of Contents",
   "title_sidebar": "Contents",
   "toc_cell": false,
   "toc_position": {},
   "toc_section_display": true,
   "toc_window_display": false
  }
 },
 "nbformat": 4,
 "nbformat_minor": 5
}
