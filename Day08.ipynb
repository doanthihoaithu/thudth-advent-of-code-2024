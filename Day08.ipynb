{
 "cells": [
  {
   "cell_type": "code",
   "execution_count": 2,
   "id": "ab38cf4c",
   "metadata": {},
   "outputs": [],
   "source": [
    "import numpy as np"
   ]
  },
  {
   "cell_type": "code",
   "execution_count": 113,
   "id": "d597cf69",
   "metadata": {},
   "outputs": [
    {
     "name": "stdout",
     "output_type": "stream",
     "text": [
      "(50, 50)\n"
     ]
    }
   ],
   "source": [
    "with open('input_day08.txt') as file:\n",
    "    frequency_dictionary = dict()\n",
    "    lines = file.readlines()\n",
    "    city_map = []\n",
    "    for i , line in enumerate(lines):\n",
    "        line = line.strip()\n",
    "        character_array = []\n",
    "        for j, character in enumerate(line):\n",
    "            character_array.append(character)\n",
    "            if character != '.':\n",
    "#                 print(character)\n",
    "                if frequency_dictionary.get(character) == None:\n",
    "                    frequency_dictionary[character] = []\n",
    "                    frequency_dictionary[character].append((i,j))\n",
    "                else:\n",
    "                    frequency_dictionary[character].append((i,j))\n",
    "        city_map.append(character_array)\n",
    "                \n",
    "#     lines = [[c for c in line.strip()] for line in lines]\n",
    "    city_map = np.array(city_map)\n",
    "    antinodes_map = np.zeros(city_map.shape).astype(bool)\n",
    "    print(city_map.shape)"
   ]
  },
  {
   "cell_type": "code",
   "execution_count": 114,
   "id": "88e266f8",
   "metadata": {},
   "outputs": [
    {
     "data": {
      "text/plain": [
       "dict_keys(['n', 'L', 'Y', 'm', 'l', 'T', 'e', 'M', 'y', 'i', '2', 'h', 'd', '5', 'o', 'C', 'p', 'I', '8', 'w', 'N', 'F', 'D', 'U', 'X', 'c', 'A', '6', 'P', 'B', 'u', 'f', 'x', 's', 'W', 'S', 'H', '7', '3', 'O', 'a', 'E', '0', 't', '9', '1', 'b', '4'])"
      ]
     },
     "execution_count": 114,
     "metadata": {},
     "output_type": "execute_result"
    }
   ],
   "source": [
    "frequency_dictionary.keys()"
   ]
  },
  {
   "cell_type": "code",
   "execution_count": 115,
   "id": "097a0ff9",
   "metadata": {},
   "outputs": [
    {
     "data": {
      "text/plain": [
       "array([['.', '.', '.', ..., '.', '.', '.'],\n",
       "       ['.', '.', '.', ..., '.', '.', '.'],\n",
       "       ['.', '.', '.', ..., '.', '.', '.'],\n",
       "       ...,\n",
       "       ['.', '.', '.', ..., '.', '.', '.'],\n",
       "       ['.', '.', '.', ..., '.', '.', '.'],\n",
       "       ['.', '.', '.', ..., '.', '.', '.']], dtype='<U1')"
      ]
     },
     "execution_count": 115,
     "metadata": {},
     "output_type": "execute_result"
    }
   ],
   "source": [
    "city_map"
   ]
  },
  {
   "cell_type": "code",
   "execution_count": 116,
   "id": "c0864752",
   "metadata": {},
   "outputs": [],
   "source": [
    "def check_out_of_map(position, antinodes_map):\n",
    "    row, column = position\n",
    "    max_row = antinodes_map.shape[0]\n",
    "    max_column = antinodes_map.shape[1]\n",
    "    if row <= -1 or row >= max_row or column <= -1 or column >= max_column:\n",
    "        return True\n",
    "    return False"
   ]
  },
  {
   "cell_type": "code",
   "execution_count": 117,
   "id": "b2dc23b5",
   "metadata": {},
   "outputs": [
    {
     "data": {
      "text/plain": [
       "((-1, -1), (3, 5))"
      ]
     },
     "execution_count": 117,
     "metadata": {},
     "output_type": "execute_result"
    }
   ],
   "source": [
    "def subtract_postion(first, second):\n",
    "    return tuple(map(lambda i, j: i - j, first, second))\n",
    "\n",
    "def add_postion(first, second):\n",
    "    return tuple(map(lambda i, j: i + j, first, second))\n",
    "subtract_postion((1,2), (2,3)), add_postion((1,2), (2,3))"
   ]
  },
  {
   "cell_type": "code",
   "execution_count": 118,
   "id": "ed5dcf27",
   "metadata": {},
   "outputs": [],
   "source": [
    "def set_antinodes(antennas_indexes, antinodes_map):\n",
    "    length = len(antennas_indexes)\n",
    "    for i in range(length):\n",
    "        for j in range(i+1,length):\n",
    "            first_antennas = antennas_indexes[i]\n",
    "            second_antennas = antennas_indexes[j]\n",
    "            first_antinode = subtract_postion(first_antennas,subtract_postion(second_antennas,first_antennas))\n",
    "            second_antinode = add_postion(second_antennas, subtract_postion(second_antennas,first_antennas))\n",
    "            print(first_antennas, second_antennas, first_antinode, second_antinode)\n",
    "            if check_out_of_map(first_antinode, antinodes_map) == False:\n",
    "                antinodes_map[first_antinode] = True\n",
    "            if check_out_of_map(second_antinode, antinodes_map) == False:\n",
    "                antinodes_map[second_antinode] = True"
   ]
  },
  {
   "cell_type": "code",
   "execution_count": 119,
   "id": "ad416fc8",
   "metadata": {},
   "outputs": [
    {
     "name": "stdout",
     "output_type": "stream",
     "text": [
      "(0, 16) (2, 13) (-2, 19) (4, 10)\n",
      "(0, 16) (9, 9) (-9, 23) (18, 2)\n",
      "(0, 16) (11, 20) (-11, 12) (22, 24)\n",
      "(2, 13) (9, 9) (-5, 17) (16, 5)\n",
      "(2, 13) (11, 20) (-7, 6) (20, 27)\n",
      "(9, 9) (11, 20) (7, -2) (13, 31)\n",
      "(0, 33) (4, 34) (-4, 32) (8, 35)\n",
      "(0, 33) (17, 41) (-17, 25) (34, 49)\n",
      "(4, 34) (17, 41) (-9, 27) (30, 48)\n",
      "(0, 36) (5, 35) (-5, 37) (10, 34)\n",
      "(0, 36) (17, 24) (-17, 48) (34, 12)\n",
      "(0, 36) (24, 43) (-24, 29) (48, 50)\n",
      "(5, 35) (17, 24) (-7, 46) (29, 13)\n",
      "(5, 35) (24, 43) (-14, 27) (43, 51)\n",
      "(17, 24) (24, 43) (10, 5) (31, 62)\n",
      "(1, 8) (3, 17) (-1, -1) (5, 26)\n",
      "(1, 8) (8, 20) (-6, -4) (15, 32)\n",
      "(1, 8) (12, 15) (-10, 1) (23, 22)\n",
      "(3, 17) (8, 20) (-2, 14) (13, 23)\n",
      "(3, 17) (12, 15) (-6, 19) (21, 13)\n",
      "(8, 20) (12, 15) (4, 25) (16, 10)\n",
      "(2, 43) (5, 44) (-1, 42) (8, 45)\n",
      "(2, 43) (15, 31) (-11, 55) (28, 19)\n",
      "(5, 44) (15, 31) (-5, 57) (25, 18)\n",
      "(3, 15) (4, 11) (2, 19) (5, 7)\n",
      "(3, 15) (7, 18) (-1, 12) (11, 21)\n",
      "(3, 15) (14, 14) (-8, 16) (25, 13)\n",
      "(4, 11) (7, 18) (1, 4) (10, 25)\n",
      "(4, 11) (14, 14) (-6, 8) (24, 17)\n",
      "(7, 18) (14, 14) (0, 22) (21, 10)\n",
      "(3, 20) (5, 21) (1, 19) (7, 22)\n",
      "(3, 20) (10, 14) (-4, 26) (17, 8)\n",
      "(3, 20) (24, 3) (-18, 37) (45, -14)\n",
      "(5, 21) (10, 14) (0, 28) (15, 7)\n",
      "(5, 21) (24, 3) (-14, 39) (43, -15)\n",
      "(10, 14) (24, 3) (-4, 25) (38, -8)\n",
      "(3, 25) (10, 30) (-4, 20) (17, 35)\n",
      "(3, 25) (14, 19) (-8, 31) (25, 13)\n",
      "(3, 25) (15, 38) (-9, 12) (27, 51)\n",
      "(10, 30) (14, 19) (6, 41) (18, 8)\n",
      "(10, 30) (15, 38) (5, 22) (20, 46)\n",
      "(14, 19) (15, 38) (13, 0) (16, 57)\n",
      "(4, 14) (13, 21) (-5, 7) (22, 28)\n",
      "(4, 14) (17, 26) (-9, 2) (30, 38)\n",
      "(13, 21) (17, 26) (9, 16) (21, 31)\n",
      "(4, 26) (6, 19) (2, 33) (8, 12)\n",
      "(4, 26) (7, 30) (1, 22) (10, 34)\n",
      "(4, 26) (31, 31) (-23, 21) (58, 36)\n",
      "(6, 19) (7, 30) (5, 8) (8, 41)\n",
      "(6, 19) (31, 31) (-19, 7) (56, 43)\n",
      "(7, 30) (31, 31) (-17, 29) (55, 32)\n",
      "(4, 40) (8, 37) (0, 43) (12, 34)\n",
      "(4, 40) (15, 26) (-7, 54) (26, 12)\n",
      "(4, 40) (25, 23) (-17, 57) (46, 6)\n",
      "(8, 37) (15, 26) (1, 48) (22, 15)\n",
      "(8, 37) (25, 23) (-9, 51) (42, 9)\n",
      "(15, 26) (25, 23) (5, 29) (35, 20)\n",
      "(5, 27) (15, 30) (-5, 24) (25, 33)\n",
      "(5, 27) (16, 21) (-6, 33) (27, 15)\n",
      "(5, 27) (18, 26) (-8, 28) (31, 25)\n",
      "(15, 30) (16, 21) (14, 39) (17, 12)\n",
      "(15, 30) (18, 26) (12, 34) (21, 22)\n",
      "(16, 21) (18, 26) (14, 16) (20, 31)\n",
      "(6, 26) (9, 21) (3, 31) (12, 16)\n",
      "(6, 26) (10, 23) (2, 29) (14, 20)\n",
      "(6, 26) (17, 22) (-5, 30) (28, 18)\n",
      "(9, 21) (10, 23) (8, 19) (11, 25)\n",
      "(9, 21) (17, 22) (1, 20) (25, 23)\n",
      "(10, 23) (17, 22) (3, 24) (24, 21)\n",
      "(7, 3) (8, 8) (6, -2) (9, 13)\n",
      "(7, 3) (16, 1) (-2, 5) (25, -1)\n",
      "(7, 3) (17, 0) (-3, 6) (27, -3)\n",
      "(8, 8) (16, 1) (0, 15) (24, -6)\n",
      "(8, 8) (17, 0) (-1, 16) (26, -8)\n",
      "(16, 1) (17, 0) (15, 2) (18, -1)\n",
      "(7, 23) (8, 27) (6, 19) (9, 31)\n",
      "(7, 23) (9, 36) (5, 10) (11, 49)\n",
      "(7, 23) (12, 26) (2, 20) (17, 29)\n",
      "(8, 27) (9, 36) (7, 18) (10, 45)\n",
      "(8, 27) (12, 26) (4, 28) (16, 25)\n",
      "(9, 36) (12, 26) (6, 46) (15, 16)\n",
      "(8, 6) (9, 7) (7, 5) (10, 8)\n",
      "(8, 6) (22, 15) (-6, -3) (36, 24)\n",
      "(8, 6) (29, 10) (-13, 2) (50, 14)\n",
      "(9, 7) (22, 15) (-4, -1) (35, 23)\n",
      "(9, 7) (29, 10) (-11, 4) (49, 13)\n",
      "(22, 15) (29, 10) (15, 20) (36, 5)\n",
      "(8, 23) (9, 41) (7, 5) (10, 59)\n",
      "(8, 23) (10, 24) (6, 22) (12, 25)\n",
      "(8, 23) (11, 22) (5, 24) (14, 21)\n",
      "(9, 41) (10, 24) (8, 58) (11, 7)\n",
      "(9, 41) (11, 22) (7, 60) (13, 3)\n",
      "(10, 24) (11, 22) (9, 26) (12, 20)\n",
      "(8, 42) (13, 31) (3, 53) (18, 20)\n",
      "(8, 42) (30, 43) (-14, 41) (52, 44)\n",
      "(8, 42) (33, 44) (-17, 40) (58, 46)\n",
      "(13, 31) (30, 43) (-4, 19) (47, 55)\n",
      "(13, 31) (33, 44) (-7, 18) (53, 57)\n",
      "(30, 43) (33, 44) (27, 42) (36, 45)\n",
      "(11, 2) (16, 5) (6, -1) (21, 8)\n",
      "(11, 2) (23, 9) (-1, -5) (35, 16)\n",
      "(11, 2) (42, 12) (-20, -8) (73, 22)\n",
      "(16, 5) (23, 9) (9, 1) (30, 13)\n",
      "(16, 5) (42, 12) (-10, -2) (68, 19)\n",
      "(23, 9) (42, 12) (4, 6) (61, 15)\n",
      "(11, 12) (16, 3) (6, 21) (21, -6)\n",
      "(11, 12) (18, 8) (4, 16) (25, 4)\n",
      "(11, 12) (21, 9) (1, 15) (31, 6)\n",
      "(16, 3) (18, 8) (14, -2) (20, 13)\n",
      "(16, 3) (21, 9) (11, -3) (26, 15)\n",
      "(18, 8) (21, 9) (15, 7) (24, 10)\n",
      "(11, 14) (12, 7) (10, 21) (13, 0)\n",
      "(11, 14) (14, 12) (8, 16) (17, 10)\n",
      "(11, 14) (19, 19) (3, 9) (27, 24)\n",
      "(12, 7) (14, 12) (10, 2) (16, 17)\n",
      "(12, 7) (19, 19) (5, -5) (26, 31)\n",
      "(14, 12) (19, 19) (9, 5) (24, 26)\n",
      "(11, 28) (17, 33) (5, 23) (23, 38)\n",
      "(11, 28) (28, 31) (-6, 25) (45, 34)\n",
      "(11, 28) (34, 26) (-12, 30) (57, 24)\n",
      "(17, 33) (28, 31) (6, 35) (39, 29)\n",
      "(17, 33) (34, 26) (0, 40) (51, 19)\n",
      "(28, 31) (34, 26) (22, 36) (40, 21)\n",
      "(12, 21) (13, 8) (11, 34) (14, -5)\n",
      "(12, 21) (14, 2) (10, 40) (16, -17)\n",
      "(12, 21) (15, 11) (9, 31) (18, 1)\n",
      "(13, 8) (14, 2) (12, 14) (15, -4)\n",
      "(13, 8) (15, 11) (11, 5) (17, 14)\n",
      "(14, 2) (15, 11) (13, -7) (16, 20)\n",
      "(13, 9) (24, 8) (2, 10) (35, 7)\n",
      "(13, 9) (25, 10) (1, 8) (37, 11)\n",
      "(13, 9) (28, 5) (-2, 13) (43, 1)\n",
      "(24, 8) (25, 10) (23, 6) (26, 12)\n",
      "(24, 8) (28, 5) (20, 11) (32, 2)\n",
      "(25, 10) (28, 5) (22, 15) (31, 0)\n",
      "(14, 5) (21, 10) (7, 0) (28, 15)\n",
      "(14, 5) (22, 14) (6, -4) (30, 23)\n",
      "(14, 5) (25, 13) (3, -3) (36, 21)\n",
      "(21, 10) (22, 14) (20, 6) (23, 18)\n",
      "(21, 10) (25, 13) (17, 7) (29, 16)\n",
      "(22, 14) (25, 13) (19, 15) (28, 12)\n",
      "(15, 27) (23, 32) (7, 22) (31, 37)\n",
      "(15, 27) (28, 25) (2, 29) (41, 23)\n",
      "(15, 27) (32, 28) (-2, 26) (49, 29)\n",
      "(23, 32) (28, 25) (18, 39) (33, 18)\n",
      "(23, 32) (32, 28) (14, 36) (41, 24)\n",
      "(28, 25) (32, 28) (24, 22) (36, 31)\n",
      "(15, 33) (17, 34) (13, 32) (19, 35)\n",
      "(15, 33) (22, 30) (8, 36) (29, 27)\n",
      "(15, 33) (30, 25) (0, 41) (45, 17)\n",
      "(17, 34) (22, 30) (12, 38) (27, 26)\n",
      "(17, 34) (30, 25) (4, 43) (43, 16)\n",
      "(22, 30) (30, 25) (14, 35) (38, 20)\n",
      "(16, 22) (21, 18) (11, 26) (26, 14)\n",
      "(16, 22) (29, 21) (3, 23) (42, 20)\n",
      "(16, 22) (46, 39) (-14, 5) (76, 56)\n",
      "(21, 18) (29, 21) (13, 15) (37, 24)\n",
      "(21, 18) (46, 39) (-4, -3) (71, 60)\n",
      "(29, 21) (46, 39) (12, 3) (63, 57)\n",
      "(17, 6) (23, 1) (11, 11) (29, -4)\n",
      "(17, 6) (26, 8) (8, 4) (35, 10)\n",
      "(17, 6) (34, 9) (0, 3) (51, 12)\n",
      "(23, 1) (26, 8) (20, -6) (29, 15)\n",
      "(23, 1) (34, 9) (12, -7) (45, 17)\n",
      "(26, 8) (34, 9) (18, 7) (42, 10)\n",
      "(20, 13) (29, 9) (11, 17) (38, 5)\n",
      "(20, 13) (31, 8) (9, 18) (42, 3)\n",
      "(20, 13) (46, 12) (-6, 14) (72, 11)\n",
      "(29, 9) (31, 8) (27, 10) (33, 7)\n",
      "(29, 9) (46, 12) (12, 6) (63, 15)\n",
      "(31, 8) (46, 12) (16, 4) (61, 16)\n",
      "(20, 29) (24, 10) (16, 48) (28, -9)\n",
      "(20, 29) (27, 11) (13, 47) (34, -7)\n",
      "(20, 29) (31, 14) (9, 44) (42, -1)\n",
      "(24, 10) (27, 11) (21, 9) (30, 12)\n",
      "(24, 10) (31, 14) (17, 6) (38, 18)\n",
      "(27, 11) (31, 14) (23, 8) (35, 17)\n",
      "(20, 31) (23, 41) (17, 21) (26, 51)\n",
      "(20, 31) (24, 30) (16, 32) (28, 29)\n",
      "(20, 31) (25, 40) (15, 22) (30, 49)\n",
      "(23, 41) (24, 30) (22, 52) (25, 19)\n",
      "(23, 41) (25, 40) (21, 42) (27, 39)\n",
      "(24, 30) (25, 40) (23, 20) (26, 50)\n",
      "(22, 31) (39, 23) (5, 39) (56, 15)\n",
      "(22, 31) (42, 24) (2, 38) (62, 17)\n",
      "(22, 31) (45, 22) (-1, 40) (68, 13)\n",
      "(39, 23) (42, 24) (36, 22) (45, 25)\n",
      "(39, 23) (45, 22) (33, 24) (51, 21)\n",
      "(42, 24) (45, 22) (39, 26) (48, 20)\n",
      "(24, 20) (27, 9) (21, 31) (30, -2)\n",
      "(24, 20) (30, 19) (18, 21) (36, 18)\n",
      "(24, 20) (31, 10) (17, 30) (38, 0)\n",
      "(27, 9) (30, 19) (24, -1) (33, 29)\n",
      "(27, 9) (31, 10) (23, 8) (35, 11)\n",
      "(30, 19) (31, 10) (29, 28) (32, 1)\n",
      "(25, 34) (32, 33) (18, 35) (39, 32)\n",
      "(25, 34) (35, 31) (15, 37) (45, 28)\n",
      "(25, 34) (36, 8) (14, 60) (47, -18)\n",
      "(32, 33) (35, 31) (29, 35) (38, 29)\n",
      "(32, 33) (36, 8) (28, 58) (40, -17)\n",
      "(35, 31) (36, 8) (34, 54) (37, -15)\n",
      "(27, 34) (30, 29) (24, 39) (33, 24)\n",
      "(27, 34) (31, 27) (23, 41) (35, 20)\n",
      "(27, 34) (32, 38) (22, 30) (37, 42)\n",
      "(30, 29) (31, 27) (29, 31) (32, 25)\n",
      "(30, 29) (32, 38) (28, 20) (34, 47)\n",
      "(31, 27) (32, 38) (30, 16) (33, 49)\n",
      "(28, 44) (31, 40) (25, 48) (34, 36)\n",
      "(28, 44) (44, 43) (12, 45) (60, 42)\n",
      "(28, 44) (47, 39) (9, 49) (66, 34)\n",
      "(31, 40) (44, 43) (18, 37) (57, 46)\n",
      "(31, 40) (47, 39) (15, 41) (63, 38)\n",
      "(44, 43) (47, 39) (41, 47) (50, 35)\n",
      "(30, 22) (35, 13) (25, 31) (40, 4)\n",
      "(30, 22) (36, 21) (24, 23) (42, 20)\n",
      "(30, 22) (47, 20) (13, 24) (64, 18)\n",
      "(35, 13) (36, 21) (34, 5) (37, 29)\n",
      "(35, 13) (47, 20) (23, 6) (59, 27)\n",
      "(36, 21) (47, 20) (25, 22) (58, 19)\n",
      "(30, 42) (33, 37) (27, 47) (36, 32)\n",
      "(30, 42) (35, 40) (25, 44) (40, 38)\n",
      "(30, 42) (40, 49) (20, 35) (50, 56)\n",
      "(33, 37) (35, 40) (31, 34) (37, 43)\n",
      "(33, 37) (40, 49) (26, 25) (47, 61)\n",
      "(35, 40) (40, 49) (30, 31) (45, 58)\n",
      "(32, 2) (37, 3) (27, 1) (42, 4)\n",
      "(32, 2) (39, 12) (25, -8) (46, 22)\n",
      "(32, 2) (44, 9) (20, -5) (56, 16)\n",
      "(37, 3) (39, 12) (35, -6) (41, 21)\n",
      "(37, 3) (44, 9) (30, -3) (51, 15)\n",
      "(39, 12) (44, 9) (34, 15) (49, 6)\n",
      "(33, 26) (38, 5) (28, 47) (43, -16)\n",
      "(33, 26) (46, 10) (20, 42) (59, -6)\n",
      "(33, 26) (49, 11) (17, 41) (65, -4)\n",
      "(38, 5) (46, 10) (30, 0) (54, 15)\n",
      "(38, 5) (49, 11) (27, -1) (60, 17)\n",
      "(46, 10) (49, 11) (43, 9) (52, 12)\n",
      "(33, 45) (36, 46) (30, 44) (39, 47)\n",
      "(33, 45) (37, 38) (29, 52) (41, 31)\n",
      "(36, 46) (37, 38) (35, 54) (38, 30)\n",
      "(34, 0) (43, 8) (25, -8) (52, 16)\n",
      "(34, 0) (44, 11) (24, -11) (54, 22)\n",
      "(34, 0) (45, 7) (23, -7) (56, 14)\n",
      "(43, 8) (44, 11) (42, 5) (45, 14)\n",
      "(43, 8) (45, 7) (41, 9) (47, 6)\n",
      "(44, 11) (45, 7) (43, 15) (46, 3)\n",
      "(36, 6) (39, 4) (33, 8) (42, 2)\n",
      "(36, 6) (44, 5) (28, 7) (52, 4)\n",
      "(36, 6) (47, 7) (25, 5) (58, 8)\n",
      "(39, 4) (44, 5) (34, 3) (49, 6)\n",
      "(39, 4) (47, 7) (31, 1) (55, 10)\n",
      "(44, 5) (47, 7) (41, 3) (50, 9)\n",
      "(37, 9) (38, 7) (36, 11) (39, 5)\n",
      "(37, 9) (47, 8) (27, 10) (57, 7)\n",
      "(37, 9) (48, 24) (26, -6) (59, 39)\n",
      "(38, 7) (47, 8) (29, 6) (56, 9)\n",
      "(38, 7) (48, 24) (28, -10) (58, 41)\n",
      "(47, 8) (48, 24) (46, -8) (49, 40)\n",
      "(38, 6) (41, 8) (35, 4) (44, 10)\n",
      "(38, 6) (42, 7) (34, 5) (46, 8)\n",
      "(38, 6) (47, 19) (29, -7) (56, 32)\n",
      "(41, 8) (42, 7) (40, 9) (43, 6)\n",
      "(41, 8) (47, 19) (35, -3) (53, 30)\n",
      "(42, 7) (47, 19) (37, -5) (52, 31)\n",
      "(40, 34) (41, 31) (39, 37) (42, 28)\n",
      "(40, 34) (45, 30) (35, 38) (50, 26)\n",
      "(40, 34) (46, 27) (34, 41) (52, 20)\n",
      "(41, 31) (45, 30) (37, 32) (49, 29)\n",
      "(41, 31) (46, 27) (36, 35) (51, 23)\n",
      "(45, 30) (46, 27) (44, 33) (47, 24)\n",
      "(43, 7) (44, 15) (42, -1) (45, 23)\n",
      "(43, 7) (46, 2) (40, 12) (49, -3)\n",
      "(44, 15) (46, 2) (42, 28) (48, -11)\n"
     ]
    }
   ],
   "source": [
    "for key, value in frequency_dictionary.items():\n",
    "    same_freq_antennas_array = value\n",
    "    set_antinodes(same_freq_antennas_array, antinodes_map)\n",
    "#     print (same_freq_antennas_array)"
   ]
  },
  {
   "cell_type": "code",
   "execution_count": 120,
   "id": "6cf260a5",
   "metadata": {},
   "outputs": [
    {
     "data": {
      "text/plain": [
       "332"
      ]
     },
     "execution_count": 120,
     "metadata": {},
     "output_type": "execute_result"
    }
   ],
   "source": [
    "antinodes_map.sum(axis=0).sum()"
   ]
  },
  {
   "cell_type": "code",
   "execution_count": 121,
   "id": "962b3a6f",
   "metadata": {},
   "outputs": [
    {
     "data": {
      "text/plain": [
       "array([[False, False, False, ..., False, False, False],\n",
       "       [False, False, False, ..., False,  True, False],\n",
       "       [False, False, False, ..., False, False, False],\n",
       "       ...,\n",
       "       [False, False, False, ..., False, False, False],\n",
       "       [False, False, False, ..., False, False, False],\n",
       "       [False, False, False, ..., False, False, False]])"
      ]
     },
     "execution_count": 121,
     "metadata": {},
     "output_type": "execute_result"
    }
   ],
   "source": [
    "antinodes_map"
   ]
  },
  {
   "cell_type": "markdown",
   "id": "56ae41ff",
   "metadata": {},
   "source": [
    "# Part 2"
   ]
  },
  {
   "cell_type": "code",
   "execution_count": 247,
   "id": "f991aaa1",
   "metadata": {},
   "outputs": [
    {
     "name": "stdout",
     "output_type": "stream",
     "text": [
      "(50, 50)\n"
     ]
    }
   ],
   "source": [
    "with open('input_day08.txt') as file:\n",
    "    frequency_dictionary = dict()\n",
    "    lines = file.readlines()\n",
    "    city_map = []\n",
    "    for i , line in enumerate(lines):\n",
    "        line = line.strip()\n",
    "        character_array = []\n",
    "        for j, character in enumerate(line):\n",
    "            character_array.append(character)\n",
    "            if character != '.' and character != '#':\n",
    "                if frequency_dictionary.get(character) == None:\n",
    "                    frequency_dictionary[character] = []\n",
    "                    frequency_dictionary[character].append((i,j))\n",
    "                else:\n",
    "                    frequency_dictionary[character].append((i,j))\n",
    "        city_map.append(character_array)\n",
    "    city_map = np.array(city_map)\n",
    "    antinodes_map = np.zeros(city_map.shape).astype(int)\n",
    "    print(city_map.shape)"
   ]
  },
  {
   "cell_type": "code",
   "execution_count": 248,
   "id": "3b1fc5af",
   "metadata": {},
   "outputs": [
    {
     "data": {
      "text/plain": [
       "{'n': [(0, 16), (2, 13), (9, 9), (11, 20)],\n",
       " 'L': [(0, 33), (4, 34), (17, 41)],\n",
       " 'Y': [(0, 36), (5, 35), (17, 24), (24, 43)],\n",
       " 'm': [(1, 8), (3, 17), (8, 20), (12, 15)],\n",
       " 'l': [(2, 43), (5, 44), (15, 31)],\n",
       " 'T': [(3, 15), (4, 11), (7, 18), (14, 14)],\n",
       " 'e': [(3, 20), (5, 21), (10, 14), (24, 3)],\n",
       " 'M': [(3, 25), (10, 30), (14, 19), (15, 38)],\n",
       " 'y': [(4, 14), (13, 21), (17, 26)],\n",
       " 'i': [(4, 26), (6, 19), (7, 30), (31, 31)],\n",
       " '2': [(4, 40), (8, 37), (15, 26), (25, 23)],\n",
       " 'h': [(5, 27), (15, 30), (16, 21), (18, 26)],\n",
       " 'd': [(6, 26), (9, 21), (10, 23), (17, 22)],\n",
       " '5': [(7, 3), (8, 8), (16, 1), (17, 0)],\n",
       " 'o': [(7, 23), (8, 27), (9, 36), (12, 26)],\n",
       " 'C': [(8, 6), (9, 7), (22, 15), (29, 10)],\n",
       " 'p': [(8, 23), (9, 41), (10, 24), (11, 22)],\n",
       " 'I': [(8, 42), (13, 31), (30, 43), (33, 44)],\n",
       " '8': [(11, 2), (16, 5), (23, 9), (42, 12)],\n",
       " 'w': [(11, 12), (16, 3), (18, 8), (21, 9)],\n",
       " 'N': [(11, 14), (12, 7), (14, 12), (19, 19)],\n",
       " 'F': [(11, 28), (17, 33), (28, 31), (34, 26)],\n",
       " 'D': [(12, 21), (13, 8), (14, 2), (15, 11)],\n",
       " 'U': [(13, 9), (24, 8), (25, 10), (28, 5)],\n",
       " 'X': [(14, 5), (21, 10), (22, 14), (25, 13)],\n",
       " 'c': [(15, 27), (23, 32), (28, 25), (32, 28)],\n",
       " 'A': [(15, 33), (17, 34), (22, 30), (30, 25)],\n",
       " '6': [(16, 22), (21, 18), (29, 21), (46, 39)],\n",
       " 'P': [(17, 6), (23, 1), (26, 8), (34, 9)],\n",
       " 'B': [(20, 13), (29, 9), (31, 8), (46, 12)],\n",
       " 'u': [(20, 29), (24, 10), (27, 11), (31, 14)],\n",
       " 'f': [(20, 31), (23, 41), (24, 30), (25, 40)],\n",
       " 'x': [(22, 31), (39, 23), (42, 24), (45, 22)],\n",
       " 's': [(24, 20), (27, 9), (30, 19), (31, 10)],\n",
       " 'W': [(25, 34), (32, 33), (35, 31), (36, 8)],\n",
       " 'S': [(27, 34), (30, 29), (31, 27), (32, 38)],\n",
       " 'H': [(28, 44), (31, 40), (44, 43), (47, 39)],\n",
       " '7': [(30, 22), (35, 13), (36, 21), (47, 20)],\n",
       " '3': [(30, 42), (33, 37), (35, 40), (40, 49)],\n",
       " 'O': [(32, 2), (37, 3), (39, 12), (44, 9)],\n",
       " 'a': [(33, 26), (38, 5), (46, 10), (49, 11)],\n",
       " 'E': [(33, 45), (36, 46), (37, 38)],\n",
       " '0': [(34, 0), (43, 8), (44, 11), (45, 7)],\n",
       " 't': [(36, 6), (39, 4), (44, 5), (47, 7)],\n",
       " '9': [(37, 9), (38, 7), (47, 8), (48, 24)],\n",
       " '1': [(38, 6), (41, 8), (42, 7), (47, 19)],\n",
       " 'b': [(40, 34), (41, 31), (45, 30), (46, 27)],\n",
       " '4': [(43, 7), (44, 15), (46, 2)]}"
      ]
     },
     "execution_count": 248,
     "metadata": {},
     "output_type": "execute_result"
    }
   ],
   "source": [
    "frequency_dictionary"
   ]
  },
  {
   "cell_type": "code",
   "execution_count": 249,
   "id": "71404c7e",
   "metadata": {},
   "outputs": [],
   "source": [
    "def set_antinodes_part2(antennas_indexes, antinodes_map):\n",
    "    length = len(antennas_indexes)\n",
    "    for i in range(length-1):\n",
    "        for j in range(i+1,length):\n",
    "            first_antennas = antennas_indexes[i]\n",
    "            second_antennas = antennas_indexes[j]\n",
    "            delta = subtract_postion(second_antennas, first_antennas)\n",
    "            \n",
    "            #Backward antinode\n",
    "            new_first_antennas = first_antennas\n",
    "            new_second_antennas = second_antennas\n",
    "            new_antinode = new_first_antennas\n",
    "            while check_out_of_map(new_antinode, antinodes_map) == False:\n",
    "                new_antinode = subtract_postion(new_first_antennas,delta)\n",
    "#                 print('Backward', new_antinode)\n",
    "                if check_out_of_map(new_antinode, antinodes_map) == False:\n",
    "                    antinodes_map[new_antinode] = antinodes_map[new_antinode] + 1\n",
    "                    antinodes_map[new_first_antennas] = antinodes_map[new_first_antennas] + 1\n",
    "                    antinodes_map[new_second_antennas] = antinodes_map[new_second_antennas] + 1\n",
    "                    new_second_antennas = new_first_antennas\n",
    "                    new_first_antennas = new_antinode\n",
    "                    \n",
    "            #forward antinode\n",
    "            new_first_antennas = first_antennas\n",
    "            new_second_antennas = second_antennas\n",
    "            new_antinode = new_second_antennas\n",
    "            while check_out_of_map(new_antinode, antinodes_map) == False:\n",
    "                new_antinode = add_postion(new_second_antennas, delta)\n",
    "#                 print(first_antennas, second_antennas, first_antinode, second_antinode)\n",
    "#                 print('Forward', new_antinode)\n",
    "                if check_out_of_map(new_antinode, antinodes_map) == False:\n",
    "                    antinodes_map[new_antinode] = antinodes_map[new_antinode] + 1\n",
    "                    antinodes_map[new_first_antennas] = antinodes_map[new_first_antennas] + 1\n",
    "                    antinodes_map[new_second_antennas] = antinodes_map[new_second_antennas] + 1\n",
    "                    new_first_antennas = new_second_antennas\n",
    "                    new_second_antennas = new_antinode"
   ]
  },
  {
   "cell_type": "code",
   "execution_count": 250,
   "id": "f93fe270",
   "metadata": {},
   "outputs": [],
   "source": [
    "for key, value in frequency_dictionary.items():\n",
    "    same_freq_antennas_array = value\n",
    "    set_antinodes_part2(same_freq_antennas_array, antinodes_map)\n",
    "#     print (same_freq_antennas_array)"
   ]
  },
  {
   "cell_type": "code",
   "execution_count": 251,
   "id": "9eed4524",
   "metadata": {},
   "outputs": [
    {
     "data": {
      "text/plain": [
       "1169"
      ]
     },
     "execution_count": 251,
     "metadata": {},
     "output_type": "execute_result"
    }
   ],
   "source": [
    "(antinodes_map != 0).sum()"
   ]
  },
  {
   "cell_type": "code",
   "execution_count": 243,
   "id": "dd7cdbed",
   "metadata": {},
   "outputs": [
    {
     "data": {
      "text/plain": [
       "array([[0, 0, 2, ..., 0, 0, 1],\n",
       "       [1, 0, 0, ..., 0, 3, 0],\n",
       "       [1, 0, 0, ..., 3, 0, 0],\n",
       "       ...,\n",
       "       [1, 2, 3, ..., 2, 3, 1],\n",
       "       [0, 2, 0, ..., 1, 0, 1],\n",
       "       [1, 0, 0, ..., 1, 0, 1]])"
      ]
     },
     "execution_count": 243,
     "metadata": {},
     "output_type": "execute_result"
    }
   ],
   "source": [
    "antinodes_map"
   ]
  },
  {
   "cell_type": "code",
   "execution_count": null,
   "id": "80d408d8",
   "metadata": {},
   "outputs": [],
   "source": []
  }
 ],
 "metadata": {
  "kernelspec": {
   "display_name": "TimeEval (Python 3.8)",
   "language": "python",
   "name": "timeeval"
  },
  "language_info": {
   "codemirror_mode": {
    "name": "ipython",
    "version": 3
   },
   "file_extension": ".py",
   "mimetype": "text/x-python",
   "name": "python",
   "nbconvert_exporter": "python",
   "pygments_lexer": "ipython3",
   "version": "3.8.19"
  },
  "toc": {
   "base_numbering": 1,
   "nav_menu": {},
   "number_sections": true,
   "sideBar": true,
   "skip_h1_title": false,
   "title_cell": "Table of Contents",
   "title_sidebar": "Contents",
   "toc_cell": false,
   "toc_position": {},
   "toc_section_display": true,
   "toc_window_display": false
  }
 },
 "nbformat": 4,
 "nbformat_minor": 5
}
