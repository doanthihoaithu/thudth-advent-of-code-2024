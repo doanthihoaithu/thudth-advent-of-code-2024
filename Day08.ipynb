{
 "cells": [
  {
   "cell_type": "code",
   "execution_count": 2,
   "id": "ab38cf4c",
   "metadata": {},
   "outputs": [],
   "source": [
    "import numpy as np"
   ]
  },
  {
   "cell_type": "markdown",
   "id": "168e38e5",
   "metadata": {},
   "source": [
    "# Part 1"
   ]
  },
  {
   "cell_type": "code",
   "execution_count": 361,
   "id": "d597cf69",
   "metadata": {},
   "outputs": [
    {
     "name": "stdout",
     "output_type": "stream",
     "text": [
      "(50, 50)\n"
     ]
    }
   ],
   "source": [
    "with open('input_day08.txt') as file:\n",
    "    frequency_dictionary = dict()\n",
    "    lines = file.readlines()\n",
    "    city_map = []\n",
    "    for i , line in enumerate(lines):\n",
    "        line = line.strip()\n",
    "        character_array = []\n",
    "        for j, character in enumerate(line):\n",
    "            character_array.append(character)\n",
    "            if character != '.':\n",
    "#                 print(character)\n",
    "                if frequency_dictionary.get(character) == None:\n",
    "                    frequency_dictionary[character] = []\n",
    "                    frequency_dictionary[character].append((i,j))\n",
    "                else:\n",
    "                    frequency_dictionary[character].append((i,j))\n",
    "        city_map.append(character_array)\n",
    "                \n",
    "#     lines = [[c for c in line.strip()] for line in lines]\n",
    "    city_map = np.array(city_map)\n",
    "    antinodes_map = np.zeros(city_map.shape).astype(bool)\n",
    "    print(city_map.shape)"
   ]
  },
  {
   "cell_type": "code",
   "execution_count": 362,
   "id": "c0864752",
   "metadata": {},
   "outputs": [
    {
     "data": {
      "text/plain": [
       "((-1, -1), (3, 5))"
      ]
     },
     "execution_count": 362,
     "metadata": {},
     "output_type": "execute_result"
    }
   ],
   "source": [
    "def check_out_of_map(position, antinodes_map):\n",
    "    row, column = position\n",
    "    max_row = antinodes_map.shape[0]\n",
    "    max_column = antinodes_map.shape[1]\n",
    "    if row <= -1 or row >= max_row or column <= -1 or column >= max_column:\n",
    "        return True\n",
    "    return False\n",
    "\n",
    "def subtract_position(first, second):\n",
    "    return tuple(map(lambda i, j: i - j, first, second))\n",
    "\n",
    "def add_position(first, second):\n",
    "    return tuple(map(lambda i, j: i + j, first, second))\n",
    "subtract_postion((1,2), (2,3)), add_postion((1,2), (2,3))"
   ]
  },
  {
   "cell_type": "code",
   "execution_count": 363,
   "id": "ed5dcf27",
   "metadata": {},
   "outputs": [],
   "source": [
    "def set_antinodes(antennas_indexes, antinodes_map):\n",
    "    length = len(antennas_indexes)\n",
    "    for i in range(length):\n",
    "        for j in range(i+1,length):\n",
    "            first_antennas = antennas_indexes[i]\n",
    "            second_antennas = antennas_indexes[j]\n",
    "            first_antinode = subtract_position(first_antennas,subtract_position(second_antennas,first_antennas))\n",
    "            second_antinode = add_position(second_antennas, subtract_position(second_antennas,first_antennas))\n",
    "#             print(first_antennas, second_antennas, first_antinode, second_antinode)\n",
    "            if check_out_of_map(first_antinode, antinodes_map) == False:\n",
    "                antinodes_map[first_antinode] = True\n",
    "            if check_out_of_map(second_antinode, antinodes_map) == False:\n",
    "                antinodes_map[second_antinode] = True"
   ]
  },
  {
   "cell_type": "code",
   "execution_count": 364,
   "id": "ad416fc8",
   "metadata": {},
   "outputs": [
    {
     "name": "stdout",
     "output_type": "stream",
     "text": [
      "Answer: 332\n"
     ]
    }
   ],
   "source": [
    "for key, value in frequency_dictionary.items():\n",
    "    same_freq_antennas_array = value\n",
    "    set_antinodes(same_freq_antennas_array, antinodes_map)\n",
    "print('Answer:', antinodes_map.sum())"
   ]
  },
  {
   "cell_type": "markdown",
   "id": "56ae41ff",
   "metadata": {},
   "source": [
    "# Part 2"
   ]
  },
  {
   "cell_type": "code",
   "execution_count": 365,
   "id": "f991aaa1",
   "metadata": {},
   "outputs": [
    {
     "name": "stdout",
     "output_type": "stream",
     "text": [
      "(50, 50)\n"
     ]
    }
   ],
   "source": [
    "with open('input_day08.txt') as file:\n",
    "    frequency_dictionary = dict()\n",
    "    lines = file.readlines()\n",
    "    city_map = []\n",
    "    for i , line in enumerate(lines):\n",
    "        line = line.strip()\n",
    "        character_array = []\n",
    "        for j, character in enumerate(line):\n",
    "            character_array.append(character)\n",
    "            if character != '.' and character != '#':\n",
    "                if frequency_dictionary.get(character) == None:\n",
    "                    frequency_dictionary[character] = []\n",
    "                    frequency_dictionary[character].append((i,j))\n",
    "                else:\n",
    "                    frequency_dictionary[character].append((i,j))\n",
    "        city_map.append(character_array)\n",
    "    city_map = np.array(city_map)\n",
    "    antinodes_map = np.zeros(city_map.shape).astype(int)\n",
    "    print(city_map.shape)"
   ]
  },
  {
   "cell_type": "code",
   "execution_count": 366,
   "id": "10915264",
   "metadata": {},
   "outputs": [],
   "source": [
    "def set_antinodes_part2(antennas_indexes, antinodes_map):\n",
    "    length = len(antennas_indexes)\n",
    "    for i in range(length-1):\n",
    "        for j in range(i+1,length):\n",
    "            first_antennas = antennas_indexes[i]\n",
    "            second_antennas = antennas_indexes[j]\n",
    "            delta = subtract_postion(second_antennas, first_antennas)\n",
    "            \n",
    "            #Backward antinode\n",
    "            new_first_antennas = first_antennas\n",
    "            new_second_antennas = second_antennas\n",
    "            new_antinode = new_first_antennas\n",
    "            while check_out_of_map(new_antinode, antinodes_map) == False:\n",
    "                new_antinode = subtract_postion(new_first_antennas,delta)\n",
    "                if check_out_of_map(new_antinode, antinodes_map) == False:\n",
    "                    antinodes_map[new_antinode] = antinodes_map[new_antinode] + 1\n",
    "                    antinodes_map[new_first_antennas] = antinodes_map[new_first_antennas] + 1\n",
    "                    antinodes_map[new_second_antennas] = antinodes_map[new_second_antennas] + 1\n",
    "                    new_second_antennas = new_first_antennas\n",
    "                    new_first_antennas = new_antinode\n",
    "                else:\n",
    "                    antinodes_map[new_first_antennas] = antinodes_map[new_first_antennas] + 1\n",
    "                    antinodes_map[new_second_antennas] = antinodes_map[new_second_antennas] + 1\n",
    "                    \n",
    "            #forward antinode\n",
    "            new_first_antennas = first_antennas\n",
    "            new_second_antennas = second_antennas\n",
    "            new_antinode = new_second_antennas\n",
    "            while check_out_of_map(new_antinode, antinodes_map) == False:\n",
    "                new_antinode = add_postion(new_second_antennas, delta)\n",
    "                if check_out_of_map(new_antinode, antinodes_map) == False:\n",
    "                    antinodes_map[new_antinode] = antinodes_map[new_antinode] + 1\n",
    "                    antinodes_map[new_first_antennas] = antinodes_map[new_first_antennas] + 1\n",
    "                    antinodes_map[new_second_antennas] = antinodes_map[new_second_antennas] + 1\n",
    "                    new_first_antennas = new_second_antennas\n",
    "                    new_second_antennas = new_antinode\n",
    "                else:\n",
    "                    antinodes_map[new_first_antennas] = antinodes_map[new_first_antennas] + 1\n",
    "                    antinodes_map[new_second_antennas] = antinodes_map[new_second_antennas] + 1"
   ]
  },
  {
   "cell_type": "code",
   "execution_count": 367,
   "id": "f93fe270",
   "metadata": {},
   "outputs": [
    {
     "name": "stdout",
     "output_type": "stream",
     "text": [
      "Answer: 1174\n"
     ]
    }
   ],
   "source": [
    "for key, value in frequency_dictionary.items():\n",
    "    same_freq_antennas_array = value\n",
    "    set_antinodes_part2(same_freq_antennas_array, antinodes_map)\n",
    "print('Answer:', (antinodes_map != 0).sum())"
   ]
  }
 ],
 "metadata": {
  "kernelspec": {
   "display_name": "TimeEval (Python 3.8)",
   "language": "python",
   "name": "timeeval"
  },
  "language_info": {
   "codemirror_mode": {
    "name": "ipython",
    "version": 3
   },
   "file_extension": ".py",
   "mimetype": "text/x-python",
   "name": "python",
   "nbconvert_exporter": "python",
   "pygments_lexer": "ipython3",
   "version": "3.8.19"
  },
  "toc": {
   "base_numbering": 1,
   "nav_menu": {},
   "number_sections": true,
   "sideBar": true,
   "skip_h1_title": false,
   "title_cell": "Table of Contents",
   "title_sidebar": "Contents",
   "toc_cell": false,
   "toc_position": {},
   "toc_section_display": true,
   "toc_window_display": false
  }
 },
 "nbformat": 4,
 "nbformat_minor": 5
}
