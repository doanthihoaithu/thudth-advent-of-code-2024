{
 "cells": [
  {
   "cell_type": "code",
   "execution_count": 2,
   "id": "e667aa3f",
   "metadata": {},
   "outputs": [],
   "source": [
    "import numpy as np"
   ]
  },
  {
   "cell_type": "markdown",
   "id": "8900e89f",
   "metadata": {},
   "source": [
    "# Part 1"
   ]
  },
  {
   "cell_type": "code",
   "execution_count": 121,
   "id": "26f2a503",
   "metadata": {},
   "outputs": [],
   "source": [
    "def in_bound(r,c, garden_map):\n",
    "    return (r in range(garden_map.shape[0])) and (c in range(garden_map.shape[1]))"
   ]
  },
  {
   "cell_type": "code",
   "execution_count": 122,
   "id": "8744f732",
   "metadata": {},
   "outputs": [],
   "source": [
    "def can_spread(current_postion, next_position, garden_map, visited_map):\n",
    "    return in_bound(next_position[0], next_position[1], garden_map) \\\n",
    "            and visited_map[next_position[0]][next_position[1]]['middle'] == False \\\n",
    "            and garden_map[next_position] == garden_map[current_postion]\n",
    "    \n",
    "def is_same(current_postion, next_position, garden_map):\n",
    "    return in_bound(next_position[0], next_position[1], garden_map) and garden_map[next_position] == garden_map[current_postion]"
   ]
  },
  {
   "cell_type": "code",
   "execution_count": 123,
   "id": "83d3226d",
   "metadata": {},
   "outputs": [],
   "source": [
    "def spread(current_row, current_col, slots, garden_map, visited_map):\n",
    "    current_position = (current_row, current_col)\n",
    "    label = garden_map[current_row,current_col]\n",
    "    if visited_map[current_row][current_col]['middle'] == False:\n",
    "        visited_map[current_row][current_col]['middle'] = True\n",
    "        slots.append((current_row,current_col))\n",
    "        \n",
    "        up_position = (current_row -1, current_col)\n",
    "        if can_spread(current_position, up_position, garden_map, visited_map):\n",
    "#             print(f'postion{current_position}, spead up')\n",
    "            visited_map[current_row][current_col]['up'] = True\n",
    "            visited_map[up_position[0]][up_position[1]]['down'] = True\n",
    "            spread(up_position[0], up_position[1], slots, garden_map, visited_map)\n",
    "        elif is_same(current_position, up_position, garden_map):\n",
    "            visited_map[current_row][current_col]['up'] = True\n",
    "            visited_map[up_position[0]][up_position[1]]['down'] = True\n",
    "            \n",
    "        down_position = (current_row + 1, current_col)\n",
    "        if can_spread(current_position, down_position, garden_map, visited_map):\n",
    "#             print(f'postion{current_position}, spead down')\n",
    "            visited_map[current_row][current_col]['down'] = True\n",
    "            visited_map[down_position[0]][down_position[1]]['up'] = True\n",
    "            spread(down_position[0], down_position[1], slots, garden_map, visited_map)\n",
    "        elif is_same(current_position, down_position, garden_map):\n",
    "            visited_map[current_row][current_col]['down'] = True\n",
    "            visited_map[down_position[0]][down_position[1]]['up'] = True\n",
    "        \n",
    "        left_position = (current_row, current_col-1)\n",
    "        if can_spread(current_position, left_position, garden_map, visited_map):\n",
    "#             print(f'postion{current_position}, spead left')\n",
    "            visited_map[current_row][current_col]['left'] = True\n",
    "            visited_map[left_position[0]][left_position[1]]['right'] = True\n",
    "            spread(left_position[0], left_position[1], slots, garden_map, visited_map)\n",
    "        elif is_same(current_position, left_position, garden_map):\n",
    "            visited_map[current_row][current_col]['left'] = True\n",
    "            visited_map[left_position[0]][left_position[1]]['right'] = True\n",
    "        \n",
    "        right_position = (current_row, current_col+1)\n",
    "        if can_spread(current_position, right_position, garden_map, visited_map):\n",
    "#             print(f'postion{current_position}, spead right')\n",
    "            visited_map[current_row][current_col]['right'] = True\n",
    "            visited_map[right_position[0]][right_position[1]]['left'] = True\n",
    "            spread(right_position[0], right_position[1], slots, garden_map, visited_map)\n",
    "        elif is_same(current_position, right_position, garden_map):\n",
    "            visited_map[current_row][current_col]['right'] = True\n",
    "            visited_map[right_position[0]][right_position[1]]['left'] = True"
   ]
  },
  {
   "cell_type": "code",
   "execution_count": 124,
   "id": "031ed469",
   "metadata": {},
   "outputs": [],
   "source": [
    "def calculate_diff_neighbor(position, visited_map):\n",
    "    neighbor_status = visited_map[position[0]][position[1]]\n",
    "    counter = 0\n",
    "    for n in neighbor_status.values():\n",
    "        if n == False:\n",
    "            counter = counter + 1\n",
    "    return counter\n",
    "            "
   ]
  },
  {
   "cell_type": "code",
   "execution_count": 125,
   "id": "e7b17b89",
   "metadata": {},
   "outputs": [],
   "source": [
    "def calculate_prerimeter(visited_map, groups):\n",
    "    counter = 0\n",
    "    for g in groups:\n",
    "        counter = counter + calculate_diff_neighbor(g, visited_map)\n",
    "    return counter"
   ]
  },
  {
   "cell_type": "code",
   "execution_count": 127,
   "id": "cb2d4adc",
   "metadata": {},
   "outputs": [
    {
     "name": "stdout",
     "output_type": "stream",
     "text": [
      "Answer: 1450816\n"
     ]
    }
   ],
   "source": [
    "with open('input_day12.txt') as file:\n",
    "    lines = file.readlines()\n",
    "    lines = [line.strip() for line in lines]\n",
    "    garden_map = [[c for c in line] for line in lines]\n",
    "    garden_map = np.array(garden_map)\n",
    "\n",
    "visited_map = [[ {'left': False, 'right':False, 'up': False, 'down': False, 'middle':False}\n",
    "                for j in range(garden_map.shape[1])] for i in range(garden_map.shape[0])]                        \n",
    "counter = 0\n",
    "for i in range(garden_map.shape[0]):\n",
    "    for j in range(garden_map.shape[1]):\n",
    "        if visited_map[i][j]['middle'] == False:\n",
    "            slots = []\n",
    "            spread(i,j, slots, garden_map, visited_map)\n",
    "            counter = counter + len(slots) * calculate_prerimeter(visited_map, slots)\n",
    "#             slots = sorted(slots)\n",
    "#             print(f'Areas:{len(slots)} - Perimeter: {calculate_prerimeter(visited_map, slots)}', slots)\n",
    "\n",
    "print('Answer:', counter)"
   ]
  },
  {
   "cell_type": "markdown",
   "id": "cba15d18",
   "metadata": {},
   "source": [
    "# Part 2"
   ]
  },
  {
   "cell_type": "code",
   "execution_count": 162,
   "id": "2c8715a8",
   "metadata": {},
   "outputs": [],
   "source": [
    "# count number of corners of a position\n",
    "def check_corner(position, visited_map):\n",
    "    counter = 0\n",
    "    left  = visited_map[position[0]][position[1]]['left']\n",
    "    right  = visited_map[position[0]][position[1]]['right']\n",
    "    up  = visited_map[position[0]][position[1]]['up']\n",
    "    down  = visited_map[position[0]][position[1]]['down']\n",
    "    if left == False and up == False:\n",
    "        counter = counter + 1\n",
    "    if up == False and right == False:\n",
    "        counter = counter + 1\n",
    "    if right == False and down == False:\n",
    "        counter = counter + 1\n",
    "    if down == False and left == False:\n",
    "        counter = counter + 1\n",
    "    if left == True and down == True:\n",
    "        check_position = (position[0], position[1]-1)\n",
    "        if visited_map[check_position[0]][check_position[1]]['down']== False:\n",
    "            counter = counter + 1\n",
    "        \n",
    "    if left == True and up == True:\n",
    "        check_position = (position[0], position[1]-1)\n",
    "        if visited_map[check_position[0]][check_position[1]]['up']== False:\n",
    "            counter = counter + 1\n",
    "        \n",
    "    if right == True and down == True:\n",
    "        check_position = (position[0], position[1]+1)\n",
    "        if visited_map[check_position[0]][check_position[1]]['down']== False:\n",
    "            counter = counter + 1\n",
    "        \n",
    "    if right == True and up == True:\n",
    "        check_position = (position[0], position[1]+1)\n",
    "        if visited_map[check_position[0]][check_position[1]]['up']== False:\n",
    "            counter = counter + 1    \n",
    "    return counter"
   ]
  },
  {
   "cell_type": "code",
   "execution_count": 166,
   "id": "ee6007fa",
   "metadata": {},
   "outputs": [
    {
     "name": "stdout",
     "output_type": "stream",
     "text": [
      "Answer: 865662\n"
     ]
    }
   ],
   "source": [
    "with open('input_day12.txt') as file:\n",
    "    lines = file.readlines()\n",
    "    lines = [line.strip() for line in lines]\n",
    "    garden_map = [[c for c in line] for line in lines]\n",
    "    garden_map = np.array(garden_map)\n",
    "\n",
    "    visited_map = [[ {'left': False, 'right':False, 'up': False, 'down': False, 'middle':False}\n",
    "                    for j in range(garden_map.shape[1])] for i in range(garden_map.shape[0])]                        \n",
    "    counter = 0\n",
    "    for i in range(garden_map.shape[0]):\n",
    "        for j in range(garden_map.shape[1]):\n",
    "            if visited_map[i][j]['middle'] == False:\n",
    "                slots = []\n",
    "                spread(i,j, slots, garden_map, visited_map)\n",
    "                num_corners = 0\n",
    "                for s in slots:\n",
    "                    num_corners = num_corners + check_corner(s, visited_map)\n",
    "#                 print(f'Number of sides:{num_corners}, price: {num_corners*len(slots)}')\n",
    "                counter = counter + num_corners*len(slots)\n",
    "#                 print(f'Areas:{len(slots)} - Perimeter: {calculate_prerimeter(visited_map, slots)}', slots)\n",
    "\n",
    "    print('Answer:', counter)"
   ]
  },
  {
   "cell_type": "code",
   "execution_count": null,
   "id": "84c22dfb",
   "metadata": {},
   "outputs": [],
   "source": []
  }
 ],
 "metadata": {
  "kernelspec": {
   "display_name": "Python 3.12 (basic)",
   "language": "python",
   "name": "basic"
  },
  "language_info": {
   "codemirror_mode": {
    "name": "ipython",
    "version": 3
   },
   "file_extension": ".py",
   "mimetype": "text/x-python",
   "name": "python",
   "nbconvert_exporter": "python",
   "pygments_lexer": "ipython3",
   "version": "3.12.3"
  },
  "toc": {
   "base_numbering": 1,
   "nav_menu": {},
   "number_sections": true,
   "sideBar": true,
   "skip_h1_title": false,
   "title_cell": "Table of Contents",
   "title_sidebar": "Contents",
   "toc_cell": false,
   "toc_position": {},
   "toc_section_display": true,
   "toc_window_display": false
  }
 },
 "nbformat": 4,
 "nbformat_minor": 5
}
