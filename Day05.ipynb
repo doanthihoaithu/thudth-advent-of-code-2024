{
 "cells": [
  {
   "cell_type": "markdown",
   "id": "12df9c6c",
   "metadata": {},
   "source": [
    "# Part 1"
   ]
  },
  {
   "cell_type": "code",
   "execution_count": 1,
   "id": "f6e2cac4",
   "metadata": {},
   "outputs": [],
   "source": [
    "import numpy as np\n",
    "import pandas as pd"
   ]
  },
  {
   "cell_type": "code",
   "execution_count": 124,
   "id": "258b61bf",
   "metadata": {},
   "outputs": [],
   "source": [
    "with open('input_day05.txt') as file:\n",
    "    lines = file.readlines()\n",
    "    updates = []\n",
    "    rules = []\n",
    "    for line in lines:\n",
    "        if \"|\" in line:\n",
    "            numbers = line.split('|')\n",
    "            rules.append((int(numbers[0]), int(numbers[1])))\n",
    "        elif line != '\\n':\n",
    "            page_order = [int(n) for n in line.strip().split(',')]\n",
    "            updates.append(page_order)"
   ]
  },
  {
   "cell_type": "code",
   "execution_count": 125,
   "id": "d39d2c2b",
   "metadata": {},
   "outputs": [
    {
     "data": {
      "text/plain": [
       "(194, 1176)"
      ]
     },
     "execution_count": 125,
     "metadata": {},
     "output_type": "execute_result"
    }
   ],
   "source": [
    "len(updates), len(rules)"
   ]
  },
  {
   "cell_type": "code",
   "execution_count": 128,
   "id": "75c55738",
   "metadata": {},
   "outputs": [],
   "source": [
    "# dictionary: {page: index}\n",
    "def build_dictionary_for_an_update(numbers: []):\n",
    "    dictionary = dict()\n",
    "    for index, n in enumerate(numbers):\n",
    "        dictionary[n] = index\n",
    "    return dictionary\n",
    "        "
   ]
  },
  {
   "cell_type": "code",
   "execution_count": 129,
   "id": "a98a7fb4",
   "metadata": {},
   "outputs": [],
   "source": [
    "# A rule <first|second> is vilolated if dictionary[first] > dictionary[second]\n",
    "def check_all_rules(rules, dictionary):\n",
    "    for r in rules:\n",
    "        before, after = r\n",
    "        index_before = dictionary.get(before)\n",
    "        index_after = dictionary.get(after)\n",
    "        if index_before != None and index_after != None:\n",
    "            if index_before > index_after:\n",
    "                return False\n",
    "    return True"
   ]
  },
  {
   "cell_type": "code",
   "execution_count": 130,
   "id": "b353e8de",
   "metadata": {},
   "outputs": [
    {
     "name": "stdout",
     "output_type": "stream",
     "text": [
      "Answer: 5452\n"
     ]
    }
   ],
   "source": [
    "middles = []\n",
    "for u in updates:\n",
    "    dictionary = build_dictionary_for_an_update(u)\n",
    "    if check_all_rules(rules, dictionary):\n",
    "        middles.append(u[int(len(u)/2)])\n",
    "print('Answer:', np.sum(middles))"
   ]
  },
  {
   "cell_type": "markdown",
   "id": "3cd990d7",
   "metadata": {},
   "source": [
    "# Part 2"
   ]
  },
  {
   "cell_type": "code",
   "execution_count": 138,
   "id": "8d834db5",
   "metadata": {},
   "outputs": [],
   "source": [
    "with open('input_day05.txt') as file:\n",
    "    lines = file.readlines()\n",
    "    updates = []\n",
    "    rules = []\n",
    "    for line in lines:\n",
    "        if \"|\" in line:\n",
    "            numbers = line.split('|')\n",
    "            rules.append((int(numbers[0]), int(numbers[1])))\n",
    "        elif line != '\\n':\n",
    "            page_order = [int(n) for n in line.strip().split(',')]\n",
    "            updates.append(page_order)"
   ]
  },
  {
   "cell_type": "code",
   "execution_count": 139,
   "id": "c9b25e93",
   "metadata": {},
   "outputs": [
    {
     "data": {
      "text/plain": [
       "(194, 1176)"
      ]
     },
     "execution_count": 139,
     "metadata": {},
     "output_type": "execute_result"
    }
   ],
   "source": [
    "len(updates), len(rules)"
   ]
  },
  {
   "cell_type": "code",
   "execution_count": 140,
   "id": "e56dbbf7",
   "metadata": {},
   "outputs": [],
   "source": [
    "def check_all_rules_new(rules, dictionary):\n",
    "    wrong_rules = []\n",
    "    for r in rules:\n",
    "        before, after = r\n",
    "        index_before = dictionary.get(before)\n",
    "        index_after = dictionary.get(after)\n",
    "        if index_before != None and index_after != None:\n",
    "            if index_before > index_after:\n",
    "                wrong_rules.append(r)\n",
    "    return wrong_rules"
   ]
  },
  {
   "cell_type": "code",
   "execution_count": 143,
   "id": "aaadac11",
   "metadata": {},
   "outputs": [],
   "source": [
    "#Use vilolated rules to create custom comparison\n",
    "wrong_rules = []\n",
    "def compare(item1, item2):\n",
    "    for r in wrong_rules :\n",
    "        before, after = r\n",
    "        if item1 == before and item2 == after:\n",
    "            return -1\n",
    "    return 0"
   ]
  },
  {
   "cell_type": "code",
   "execution_count": 146,
   "id": "e1a80996",
   "metadata": {},
   "outputs": [
    {
     "name": "stdout",
     "output_type": "stream",
     "text": [
      "Answer: 4598\n"
     ]
    }
   ],
   "source": [
    "from functools import cmp_to_key\n",
    "\n",
    "middles = []\n",
    "wrong_rules_all = []\n",
    "result = 0\n",
    "for u in updates:\n",
    "    dictionary = build_dictionary_for_page_order(u)\n",
    "    wrong_rules = check_all_rules_new(rules, dictionary)\n",
    "    if len(wrong_rules) > 0:\n",
    "        sorted_update = sorted(u, key=cmp_to_key(compare))\n",
    "        middles.append(sorted_update[int(len(sorted_update)/2)])\n",
    "        wrong_rules_all.append(wrong_rules)\n",
    "        \n",
    "print('Answer:', np.sum(middles))"
   ]
  },
  {
   "cell_type": "code",
   "execution_count": 147,
   "id": "8a7e9dca",
   "metadata": {},
   "outputs": [
    {
     "data": {
      "text/plain": [
       "4598"
      ]
     },
     "execution_count": 147,
     "metadata": {},
     "output_type": "execute_result"
    }
   ],
   "source": [
    "np.sum(middles)"
   ]
  }
 ],
 "metadata": {
  "kernelspec": {
   "display_name": "TimeEval (Python 3.8)",
   "language": "python",
   "name": "timeeval"
  },
  "language_info": {
   "codemirror_mode": {
    "name": "ipython",
    "version": 3
   },
   "file_extension": ".py",
   "mimetype": "text/x-python",
   "name": "python",
   "nbconvert_exporter": "python",
   "pygments_lexer": "ipython3",
   "version": "3.8.19"
  },
  "toc": {
   "base_numbering": 1,
   "nav_menu": {},
   "number_sections": true,
   "sideBar": true,
   "skip_h1_title": false,
   "title_cell": "Table of Contents",
   "title_sidebar": "Contents",
   "toc_cell": false,
   "toc_position": {},
   "toc_section_display": true,
   "toc_window_display": false
  }
 },
 "nbformat": 4,
 "nbformat_minor": 5
}
