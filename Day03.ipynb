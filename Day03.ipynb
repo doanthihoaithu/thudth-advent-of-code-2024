{
 "cells": [
  {
   "cell_type": "markdown",
   "id": "82b921b6",
   "metadata": {},
   "source": [
    "# Part 1"
   ]
  },
  {
   "cell_type": "code",
   "execution_count": 39,
   "id": "c2b1cab8",
   "metadata": {},
   "outputs": [
    {
     "name": "stdout",
     "output_type": "stream",
     "text": [
      "Answer:  155955228\n"
     ]
    }
   ],
   "source": [
    "import re \n",
    "\n",
    "with open('input_day03.txt') as file:\n",
    "    counter = 0\n",
    "    data = file.read().replace('\\n', '')\n",
    "    pattern = re.compile(r\"mul\\((\\d+),(\\d+)\\)\")\n",
    "    # find all matches to groups\n",
    "    result = 0\n",
    "    for match in pattern.finditer(data):\n",
    "    #     print(match.group(0))\n",
    "        result = result + int(match.group(1))*int(match.group(2))\n",
    "    print('Answer: ', result)"
   ]
  },
  {
   "cell_type": "markdown",
   "id": "65f12c9d",
   "metadata": {},
   "source": [
    "# Part 2"
   ]
  },
  {
   "cell_type": "code",
   "execution_count": 41,
   "id": "27a3f663",
   "metadata": {},
   "outputs": [
    {
     "name": "stdout",
     "output_type": "stream",
     "text": [
      "Answer: 100189366\n"
     ]
    }
   ],
   "source": [
    "with open('input_day03.txt') as file:\n",
    "    counter = 0\n",
    "    data = file.read().replace('\\n', '')\n",
    "\n",
    "    pattern = re.compile(r\"(?P<instruction>(?:do\\(\\))|(?:don't\\(\\)))|(?P<multiplication>mul\\((?P<first>\\d+),(?P<second>\\d+)\\))\")\n",
    "\n",
    "    # find all matches to groups\n",
    "    result = 0\n",
    "    current_instruction = 'do()'\n",
    "    for match in pattern.finditer(data):\n",
    "    #     print(match.group(0))\n",
    "        if match.group('instruction') != None:\n",
    "            current_instruction = match.group('instruction')\n",
    "        if match.group('multiplication') != None:\n",
    "            if current_instruction == 'do()':\n",
    "                result = result + int(match.group('first'))*int(match.group('second'))\n",
    "                \n",
    "    print('Answer:', result)"
   ]
  },
  {
   "cell_type": "code",
   "execution_count": null,
   "id": "e3ba270b",
   "metadata": {},
   "outputs": [],
   "source": []
  }
 ],
 "metadata": {
  "kernelspec": {
   "display_name": "TimeEval (Python 3.8)",
   "language": "python",
   "name": "timeeval"
  },
  "language_info": {
   "codemirror_mode": {
    "name": "ipython",
    "version": 3
   },
   "file_extension": ".py",
   "mimetype": "text/x-python",
   "name": "python",
   "nbconvert_exporter": "python",
   "pygments_lexer": "ipython3",
   "version": "3.8.19"
  },
  "toc": {
   "base_numbering": 1,
   "nav_menu": {},
   "number_sections": true,
   "sideBar": true,
   "skip_h1_title": false,
   "title_cell": "Table of Contents",
   "title_sidebar": "Contents",
   "toc_cell": false,
   "toc_position": {},
   "toc_section_display": true,
   "toc_window_display": false
  }
 },
 "nbformat": 4,
 "nbformat_minor": 5
}
