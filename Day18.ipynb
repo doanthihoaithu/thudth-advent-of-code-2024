{
 "cells": [
  {
   "cell_type": "markdown",
   "id": "3dd1393f",
   "metadata": {},
   "source": [
    "# Part 1"
   ]
  },
  {
   "cell_type": "code",
   "execution_count": 44,
   "id": "db9f90ad",
   "metadata": {},
   "outputs": [],
   "source": [
    "def in_bound(pos, map_matrix):\n",
    "    max_row = map_matrix.shape[0]\n",
    "    max_column = map_matrix.shape[1]\n",
    "    return pos[0] in range(max_row) and pos[1] in range(max_column)"
   ]
  },
  {
   "cell_type": "code",
   "execution_count": 45,
   "id": "473a7e0a",
   "metadata": {},
   "outputs": [],
   "source": [
    "def spread(current_position, room_map, cost_map, current_cost, end_position):\n",
    "#     visited_map[current_position] = True\n",
    "    cost_map[current_position] = current_cost\n",
    "#     print('Visit', current_position)\n",
    "    if current_position == end_position:\n",
    "#         print('Visit ending position', current_position)\n",
    "#         recored_scores.append(current_cost)\n",
    "        return \n",
    "    next_positions = [(current_position[0], current_position[1] -1 ), \\\n",
    "                       (current_position[0], current_position[1] + 1), \\\n",
    "                      (current_position[0] + 1, current_position[1]), \\\n",
    "                      (current_position[0] - 1, current_position[1])]\n",
    "#     print(next_positions)\n",
    "    for next_position in next_positions:\n",
    "        if in_bound(next_position, room_map) and room_map[next_position] != '#':\n",
    "            combined_next_cost = current_cost + 1\n",
    "#             print('Next cost', combined_next_cost, 'current cost', cost_map[next_position])\n",
    "            if combined_next_cost < cost_map[next_position]:\n",
    "                spread(next_position, room_map, cost_map, combined_next_cost, end_position)"
   ]
  },
  {
   "cell_type": "code",
   "execution_count": 46,
   "id": "40a60084",
   "metadata": {},
   "outputs": [
    {
     "name": "stdout",
     "output_type": "stream",
     "text": [
      "Answer: 296\n"
     ]
    }
   ],
   "source": [
    "from datetime import datetime\n",
    "import numpy as np\n",
    "with open('input_day18.txt') as file:\n",
    "    lines = file.readlines()\n",
    "    lines = [line.strip() for line in lines]\n",
    "    positions = [[int(c) for c in line.split(',')] for line in lines]\n",
    "    positions = [(p[1], p[0]) for p in positions]\n",
    "    \n",
    "    max_length = 71\n",
    "    memory_map = []\n",
    "    for i in range(max_length):\n",
    "        memory_map.append(['.']* max_length)\n",
    "    memory_map = np.array(memory_map)\n",
    "    \n",
    "    cost_map = np.array([[10000 for j in range(memory_map.shape[1])] for i in range(memory_map.shape[0])])\n",
    "    \n",
    "    for i in range(1024):\n",
    "        byte = positions[i]\n",
    "        memory_map[byte] = '#'\n",
    "    \n",
    "#     print(memory_map)\n",
    "    \n",
    "    start_position = (0,0)\n",
    "    end_position = (max_length-1, max_length - 1)\n",
    "#     end_position = (10, 10)\n",
    "    spread(start_position, memory_map, cost_map, 0, end_position)\n",
    "    \n",
    "    print('Answer:', cost_map[end_position])"
   ]
  },
  {
   "cell_type": "markdown",
   "id": "a031a8bb",
   "metadata": {},
   "source": [
    "# Part 2"
   ]
  },
  {
   "cell_type": "code",
   "execution_count": 50,
   "id": "af9e0121",
   "metadata": {},
   "outputs": [],
   "source": [
    "from datetime import datetime\n",
    "import numpy as np\n",
    "with open('input_day18.txt') as file:\n",
    "    lines = file.readlines()\n",
    "    lines = [line.strip() for line in lines]\n",
    "    positions = [[int(c) for c in line.split(',')] for line in lines]\n",
    "    positions = [(p[1], p[0]) for p in positions]\n",
    "    \n",
    "    max_length = 71\n",
    "    memory_map = []\n",
    "    for i in range(max_length):\n",
    "        memory_map.append(['.']* max_length)\n",
    "    memory_map = np.array(memory_map)\n",
    "    \n",
    "    cost_map = np.array([[10000 for j in range(memory_map.shape[1])] for i in range(memory_map.shape[0])])"
   ]
  },
  {
   "cell_type": "code",
   "execution_count": null,
   "id": "3ca301b7",
   "metadata": {},
   "outputs": [],
   "source": [
    "left = 0\n",
    "right = len(positions) - 1\n",
    "\n",
    "first_element = None\n",
    "while True:\n",
    "    middle = int((left + high)/2)\n",
    "    memory_map_copy = memory_map.copy()\n",
    "    for i in range(middle):\n",
    "        byte = positions[i]\n",
    "        memory_map_copy[byte] = '#'\n",
    "    \n",
    "#     print(memory_map)\n",
    "    \n",
    "    start_position = (0,0)\n",
    "    end_position = (max_length-1, max_length - 1)\n",
    "#     end_position = (10, 10)\n",
    "    spread(start_position, memory_map_copy, cost_map, 0, end_position)\n",
    "    \n",
    "    if cost_map[end_position] != 10000:\n",
    "        middle = int((middle + hight)/2)\n",
    "    else:\n",
    "        high = middle\n",
    "        middle = int((left+hight))/2\n",
    "        "
   ]
  },
  {
   "cell_type": "code",
   "execution_count": 49,
   "id": "eb8f2639",
   "metadata": {},
   "outputs": [
    {
     "data": {
      "text/plain": [
       "array([[    0,     1,     2,     3,     4, 10000,    22,    21,    20,\n",
       "           21,    22],\n",
       "       [    1, 10000, 10000, 10000,     5, 10000, 10000, 10000,    19,\n",
       "        10000,    23],\n",
       "       [    2, 10000,     8,     7,     6, 10000,    16,    17,    18,\n",
       "        10000,    24],\n",
       "       [    3, 10000,     9, 10000, 10000, 10000,    15, 10000, 10000,\n",
       "        10000, 10000],\n",
       "       [    4, 10000,    10,    11,    12,    13,    14, 10000,    48,\n",
       "           47,    46],\n",
       "       [    5, 10000, 10000, 10000, 10000, 10000, 10000, 10000,    49,\n",
       "        10000,    45],\n",
       "       [    6, 10000,    60,    59,    58,    57,    58, 10000,    50,\n",
       "        10000,    44],\n",
       "       [    7, 10000,    59,    58,    57,    56, 10000, 10000,    51,\n",
       "           52, 10000],\n",
       "       [    8, 10000,    58,    57,    56,    55,    54,    53,    52,\n",
       "        10000,   242],\n",
       "       [    9, 10000, 10000, 10000, 10000, 10000,    55, 10000, 10000,\n",
       "           60, 10000],\n",
       "       [   10, 10000,    20,    21,    22, 10000,    56,    57,    58,\n",
       "           59,    60]])"
      ]
     },
     "execution_count": 49,
     "metadata": {},
     "output_type": "execute_result"
    }
   ],
   "source": [
    "cost_map[:11,:11]"
   ]
  },
  {
   "cell_type": "code",
   "execution_count": 19,
   "id": "388e14e8",
   "metadata": {},
   "outputs": [],
   "source": [
    "from datetime import datetime\n",
    "import numpy as np\n",
    "with open('input_day18_test_1.txt') as file:\n",
    "    lines = file.readlines()\n",
    "    lines = [line.strip() for line in lines]\n",
    "    positions = [[int(c) for c in line.split(',')] for line in lines]"
   ]
  },
  {
   "cell_type": "code",
   "execution_count": 20,
   "id": "4a525730",
   "metadata": {},
   "outputs": [
    {
     "data": {
      "text/plain": [
       "25"
      ]
     },
     "execution_count": 20,
     "metadata": {},
     "output_type": "execute_result"
    }
   ],
   "source": [
    "len(lines)"
   ]
  },
  {
   "cell_type": "code",
   "execution_count": 21,
   "id": "d93d1f62",
   "metadata": {},
   "outputs": [],
   "source": [
    "positions = [(p[1], p[0]) for p in positions]"
   ]
  },
  {
   "cell_type": "code",
   "execution_count": 22,
   "id": "1dd4774e",
   "metadata": {},
   "outputs": [
    {
     "data": {
      "text/plain": [
       "[(4, 5),\n",
       " (2, 4),\n",
       " (5, 4),\n",
       " (0, 3),\n",
       " (1, 2),\n",
       " (3, 6),\n",
       " (4, 2),\n",
       " (5, 1),\n",
       " (6, 0),\n",
       " (3, 3),\n",
       " (6, 2),\n",
       " (1, 5),\n",
       " (2, 1),\n",
       " (5, 5),\n",
       " (5, 2),\n",
       " (5, 6),\n",
       " (4, 1),\n",
       " (4, 0),\n",
       " (4, 6),\n",
       " (1, 1),\n",
       " (1, 6),\n",
       " (0, 1),\n",
       " (5, 0),\n",
       " (6, 1),\n",
       " (0, 2)]"
      ]
     },
     "execution_count": 22,
     "metadata": {},
     "output_type": "execute_result"
    }
   ],
   "source": [
    "positions"
   ]
  },
  {
   "cell_type": "code",
   "execution_count": 25,
   "id": "913e6b55",
   "metadata": {},
   "outputs": [
    {
     "data": {
      "text/plain": [
       "array([['.', '.', '.', '.', '.', '.', '.'],\n",
       "       ['.', '.', '.', '.', '.', '.', '.'],\n",
       "       ['.', '.', '.', '.', '.', '.', '.'],\n",
       "       ['.', '.', '.', '.', '.', '.', '.'],\n",
       "       ['.', '.', '.', '.', '.', '.', '.'],\n",
       "       ['.', '.', '.', '.', '.', '.', '.'],\n",
       "       ['.', '.', '.', '.', '.', '.', '.']], dtype='<U1')"
      ]
     },
     "execution_count": 25,
     "metadata": {},
     "output_type": "execute_result"
    }
   ],
   "source": [
    "max_length = 7\n",
    "memory_map = []\n",
    "for i in range(max_length):\n",
    "    memory_map.append(['.']* max_length)\n",
    "memory_map = np.array(memory_map)\n",
    "memory_map"
   ]
  },
  {
   "cell_type": "code",
   "execution_count": 27,
   "id": "8eeed876",
   "metadata": {},
   "outputs": [
    {
     "name": "stdout",
     "output_type": "stream",
     "text": [
      "[['.' '.' '.' '#' '.' '.' '.']\n",
      " ['.' '.' '#' '.' '.' '#' '.']\n",
      " ['.' '.' '.' '.' '#' '.' '.']\n",
      " ['.' '.' '.' '#' '.' '.' '#']\n",
      " ['.' '.' '#' '.' '.' '#' '.']\n",
      " ['.' '#' '.' '.' '#' '.' '.']\n",
      " ['#' '.' '#' '.' '.' '.' '.']]\n"
     ]
    }
   ],
   "source": [
    "for i in range(12):\n",
    "    byte = positions[i]\n",
    "    memory_map[byte] = '#'\n",
    "print(memory_map)\n",
    "    "
   ]
  },
  {
   "cell_type": "code",
   "execution_count": 28,
   "id": "c0139421",
   "metadata": {},
   "outputs": [],
   "source": [
    "start_position = (0,0)\n",
    "end_position = (max_length-1, max_length - 1)"
   ]
  },
  {
   "cell_type": "code",
   "execution_count": 30,
   "id": "86920755",
   "metadata": {},
   "outputs": [
    {
     "data": {
      "text/plain": [
       "array([[500, 500, 500, 500, 500, 500, 500],\n",
       "       [500, 500, 500, 500, 500, 500, 500],\n",
       "       [500, 500, 500, 500, 500, 500, 500],\n",
       "       [500, 500, 500, 500, 500, 500, 500],\n",
       "       [500, 500, 500, 500, 500, 500, 500],\n",
       "       [500, 500, 500, 500, 500, 500, 500],\n",
       "       [500, 500, 500, 500, 500, 500, 500]])"
      ]
     },
     "execution_count": 30,
     "metadata": {},
     "output_type": "execute_result"
    }
   ],
   "source": [
    "cost_map = np.array([[500 for j in range(memory_map.shape[1])] for i in range(memory_map.shape[0])])\n",
    "cost_map"
   ]
  },
  {
   "cell_type": "code",
   "execution_count": 8,
   "id": "95720db3",
   "metadata": {},
   "outputs": [],
   "source": []
  },
  {
   "cell_type": "code",
   "execution_count": 35,
   "id": "8b57b926",
   "metadata": {},
   "outputs": [
    {
     "name": "stdout",
     "output_type": "stream",
     "text": [
      "[('up', 1, (-1, 0)), ('right', 1, (0, 1)), ('left', 1, (0, -1))]\n",
      "Next cost 1 current cost 500\n",
      "[('right', 1, (0, 2)), ('up', 1, (-1, 1)), ('down', 1, (1, 1))]\n",
      "Next cost 2 current cost 500\n",
      "[('right', 1, (0, 3)), ('up', 1, (-1, 2)), ('down', 1, (1, 2))]\n",
      "Next cost 2 current cost 500\n",
      "[('down', 1, (2, 1)), ('left', 1, (1, 0)), ('right', 1, (1, 2))]\n",
      "Next cost 3 current cost 500\n",
      "[('down', 1, (3, 1)), ('left', 1, (2, 0)), ('right', 1, (2, 2))]\n",
      "Next cost 4 current cost 500\n",
      "[('down', 1, (4, 1)), ('left', 1, (3, 0)), ('right', 1, (3, 2))]\n",
      "Next cost 5 current cost 500\n",
      "[('down', 1, (5, 1)), ('left', 1, (4, 0)), ('right', 1, (4, 2))]\n",
      "Next cost 6 current cost 500\n",
      "[('left', 1, (4, -1)), ('up', 1, (3, 0)), ('down', 1, (5, 0))]\n",
      "Next cost 7 current cost 500\n",
      "[('up', 1, (2, 0)), ('right', 1, (3, 1)), ('left', 1, (3, -1))]\n",
      "Next cost 8 current cost 500\n",
      "[('up', 1, (1, 0)), ('right', 1, (2, 1)), ('left', 1, (2, -1))]\n",
      "Next cost 9 current cost 500\n",
      "[('up', 1, (0, 0)), ('right', 1, (1, 1)), ('left', 1, (1, -1))]\n",
      "Next cost 10 current cost 0\n",
      "Next cost 10 current cost 2\n",
      "Next cost 9 current cost 3\n",
      "Next cost 8 current cost 4\n",
      "Next cost 7 current cost 500\n",
      "[('down', 1, (6, 0)), ('left', 1, (5, -1)), ('right', 1, (5, 1))]\n",
      "Next cost 5 current cost 7\n",
      "[('left', 1, (3, -1)), ('up', 1, (2, 0)), ('down', 1, (4, 0))]\n",
      "Next cost 6 current cost 8\n",
      "[('up', 1, (1, 0)), ('right', 1, (2, 1)), ('left', 1, (2, -1))]\n",
      "Next cost 7 current cost 9\n",
      "[('up', 1, (0, 0)), ('right', 1, (1, 1)), ('left', 1, (1, -1))]\n",
      "Next cost 8 current cost 0\n",
      "Next cost 8 current cost 2\n",
      "Next cost 7 current cost 3\n",
      "Next cost 6 current cost 6\n",
      "[('down', 1, (5, 0)), ('left', 1, (4, -1)), ('right', 1, (4, 1))]\n",
      "Next cost 7 current cost 7\n",
      "[('down', 1, (6, 0)), ('left', 1, (5, -1)), ('right', 1, (5, 1))]\n",
      "Next cost 7 current cost 5\n",
      "Next cost 5 current cost 500\n",
      "[('right', 1, (3, 3)), ('up', 1, (2, 2)), ('down', 1, (4, 2))]\n",
      "Next cost 6 current cost 500\n",
      "[('up', 1, (1, 2)), ('right', 1, (2, 3)), ('left', 1, (2, 1))]\n",
      "Next cost 7 current cost 500\n",
      "[('right', 1, (2, 4)), ('up', 1, (1, 3)), ('down', 1, (3, 3))]\n",
      "Next cost 8 current cost 500\n",
      "[('up', 1, (0, 3)), ('right', 1, (1, 4)), ('left', 1, (1, 2))]\n",
      "Next cost 9 current cost 500\n",
      "[('right', 1, (1, 5)), ('up', 1, (0, 4)), ('down', 1, (2, 4))]\n",
      "Next cost 10 current cost 500\n",
      "[('up', 1, (-1, 4)), ('right', 1, (0, 5)), ('left', 1, (0, 3))]\n",
      "Next cost 11 current cost 500\n",
      "[('right', 1, (0, 6)), ('up', 1, (-1, 5)), ('down', 1, (1, 5))]\n",
      "Next cost 12 current cost 500\n",
      "[('right', 1, (0, 7)), ('up', 1, (-1, 6)), ('down', 1, (1, 6))]\n",
      "Next cost 13 current cost 500\n",
      "[('down', 1, (2, 6)), ('left', 1, (1, 5)), ('right', 1, (1, 7))]\n",
      "Next cost 14 current cost 500\n",
      "[('down', 1, (3, 6)), ('left', 1, (2, 5)), ('right', 1, (2, 7))]\n",
      "Next cost 15 current cost 500\n",
      "[('left', 1, (2, 4)), ('up', 1, (1, 5)), ('down', 1, (3, 5))]\n",
      "Next cost 16 current cost 500\n",
      "[('down', 1, (4, 5)), ('left', 1, (3, 4)), ('right', 1, (3, 6))]\n",
      "Next cost 17 current cost 500\n",
      "[('left', 1, (3, 3)), ('up', 1, (2, 4)), ('down', 1, (4, 4))]\n",
      "Next cost 18 current cost 500\n",
      "[('down', 1, (5, 4)), ('left', 1, (4, 3)), ('right', 1, (4, 5))]\n",
      "Next cost 19 current cost 500\n",
      "[('left', 1, (4, 2)), ('up', 1, (3, 3)), ('down', 1, (5, 3))]\n",
      "Next cost 20 current cost 500\n",
      "[('down', 1, (6, 3)), ('left', 1, (5, 2)), ('right', 1, (5, 4))]\n",
      "Next cost 21 current cost 500\n",
      "[('down', 1, (7, 3)), ('left', 1, (6, 2)), ('right', 1, (6, 4))]\n",
      "Next cost 22 current cost 500\n",
      "[('right', 1, (6, 5)), ('up', 1, (5, 4)), ('down', 1, (7, 4))]\n",
      "Next cost 23 current cost 500\n",
      "[('right', 1, (6, 6)), ('up', 1, (5, 5)), ('down', 1, (7, 5))]\n",
      "Next cost 24 current cost 500\n",
      "Next cost 24 current cost 500\n",
      "[('up', 1, (4, 5)), ('right', 1, (5, 6)), ('left', 1, (5, 4))]\n",
      "Next cost 25 current cost 500\n",
      "[('right', 1, (5, 7)), ('up', 1, (4, 6)), ('down', 1, (6, 6))]\n",
      "Next cost 26 current cost 500\n",
      "[('up', 1, (3, 6)), ('right', 1, (4, 7)), ('left', 1, (4, 5))]\n",
      "Next cost 26 current cost 24\n",
      "Next cost 21 current cost 500\n",
      "[('left', 1, (5, 1)), ('up', 1, (4, 2)), ('down', 1, (6, 2))]\n",
      "Next cost 7 current cost 3\n",
      "Next cost 4 current cost 6\n",
      "[('left', 1, (2, -1)), ('up', 1, (1, 0)), ('down', 1, (3, 0))]\n",
      "Next cost 5 current cost 7\n",
      "[('up', 1, (0, 0)), ('right', 1, (1, 1)), ('left', 1, (1, -1))]\n",
      "Next cost 6 current cost 0\n",
      "Next cost 6 current cost 2\n",
      "Next cost 5 current cost 5\n",
      "[('down', 1, (4, 0)), ('left', 1, (3, -1)), ('right', 1, (3, 1))]\n",
      "Next cost 6 current cost 6\n",
      "[('down', 1, (5, 0)), ('left', 1, (4, -1)), ('right', 1, (4, 1))]\n",
      "Next cost 7 current cost 7\n",
      "[('down', 1, (6, 0)), ('left', 1, (5, -1)), ('right', 1, (5, 1))]\n",
      "Next cost 7 current cost 5\n",
      "Next cost 6 current cost 4\n",
      "Next cost 4 current cost 6\n",
      "[('right', 1, (2, 3)), ('up', 1, (1, 2)), ('down', 1, (3, 2))]\n",
      "Next cost 5 current cost 7\n",
      "[('right', 1, (2, 4)), ('up', 1, (1, 3)), ('down', 1, (3, 3))]\n",
      "Next cost 6 current cost 8\n",
      "[('up', 1, (0, 3)), ('right', 1, (1, 4)), ('left', 1, (1, 2))]\n",
      "Next cost 7 current cost 9\n",
      "[('right', 1, (1, 5)), ('up', 1, (0, 4)), ('down', 1, (2, 4))]\n",
      "Next cost 8 current cost 10\n",
      "[('up', 1, (-1, 4)), ('right', 1, (0, 5)), ('left', 1, (0, 3))]\n",
      "Next cost 9 current cost 11\n",
      "[('right', 1, (0, 6)), ('up', 1, (-1, 5)), ('down', 1, (1, 5))]\n",
      "Next cost 10 current cost 12\n",
      "[('right', 1, (0, 7)), ('up', 1, (-1, 6)), ('down', 1, (1, 6))]\n",
      "Next cost 11 current cost 13\n",
      "[('down', 1, (2, 6)), ('left', 1, (1, 5)), ('right', 1, (1, 7))]\n",
      "Next cost 12 current cost 14\n",
      "[('down', 1, (3, 6)), ('left', 1, (2, 5)), ('right', 1, (2, 7))]\n",
      "Next cost 13 current cost 15\n",
      "[('left', 1, (2, 4)), ('up', 1, (1, 5)), ('down', 1, (3, 5))]\n",
      "Next cost 14 current cost 16\n",
      "[('down', 1, (4, 5)), ('left', 1, (3, 4)), ('right', 1, (3, 6))]\n",
      "Next cost 15 current cost 17\n",
      "[('left', 1, (3, 3)), ('up', 1, (2, 4)), ('down', 1, (4, 4))]\n",
      "Next cost 16 current cost 18\n",
      "[('down', 1, (5, 4)), ('left', 1, (4, 3)), ('right', 1, (4, 5))]\n",
      "Next cost 17 current cost 19\n",
      "[('left', 1, (4, 2)), ('up', 1, (3, 3)), ('down', 1, (5, 3))]\n",
      "Next cost 18 current cost 20\n",
      "[('down', 1, (6, 3)), ('left', 1, (5, 2)), ('right', 1, (5, 4))]\n",
      "Next cost 19 current cost 21\n",
      "[('down', 1, (7, 3)), ('left', 1, (6, 2)), ('right', 1, (6, 4))]\n",
      "Next cost 20 current cost 22\n",
      "[('right', 1, (6, 5)), ('up', 1, (5, 4)), ('down', 1, (7, 4))]\n",
      "Next cost 21 current cost 23\n",
      "[('right', 1, (6, 6)), ('up', 1, (5, 5)), ('down', 1, (7, 5))]\n",
      "Next cost 22 current cost 24\n",
      "Next cost 22 current cost 24\n",
      "[('up', 1, (4, 5)), ('right', 1, (5, 6)), ('left', 1, (5, 4))]\n",
      "Next cost 23 current cost 25\n",
      "[('right', 1, (5, 7)), ('up', 1, (4, 6)), ('down', 1, (6, 6))]\n",
      "Next cost 24 current cost 26\n",
      "[('up', 1, (3, 6)), ('right', 1, (4, 7)), ('left', 1, (4, 5))]\n",
      "Next cost 24 current cost 22\n",
      "Next cost 19 current cost 21\n",
      "[('left', 1, (5, 1)), ('up', 1, (4, 2)), ('down', 1, (6, 2))]\n",
      "Next cost 5 current cost 5\n",
      "[('down', 1, (4, 2)), ('left', 1, (3, 1)), ('right', 1, (3, 3))]\n",
      "Next cost 6 current cost 4\n",
      "Next cost 3 current cost 5\n",
      "[('left', 1, (1, -1)), ('up', 1, (0, 0)), ('down', 1, (2, 0))]\n",
      "Next cost 4 current cost 0\n",
      "Next cost 4 current cost 4\n",
      "[('down', 1, (3, 0)), ('left', 1, (2, -1)), ('right', 1, (2, 1))]\n",
      "Next cost 5 current cost 5\n",
      "[('down', 1, (4, 0)), ('left', 1, (3, -1)), ('right', 1, (3, 1))]\n",
      "Next cost 6 current cost 6\n",
      "[('down', 1, (5, 0)), ('left', 1, (4, -1)), ('right', 1, (4, 1))]\n",
      "Next cost 7 current cost 7\n",
      "[('down', 1, (6, 0)), ('left', 1, (5, -1)), ('right', 1, (5, 1))]\n",
      "Next cost 7 current cost 5\n",
      "Next cost 6 current cost 4\n",
      "Next cost 5 current cost 3\n"
     ]
    }
   ],
   "source": [
    "spread(start_position, 'up', memory_map, cost_map, 0)"
   ]
  },
  {
   "cell_type": "code",
   "execution_count": 36,
   "id": "38cf179f",
   "metadata": {},
   "outputs": [
    {
     "name": "stdout",
     "output_type": "stream",
     "text": [
      "[[  0   1   2 500   8   9  10]\n",
      " [  3   2 500   6   7 500  11]\n",
      " [  4   3   4   5 500  13  12]\n",
      " [  5   4   5 500  15  14 500]\n",
      " [  6   5 500  17  16 500  24]\n",
      " [  7 500  19  18 500  22  23]\n",
      " [500 500 500  19  20  21  22]]\n"
     ]
    }
   ],
   "source": [
    "print(cost_map)"
   ]
  },
  {
   "cell_type": "code",
   "execution_count": 3,
   "id": "ed524b41",
   "metadata": {},
   "outputs": [],
   "source": [
    "\n",
    "def get_next_position_by_direction(current_position, direction):\n",
    "    if direction == 'up':\n",
    "        return (current_position[0] - 1, current_position[1])\n",
    "    elif direction == 'down':\n",
    "        return (current_position[0] + 1, current_position[1])\n",
    "    elif direction == 'right':\n",
    "        return (current_position[0], current_position[1] + 1)\n",
    "    elif direction == 'left':\n",
    "        return (current_position[0], current_position[1] -1 )\n",
    "\n",
    "# def get_next_directions_and_cost(current_position, current_direction):\n",
    "#     return [('up', 1, get_next_position_by_direction(current_position, 'up')), \\\n",
    "#             ('right', 1, get_next_position_by_direction(current_position, 'right')),\\\n",
    "#             ('left', 1, get_next_position_by_direction(current_position, 'left')), \\\n",
    "#             ('down', 1, get_next_position_by_direction(current_position, 'down')),\n",
    "#            ]\n",
    "#     if current_direction == 'up':\n",
    "#         return [('up', 1, get_next_position_by_direction(current_position, 'up')), \\\n",
    "#                 ('right', 1, get_next_position_by_direction(current_position, 'right')),\\\n",
    "#                 ('left', 1, get_next_position_by_direction(current_position, 'left'))]\n",
    "#     elif current_direction == 'right':\n",
    "#         return [('right', 1, get_next_position_by_direction(current_position, 'right')),\\\n",
    "#                 ('up', 1, get_next_position_by_direction(current_position, 'up')),\\\n",
    "#                 ('down', 1, get_next_position_by_direction(current_position, 'down'))]\n",
    "#     elif current_direction == 'down':\n",
    "#         return [('down', 1, get_next_position_by_direction(current_position, 'down')),\\\n",
    "#                 ('left', 1, get_next_position_by_direction(current_position, 'left')),\\\n",
    "#                 ('right', 1, get_next_position_by_direction(current_position, 'right'))]\n",
    "#     elif current_direction == 'left':\n",
    "#         return [('left', 1, get_next_position_by_direction(current_position, 'left')),\\\n",
    "#                 ('up', 1, get_next_position_by_direction(current_position, 'up')),\\\n",
    "#                 ('down', 1, get_next_position_by_direction(current_position, 'down'))]"
   ]
  },
  {
   "cell_type": "code",
   "execution_count": null,
   "id": "b08687ed",
   "metadata": {},
   "outputs": [],
   "source": []
  }
 ],
 "metadata": {
  "kernelspec": {
   "display_name": "Python 3.12 (basic)",
   "language": "python",
   "name": "basic"
  },
  "language_info": {
   "codemirror_mode": {
    "name": "ipython",
    "version": 3
   },
   "file_extension": ".py",
   "mimetype": "text/x-python",
   "name": "python",
   "nbconvert_exporter": "python",
   "pygments_lexer": "ipython3",
   "version": "3.12.3"
  },
  "toc": {
   "base_numbering": 1,
   "nav_menu": {},
   "number_sections": true,
   "sideBar": true,
   "skip_h1_title": false,
   "title_cell": "Table of Contents",
   "title_sidebar": "Contents",
   "toc_cell": false,
   "toc_position": {},
   "toc_section_display": true,
   "toc_window_display": false
  }
 },
 "nbformat": 4,
 "nbformat_minor": 5
}
