{
 "cells": [
  {
   "cell_type": "markdown",
   "id": "3dd1393f",
   "metadata": {},
   "source": [
    "# Part 1"
   ]
  },
  {
   "cell_type": "code",
   "execution_count": 44,
   "id": "db9f90ad",
   "metadata": {},
   "outputs": [],
   "source": [
    "def in_bound(pos, map_matrix):\n",
    "    max_row = map_matrix.shape[0]\n",
    "    max_column = map_matrix.shape[1]\n",
    "    return pos[0] in range(max_row) and pos[1] in range(max_column)"
   ]
  },
  {
   "cell_type": "code",
   "execution_count": 45,
   "id": "473a7e0a",
   "metadata": {},
   "outputs": [],
   "source": [
    "def spread(current_position, room_map, cost_map, current_cost, end_position):\n",
    "#     visited_map[current_position] = True\n",
    "    cost_map[current_position] = current_cost\n",
    "#     print('Visit', current_position)\n",
    "    if current_position == end_position:\n",
    "#         print('Visit ending position', current_position)\n",
    "#         recored_scores.append(current_cost)\n",
    "        return \n",
    "    next_positions = [(current_position[0], current_position[1] -1 ), \\\n",
    "                       (current_position[0], current_position[1] + 1), \\\n",
    "                      (current_position[0] + 1, current_position[1]), \\\n",
    "                      (current_position[0] - 1, current_position[1])]\n",
    "#     print(next_positions)\n",
    "    for next_position in next_positions:\n",
    "        if in_bound(next_position, room_map) and room_map[next_position] != '#':\n",
    "            combined_next_cost = current_cost + 1\n",
    "#             print('Next cost', combined_next_cost, 'current cost', cost_map[next_position])\n",
    "            if combined_next_cost < cost_map[next_position]:\n",
    "                spread(next_position, room_map, cost_map, combined_next_cost, end_position)"
   ]
  },
  {
   "cell_type": "code",
   "execution_count": 46,
   "id": "40a60084",
   "metadata": {},
   "outputs": [
    {
     "name": "stdout",
     "output_type": "stream",
     "text": [
      "Answer: 296\n"
     ]
    }
   ],
   "source": [
    "from datetime import datetime\n",
    "import numpy as np\n",
    "with open('input_day18.txt') as file:\n",
    "    lines = file.readlines()\n",
    "    lines = [line.strip() for line in lines]\n",
    "    positions = [[int(c) for c in line.split(',')] for line in lines]\n",
    "    positions = [(p[1], p[0]) for p in positions]\n",
    "    \n",
    "    max_length = 71\n",
    "    memory_map = []\n",
    "    for i in range(max_length):\n",
    "        memory_map.append(['.']* max_length)\n",
    "    memory_map = np.array(memory_map)\n",
    "    \n",
    "    cost_map = np.array([[10000 for j in range(memory_map.shape[1])] for i in range(memory_map.shape[0])])\n",
    "    \n",
    "    for i in range(1024):\n",
    "        byte = positions[i]\n",
    "        memory_map[byte] = '#'\n",
    "    \n",
    "#     print(memory_map)\n",
    "    \n",
    "    start_position = (0,0)\n",
    "    end_position = (max_length-1, max_length - 1)\n",
    "#     end_position = (10, 10)\n",
    "    spread(start_position, memory_map, cost_map, 0, end_position)\n",
    "    \n",
    "    print('Answer:', cost_map[end_position])"
   ]
  },
  {
   "cell_type": "markdown",
   "id": "a031a8bb",
   "metadata": {},
   "source": [
    "# Part 2"
   ]
  },
  {
   "cell_type": "code",
   "execution_count": 51,
   "id": "af9e0121",
   "metadata": {},
   "outputs": [],
   "source": [
    "from datetime import datetime\n",
    "import numpy as np\n",
    "with open('input_day18.txt') as file:\n",
    "    lines = file.readlines()\n",
    "    lines = [line.strip() for line in lines]\n",
    "    positions = [[int(c) for c in line.split(',')] for line in lines]\n",
    "    positions = [(p[1], p[0]) for p in positions]\n",
    "    \n",
    "    max_length = 71\n",
    "    memory_map = []\n",
    "    for i in range(max_length):\n",
    "        memory_map.append(['.']* max_length)\n",
    "    memory_map = np.array(memory_map)\n",
    "    \n",
    "    cost_map = np.array([[10000 for j in range(memory_map.shape[1])] for i in range(memory_map.shape[0])])"
   ]
  },
  {
   "cell_type": "code",
   "execution_count": 58,
   "id": "b6d3e48a",
   "metadata": {},
   "outputs": [
    {
     "data": {
      "text/plain": [
       "3450"
      ]
     },
     "execution_count": 58,
     "metadata": {},
     "output_type": "execute_result"
    }
   ],
   "source": [
    "len(positions)"
   ]
  },
  {
   "cell_type": "code",
   "execution_count": 70,
   "id": "3ca301b7",
   "metadata": {},
   "outputs": [
    {
     "name": "stdout",
     "output_type": "stream",
     "text": [
      "Impossible!\n"
     ]
    }
   ],
   "source": [
    "#Try multiple index in positions when can not find a possible path, stop\n",
    "memory_map_copy = memory_map.copy()\n",
    "cost_map_copy = cost_map.copy()\n",
    "for i in range(3027):\n",
    "    byte = positions[i]\n",
    "    memory_map_copy[byte] = '#'\n",
    "start_position = (0,0)\n",
    "end_position = (max_length-1, max_length - 1)\n",
    "spread(start_position, memory_map_copy, cost_map_copy, 0, end_position)\n",
    "\n",
    "if cost_map_copy[end_position] == 10000:\n",
    "    print('Impossible!')\n",
    "else:\n",
    "    print('Possible!')\n",
    "        "
   ]
  },
  {
   "cell_type": "code",
   "execution_count": 72,
   "id": "eb8f2639",
   "metadata": {},
   "outputs": [
    {
     "name": "stdout",
     "output_type": "stream",
     "text": [
      "Answer: (44, 28)\n"
     ]
    }
   ],
   "source": [
    "print('Answer:',positions[3026])"
   ]
  }
 ],
 "metadata": {
  "kernelspec": {
   "display_name": "Python 3.12 (basic)",
   "language": "python",
   "name": "basic"
  },
  "language_info": {
   "codemirror_mode": {
    "name": "ipython",
    "version": 3
   },
   "file_extension": ".py",
   "mimetype": "text/x-python",
   "name": "python",
   "nbconvert_exporter": "python",
   "pygments_lexer": "ipython3",
   "version": "3.12.3"
  },
  "toc": {
   "base_numbering": 1,
   "nav_menu": {},
   "number_sections": true,
   "sideBar": true,
   "skip_h1_title": false,
   "title_cell": "Table of Contents",
   "title_sidebar": "Contents",
   "toc_cell": false,
   "toc_position": {},
   "toc_section_display": true,
   "toc_window_display": false
  }
 },
 "nbformat": 4,
 "nbformat_minor": 5
}
