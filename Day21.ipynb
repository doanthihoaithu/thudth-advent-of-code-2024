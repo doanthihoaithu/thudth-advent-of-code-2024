{
 "cells": [
  {
   "cell_type": "markdown",
   "id": "30e23466",
   "metadata": {},
   "source": [
    "# Part 1"
   ]
  },
  {
   "cell_type": "code",
   "execution_count": 1,
   "id": "c2304f39",
   "metadata": {},
   "outputs": [],
   "source": [
    "import numpy as np"
   ]
  },
  {
   "cell_type": "code",
   "execution_count": 9,
   "id": "838da5bc",
   "metadata": {},
   "outputs": [
    {
     "name": "stdout",
     "output_type": "stream",
     "text": [
      "789A\n",
      "540A\n",
      "285A\n",
      "140A\n",
      "189A\n",
      "overall score 134120\n"
     ]
    }
   ],
   "source": [
    "# Solution from @wurlin_murlin\n",
    "# https://git.sr.ht/~murr/advent-of-code/tree/master/item/2024/21\n",
    "\n",
    "\n",
    "from sys import maxsize\n",
    "from itertools import pairwise, permutations\n",
    "\n",
    "dir_base_lookup = {\n",
    "    ('A', 'A'): 'A',\n",
    "    ('^', '^'): 'A',\n",
    "    ('>', '>'): 'A',\n",
    "    ('v', 'v'): 'A',\n",
    "    ('<', '<'): 'A',\n",
    "    ('A', '^'): '<A',\n",
    "    ('^', 'A'): '>A',\n",
    "    ('A', '>'): 'vA',\n",
    "    ('>', 'A'): '^A',\n",
    "    ('v', '^'): '^A',\n",
    "    ('^', 'v'): 'vA',\n",
    "    ('v', '<'): '<A',\n",
    "    ('<', 'v'): '>A',\n",
    "    ('v', '>'): '>A',\n",
    "    ('>', 'v'): '<A',\n",
    "\n",
    "    ('A', 'v'): 'v<A',\n",
    "    ('v', 'A'): '>^A',\n",
    "    ('A', '<'): 'v<<A',\n",
    "    ('<', 'A'): '>>^A',\n",
    "\n",
    "    ('>', '<'): '<<A',\n",
    "    ('<', '>'): '>>A',\n",
    "    ('<', '^'): '>^A',\n",
    "    ('^', '<'): 'v<A',\n",
    "    ('>', '^'): '<^A',\n",
    "    ('^', '>'): 'v>A',\n",
    "}\n",
    "\n",
    "dirs = [\n",
    "    [('^', -1), ('v', 1)],\n",
    "    [('<', -1), ('>', 1)],\n",
    "]\n",
    "\n",
    "numpad = [\n",
    "    ['7', '8', '9'],\n",
    "    ['4', '5', '6'],\n",
    "    ['1', '2', '3'],\n",
    "    [' ', '0', 'A']\n",
    "]\n",
    "\n",
    "numpad_lookup = {\n",
    "    '7': (0, 0), '8': (0, 1), '9': (0, 2),\n",
    "    '4': (1, 0), '5': (1, 1), '6': (1, 2),\n",
    "    '1': (2, 0), '2': (2, 1), '3': (2, 2),\n",
    "    ' ': (3, 0), '0': (3, 1), 'A': (3, 2),\n",
    "}\n",
    "\n",
    "dirpad = [\n",
    "    [' ', '^', 'A'],\n",
    "    ['<', 'v', '>'],\n",
    "]\n",
    "\n",
    "dirpad_lookup = {\n",
    "    ' ': (0, 0), '^': (0, 1), 'A': (0, 2),\n",
    "    '<': (1, 0), 'v': (1, 1), '>': (1, 2),\n",
    "}\n",
    "\n",
    "memo_dir = {} # TODO memo\n",
    "def dir_dfs(key_start, key_end, depth=0):\n",
    "    if depth == 0:\n",
    "        return dir_base_lookup[key_start, key_end]\n",
    "\n",
    "    s = dir_dfs(key_start, key_end, depth-1)\n",
    "    out = \"\"\n",
    "    for k0, k1 in pairwise('A' + s):\n",
    "        out += dir_base_lookup[k0, k1]\n",
    "\n",
    "    return out\n",
    "\n",
    "memo_num = {} # TODO memo\n",
    "def num_solve(key_start, key_end):\n",
    "#     print(\"num_solve\", key_start, key_end)\n",
    "    y0, x0 = numpad_lookup[key_start]\n",
    "    y1, x1 = numpad_lookup[key_end]\n",
    "    y_dist, x_dist = y1 - y0, x1 - x0\n",
    "    y_key, y_dir = dirs[0][y_dist > 0]\n",
    "    x_key, x_dir = dirs[1][x_dist > 0]\n",
    "\n",
    "    # To dodge blank corner\n",
    "    start_move = \"\"\n",
    "    mov_s = \"\"\n",
    "    if (y0 == 3 or y1 == 3) and (x0 == 0 or x1 == 0):\n",
    "        if x0 == 0:\n",
    "            start_move = '>'\n",
    "            mov_s = y_key * abs(y_dist) + x_key * (abs(x_dist) - 1)\n",
    "        else:\n",
    "            start_move = '^'\n",
    "            mov_s = y_key * (abs(y_dist) - 1) + x_key * abs(x_dist)\n",
    "    else:\n",
    "        mov_s = y_key * abs(y_dist) + x_key * abs(x_dist)\n",
    "\n",
    "    possible_inputs = [\n",
    "        'A' + start_move + ''.join(x) + 'A'\n",
    "        for x in set(permutations(mov_s))\n",
    "    ]\n",
    "#     print(\"possible inputs\", possible_inputs)\n",
    "\n",
    "    min_score, min_inputs = maxsize, \"\"\n",
    "    for inputs in possible_inputs:\n",
    "#         print(inputs)\n",
    "        sequence = ''.join(dir_dfs(k0, k1, depth=1) for k0, k1 in pairwise(inputs))\n",
    "#         print(sequence)\n",
    "        if len(sequence) < min_score:\n",
    "            min_score = len(sequence)\n",
    "            min_inputs = sequence\n",
    "    memo_num[key_start, key_end] = min_score\n",
    "#     print(\"best input\", min_inputs, \"score\", min_score)\n",
    "\n",
    "    return min_inputs\n",
    "\n",
    "def reduce_print_nums(s):\n",
    "    k2d = {'^': (-1, 0), '>': (0, 1), 'v': (1, 0), '<': (0, -1)}\n",
    "\n",
    "    out = \"\"\n",
    "\n",
    "    y, x = (3, 2)\n",
    "    for c in s:\n",
    "        if c == 'A':\n",
    "            out += numpad[y][x]\n",
    "            continue\n",
    "        dy, dx = k2d[c]\n",
    "        y, x = y+dy, x+dx\n",
    "        if numpad[y][x] == ' ':\n",
    "            print(\"blank panic\", y, x, s, out)\n",
    "            assert(False)\n",
    "    print(out)\n",
    "\n",
    "def reduce_print(s, depth):\n",
    "    if depth <= 0:\n",
    "        reduce_print_nums(s)\n",
    "        return\n",
    "\n",
    "    k2d = {'^': (-1, 0), '>': (0, 1), 'v': (1, 0), '<': (0, -1)}\n",
    "\n",
    "    out = \"\"\n",
    "    y, x = (0, 2)\n",
    "    for c in s:\n",
    "        if c == 'A':\n",
    "            out += dirpad[y][x]\n",
    "            continue\n",
    "        dy, dx = k2d[c]\n",
    "        y, x = y+dy, x+dx\n",
    "        if dirpad[y][x] == ' ':\n",
    "            print(\"blank panic\", y, x, s, out)\n",
    "            assert(False)\n",
    "\n",
    "#     print(out)\n",
    "    reduce_print(out, depth - 1)\n",
    "\n",
    "if __name__ == \"__main__\":\n",
    "    codes = open(\"input_day21.txt\").read().splitlines()\n",
    "    out = 0\n",
    "    for code in codes:\n",
    "        m = int(code[:-1])\n",
    "        s = ''.join(num_solve(a, b) for a, b in pairwise(\"A\" + code))\n",
    "        out += len(s) * m\n",
    "#         print(\"code\", code, \"gives\", s, \"len\", len(s), \"score\", len(s) * m)\n",
    "        reduce_print(s, 2)\n",
    "    print(\"overall score\", out)\n"
   ]
  },
  {
   "cell_type": "markdown",
   "id": "c96b0da2",
   "metadata": {},
   "source": [
    "# Part 2"
   ]
  },
  {
   "cell_type": "code",
   "execution_count": 3,
   "id": "bd0e10e5",
   "metadata": {},
   "outputs": [
    {
     "name": "stdout",
     "output_type": "stream",
     "text": [
      "Answer for part 2: 167389793580400\n"
     ]
    }
   ],
   "source": [
    "from sys import maxsize\n",
    "from itertools import pairwise, permutations\n",
    "\n",
    "MAX_DEPTH = 25\n",
    "\n",
    "dir_base_lookup = {\n",
    "    ('A', 'A'): 'A',\n",
    "    ('^', '^'): 'A',\n",
    "    ('>', '>'): 'A',\n",
    "    ('v', 'v'): 'A',\n",
    "    ('<', '<'): 'A',\n",
    "    ('A', '^'): '<A',\n",
    "    ('^', 'A'): '>A',\n",
    "    ('A', '>'): 'vA',\n",
    "    ('>', 'A'): '^A',\n",
    "    ('v', '^'): '^A',\n",
    "    ('^', 'v'): 'vA',\n",
    "    ('v', '<'): '<A',\n",
    "    ('<', 'v'): '>A',\n",
    "    ('v', '>'): '>A',\n",
    "    ('>', 'v'): '<A',\n",
    "\n",
    "    ('A', 'v'): '<vA',\n",
    "    ('v', 'A'): '^>A',\n",
    "    ('A', '<'): 'v<<A',\n",
    "    ('<', 'A'): '>>^A',\n",
    "\n",
    "    ('>', '<'): '<<A',\n",
    "    ('<', '>'): '>>A',\n",
    "    ('<', '^'): '>^A',\n",
    "    ('^', '<'): 'v<A',\n",
    "    ('>', '^'): '<^A',\n",
    "    ('^', '>'): 'v>A',\n",
    "}\n",
    "\n",
    "dirs = [\n",
    "    [('^', -1), ('v', 1)],\n",
    "    [('<', -1), ('>', 1)],\n",
    "]\n",
    "\n",
    "numpad = [\n",
    "    ['7', '8', '9'],\n",
    "    ['4', '5', '6'],\n",
    "    ['1', '2', '3'],\n",
    "    [' ', '0', 'A']\n",
    "]\n",
    "\n",
    "numpad_lookup = {\n",
    "    '7': (0, 0), '8': (0, 1), '9': (0, 2),\n",
    "    '4': (1, 0), '5': (1, 1), '6': (1, 2),\n",
    "    '1': (2, 0), '2': (2, 1), '3': (2, 2),\n",
    "    ' ': (3, 0), '0': (3, 1), 'A': (3, 2),\n",
    "}\n",
    "\n",
    "dirpad = [\n",
    "    [' ', '^', 'A'],\n",
    "    ['<', 'v', '>'],\n",
    "]\n",
    "\n",
    "dirpad_lookup = {\n",
    "    ' ': (0, 0), '^': (0, 1), 'A': (0, 2),\n",
    "    '<': (1, 0), 'v': (1, 1), '>': (1, 2),\n",
    "}\n",
    "\n",
    "memo_dir = {}\n",
    "def dir_solve(s, depth=MAX_DEPTH):\n",
    "    if depth == 0:\n",
    "        return len(s)\n",
    "    if out := memo_dir.get((s, depth)):\n",
    "        return out\n",
    "    out = sum(\n",
    "        dir_solve(dir_base_lookup[key_start, key_end], depth - 1)\n",
    "        for key_start, key_end in pairwise(f\"A{s}\")\n",
    "    )\n",
    "\n",
    "    memo_dir[s, depth] = out\n",
    "    return out\n",
    "\n",
    "def num_solve(key_start, key_end):\n",
    "    y0, x0 = numpad_lookup[key_start]\n",
    "    y1, x1 = numpad_lookup[key_end]\n",
    "    y_dist, x_dist = y1 - y0, x1 - x0\n",
    "    y_key, y_dir = dirs[0][y_dist > 0]\n",
    "    x_key, x_dir = dirs[1][x_dist > 0]\n",
    "\n",
    "    # To dodge blank corner\n",
    "    start_move = \"\"\n",
    "    mov_s = \"\"\n",
    "    if (y0 == 3 or y1 == 3) and (x0 == 0 or x1 == 0):\n",
    "        if x0 == 0:\n",
    "            start_move = '>'\n",
    "            mov_s = y_key * abs(y_dist) + x_key * (abs(x_dist) - 1)\n",
    "        else:\n",
    "            start_move = '^'\n",
    "            mov_s = y_key * (abs(y_dist) - 1) + x_key * abs(x_dist)\n",
    "    else:\n",
    "        mov_s = y_key * abs(y_dist) + x_key * abs(x_dist)\n",
    "\n",
    "    possible_inputs = [\n",
    "        f\"{start_move}{''.join(x)}A\"\n",
    "        for x in set(permutations(mov_s))\n",
    "    ]\n",
    "\n",
    "    min_score = maxsize\n",
    "    min_input = \"\"\n",
    "    for inputs in possible_inputs:\n",
    "        score = dir_solve(inputs)\n",
    "        if score < min_score:\n",
    "            min_score = score\n",
    "            min_input = inputs\n",
    "\n",
    "    return min_input\n",
    "\n",
    "\n",
    "def solve(s):\n",
    "    return sum(\n",
    "        dir_solve(num_solve(key_start, key_end))\n",
    "        for key_start, key_end in pairwise(f\"A{s}\")\n",
    "    )\n",
    "\n",
    "if __name__ == \"__main__\":\n",
    "    codes = open(\"input_day21.txt\").read().splitlines()\n",
    "    out = sum(solve(code) * int(code[:-1]) for code in codes)\n",
    "    print('Answer for part 2:', out)"
   ]
  },
  {
   "cell_type": "code",
   "execution_count": 2,
   "id": "d24188cd",
   "metadata": {},
   "outputs": [],
   "source": [
    "def find_destination(numeric_key_pad, number):\n",
    "    result = np.where(numeric_key_pad == number)\n",
    "    return (result[0][0], result[1][0])"
   ]
  },
  {
   "cell_type": "code",
   "execution_count": 3,
   "id": "637a4f28",
   "metadata": {},
   "outputs": [],
   "source": [
    "def subtract(current_position, delta):\n",
    "    return (current_position[0]+ delta[0], current_position[1] + delta[1])"
   ]
  },
  {
   "cell_type": "code",
   "execution_count": 72,
   "id": "44abcf15",
   "metadata": {},
   "outputs": [
    {
     "data": {
      "text/plain": [
       "'<A^A>^^AvvvA'"
      ]
     },
     "execution_count": 72,
     "metadata": {},
     "output_type": "execute_result"
    }
   ],
   "source": [
    "def generate_sequence_level_1(code):\n",
    "    numeric_key_pad = np.array([[7,8,9],[4,5,6], [1,2,3], [-1,0,99]])\n",
    "    sequences = []\n",
    "    start_position = find_destination(numeric_key_pad, 99)\n",
    "    current_position = start_position\n",
    "    for c in code:\n",
    "        if c != 'A':\n",
    "            next_number = int(c)\n",
    "        else:\n",
    "            next_number = 99\n",
    "\n",
    "        next_position = find_destination(numeric_key_pad, next_number)\n",
    "        delta_col = next_position[1] - current_position[1]\n",
    "        delta_row = next_position[0]- current_position[0]\n",
    "#         print(f'delta_row {delta_row} - delta_col {delta_col}')\n",
    "\n",
    "        tmp_row = current_position[0]\n",
    "        tmp_col = current_position[1]\n",
    "        \n",
    "        while tmp_col != next_position[1]:\n",
    "            if delta_col < 0:\n",
    "                sequences.append('<')\n",
    "            else:\n",
    "                sequences.append('>')\n",
    "            tmp_col = tmp_col + int(delta_col/abs(delta_col))\n",
    "            \n",
    "        while tmp_row != next_position[0]:\n",
    "            if delta_row < 0:\n",
    "                sequences.append('^')\n",
    "            else:\n",
    "                sequences.append('v')\n",
    "            tmp_row = tmp_row + int(delta_row/abs(delta_row))\n",
    "\n",
    "        sequences.append('A')\n",
    "        current_position = next_position\n",
    "    return ''.join(sequences)\n",
    "code_level_2 = generate_sequence_level_1('029A')\n",
    "code_level_2"
   ]
  },
  {
   "cell_type": "code",
   "execution_count": 71,
   "id": "f6feec08",
   "metadata": {},
   "outputs": [
    {
     "data": {
      "text/plain": [
       "'<<vA>>^A<A>A<AA>vA^A<vAAA>^A'"
      ]
     },
     "execution_count": 71,
     "metadata": {},
     "output_type": "execute_result"
    }
   ],
   "source": [
    "def generate_sequence_level_2(code_level_2):\n",
    "    directional_keypad_1 = np.array([[' ', '^', 'A'], ['<', 'v', '>']])\n",
    "\n",
    "#     print('Code level 2', code_level_2)\n",
    "    sequences_level_2 = []\n",
    "    start_position = find_destination(directional_keypad_1, 'A')\n",
    "    current_position = start_position\n",
    "    for c in code_level_2:       \n",
    "        next_character = c\n",
    "        next_position = find_destination(directional_keypad_1, next_character)\n",
    "        delta_col = next_position[1] - current_position[1]\n",
    "        delta_row = next_position[0]- current_position[0]\n",
    "#         print(f'delta_row {delta_row} - delta_col {delta_col}')\n",
    "\n",
    "        tmp_row = current_position[0]\n",
    "        tmp_col = current_position[1]\n",
    "        while tmp_col != next_position[1]:\n",
    "            if delta_col < 0:\n",
    "                sequences_level_2.append('<')\n",
    "            else:\n",
    "                sequences_level_2.append('>')\n",
    "            tmp_col = tmp_col + int(delta_col/abs(delta_col))\n",
    "        \n",
    "        while tmp_row != next_position[0]:\n",
    "            if delta_row < 0:\n",
    "                sequences_level_2.append('^')\n",
    "            else:\n",
    "                sequences_level_2.append('v')\n",
    "            tmp_row = tmp_row + int(delta_row/abs(delta_row))\n",
    "\n",
    "        sequences_level_2.append('A')\n",
    "        current_position = next_position\n",
    "    return ''.join(sequences_level_2)\n",
    "   \n",
    "code_level_3 = generate_sequence_level_2(code_level_2)\n",
    "code_level_3"
   ]
  },
  {
   "cell_type": "code",
   "execution_count": 70,
   "id": "6da4a596",
   "metadata": {},
   "outputs": [
    {
     "data": {
      "text/plain": [
       "'<<vAA>A>^AvAA<^A>A<<vA>>^AvA^A<vA>^A<<vA>^A>AAvA^A<<vA>A>^AAAvA<^A>A'"
      ]
     },
     "execution_count": 70,
     "metadata": {},
     "output_type": "execute_result"
    }
   ],
   "source": [
    "def generate_sequence_level_3(code_level_3):\n",
    "    directional_keypad_2 = np.array([[' ', '^', 'A'], ['<', 'v', '>']])\n",
    "\n",
    "#     print('Code level 3', code_level_3)\n",
    "    sequences_level_3 = []\n",
    "    start_position = find_destination(directional_keypad_2, 'A')\n",
    "    current_position = start_position\n",
    "    for c in code_level_3:       \n",
    "        next_character = c\n",
    "        next_position = find_destination(directional_keypad_2, next_character)\n",
    "        delta_col = next_position[1] - current_position[1]\n",
    "        delta_row = next_position[0]- current_position[0]\n",
    "#         print(f'delta_row {delta_row} - delta_col {delta_col}')\n",
    "\n",
    "        tmp_row = current_position[0]\n",
    "        tmp_col = current_position[1]\n",
    "        \n",
    "        while tmp_col != next_position[1]:\n",
    "            if delta_col < 0:\n",
    "                sequences_level_3.append('<')\n",
    "            else:\n",
    "                sequences_level_3.append('>')\n",
    "            tmp_col = tmp_col + int(delta_col/abs(delta_col))\n",
    "            \n",
    "        while tmp_row != next_position[0]:\n",
    "            if delta_row < 0:\n",
    "                sequences_level_3.append('^')\n",
    "            else:\n",
    "                sequences_level_3.append('v')\n",
    "            tmp_row = tmp_row + int(delta_row/abs(delta_row))\n",
    "\n",
    "        sequences_level_3.append('A')\n",
    "        current_position = next_position\n",
    "    return ''.join(sequences_level_3)\n",
    "\n",
    "final_sequence = generate_sequence_level_3(code_level_3)\n",
    "final_sequence"
   ]
  },
  {
   "cell_type": "code",
   "execution_count": 7,
   "id": "971fcbdd",
   "metadata": {},
   "outputs": [
    {
     "name": "stdout",
     "output_type": "stream",
     "text": [
      "delta_row 0 - delta_col -1\n",
      "delta_row -1 - delta_col 0\n",
      "delta_row -2 - delta_col 1\n",
      "delta_row 3 - delta_col 0\n",
      "Code level 2 <A^A^^>AvvvA\n",
      "delta_row 1 - delta_col -2\n",
      "delta_row -1 - delta_col 2\n",
      "delta_row 0 - delta_col -1\n",
      "delta_row 0 - delta_col 1\n",
      "delta_row 0 - delta_col -1\n",
      "delta_row 0 - delta_col 0\n",
      "delta_row 1 - delta_col 1\n",
      "delta_row -1 - delta_col 0\n",
      "delta_row 1 - delta_col -1\n",
      "delta_row 0 - delta_col 0\n",
      "delta_row 0 - delta_col 0\n",
      "delta_row -1 - delta_col 1\n",
      "Code level 3 v<<A^>>A<A>A<AAv>A^Av<AAA^>A\n",
      "delta_row 1 - delta_col -1\n",
      "delta_row 0 - delta_col -1\n",
      "delta_row 0 - delta_col 0\n",
      "delta_row -1 - delta_col 2\n",
      "delta_row 0 - delta_col -1\n",
      "delta_row 1 - delta_col 1\n",
      "delta_row 0 - delta_col 0\n",
      "delta_row -1 - delta_col 0\n",
      "delta_row 1 - delta_col -2\n",
      "delta_row -1 - delta_col 2\n",
      "delta_row 1 - delta_col 0\n",
      "delta_row -1 - delta_col 0\n",
      "delta_row 1 - delta_col -2\n",
      "delta_row -1 - delta_col 2\n",
      "delta_row 0 - delta_col 0\n",
      "delta_row 1 - delta_col -1\n",
      "delta_row 0 - delta_col 1\n",
      "delta_row -1 - delta_col 0\n",
      "delta_row 0 - delta_col -1\n",
      "delta_row 0 - delta_col 1\n",
      "delta_row 1 - delta_col -1\n",
      "delta_row 0 - delta_col -1\n",
      "delta_row -1 - delta_col 2\n",
      "delta_row 0 - delta_col 0\n",
      "delta_row 0 - delta_col 0\n",
      "delta_row 0 - delta_col -1\n",
      "delta_row 1 - delta_col 1\n",
      "delta_row -1 - delta_col 0\n"
     ]
    },
    {
     "data": {
      "text/plain": [
       "'v<A<AA^>>A<Av>AA^Av<<A^>>AvA^Av<<A^>>AAv<A>A^A<A>Av<A<A^>>AAA<Av>A^A'"
      ]
     },
     "execution_count": 7,
     "metadata": {},
     "output_type": "execute_result"
    }
   ],
   "source": [
    "def generate_final_sequence(code):\n",
    "    level1 = generate_sequence_level_1(code)\n",
    "    level2 = generate_sequence_level_2(level1)\n",
    "    level3 = generate_sequence_level_3(level2)\n",
    "    return level3\n",
    "generate_final_sequence('029A')"
   ]
  },
  {
   "cell_type": "code",
   "execution_count": 38,
   "id": "4b7708d6",
   "metadata": {},
   "outputs": [
    {
     "name": "stdout",
     "output_type": "stream",
     "text": [
      "Code level 2 <<^^^A>A>AvvvA\n",
      "Code level 3 <<vAA>^AAA>AvA^AvA^A<vAAA>^A\n",
      "Code level 2 <^^A<A>vvA>A\n",
      "Code level 3 <<vA>^AA>A<<vA>>^AvA<AA>^AvA^A\n",
      "Code level 2 <^A^^AvA>vvA\n",
      "Code level 3 <<vA>^A>A<AA>A<vA>^AvA<AA>^A\n",
      "Code level 2 <<^A^A>vvA>A\n",
      "Code level 3 <<vAA>^A>A<A>AvA<AA>^AvA^A\n",
      "Code level 2 <<^A>^^A>AvvvA\n",
      "Code level 3 <<vAA>^A>AvA<^AA>AvA^A<vAAA>^A\n",
      "Answer for part 1: 130788\n"
     ]
    }
   ],
   "source": [
    "with open('input_day21.txt') as file:\n",
    "    lines = file.readlines()\n",
    "    lines = [line.strip() for line in lines]\n",
    "    \n",
    "    numeric_parts = []\n",
    "    sequence_parts = []\n",
    "    for code in lines:\n",
    "        numeric_part = int(code[:-1])\n",
    "        numeric_parts.append(numeric_part)\n",
    "        sequence_parts.append(generate_final_sequence(code))\n",
    "        \n",
    "        \n",
    "    result = 0\n",
    "    for i in range(len(numeric_parts)):\n",
    "        result += numeric_parts[i]*len(sequence_parts[i])\n",
    "        \n",
    "        \n",
    "        \n",
    "    print('Answer for part 1:', result)"
   ]
  },
  {
   "cell_type": "code",
   "execution_count": 39,
   "id": "b1e16078",
   "metadata": {},
   "outputs": [
    {
     "data": {
      "text/plain": [
       "[789, 540, 285, 140, 189]"
      ]
     },
     "execution_count": 39,
     "metadata": {},
     "output_type": "execute_result"
    }
   ],
   "source": [
    "numeric_parts"
   ]
  },
  {
   "cell_type": "code",
   "execution_count": 41,
   "id": "3b0f5120",
   "metadata": {},
   "outputs": [
    {
     "data": {
      "text/plain": [
       "['<<vAA>A>^AAvA<^A>AAAvA^A<vA>^A<A>A<vA>^A<A>A<<vA>A>^AAAvA<^A>A',\n",
       " '<<vAA>A>^AvA<^A>AAvA^A<<vAA>A>^AvAA<^A>A<vA>^A<<vA>>^AAvA<^A>A<vA>^A<A>A',\n",
       " '<<vAA>A>^AvA<^A>AvA^A<<vA>>^AAvA^A<<vA>A>^AvA<^A>A<vA>^A<<vA>>^AAvA<^A>A',\n",
       " '<<vAA>A>^AAvA<^A>AvA^A<<vA>>^AvA^A<vA>^A<<vA>>^AAvA<^A>A<vA>^A<A>A',\n",
       " '<<vAA>A>^AAvA<^A>AvA^A<vA>^A<<vA>^A>AAvA^A<vA>^A<A>A<<vA>A>^AAAvA<^A>A']"
      ]
     },
     "execution_count": 41,
     "metadata": {},
     "output_type": "execute_result"
    }
   ],
   "source": [
    "sequence_parts"
   ]
  },
  {
   "cell_type": "code",
   "execution_count": 42,
   "id": "880afeae",
   "metadata": {},
   "outputs": [
    {
     "name": "stdout",
     "output_type": "stream",
     "text": [
      "789 62\n",
      "540 72\n",
      "285 72\n",
      "140 66\n",
      "189 70\n",
      "Answer for part 1: 130788\n"
     ]
    }
   ],
   "source": [
    "result = 0\n",
    "for i in range(len(numeric_parts)):\n",
    "    print(numeric_parts[i], len(sequence_parts[i]))\n",
    "    result += numeric_parts[i]*len(sequence_parts[i])\n",
    "\n",
    "\n",
    "\n",
    "print('Answer for part 1:', result)"
   ]
  },
  {
   "cell_type": "code",
   "execution_count": 33,
   "id": "f57b01a5",
   "metadata": {},
   "outputs": [
    {
     "name": "stdout",
     "output_type": "stream",
     "text": [
      "delta_row -1 - delta_col 0\n",
      "delta_row -2 - delta_col -2\n",
      "delta_row 0 - delta_col 2\n",
      "delta_row 3 - delta_col 0\n"
     ]
    },
    {
     "data": {
      "text/plain": [
       "'^A<<^^A>>AvvvA'"
      ]
     },
     "execution_count": 33,
     "metadata": {},
     "output_type": "execute_result"
    }
   ],
   "source": [
    "generate_sequence_level_1('379A')"
   ]
  },
  {
   "cell_type": "code",
   "execution_count": 16,
   "id": "b238bccd",
   "metadata": {},
   "outputs": [
    {
     "name": "stdout",
     "output_type": "stream",
     "text": [
      "delta_row -1 - delta_col 0\n",
      "delta_row -2 - delta_col -2\n",
      "delta_row 0 - delta_col 2\n",
      "delta_row 3 - delta_col 0\n",
      "Code level 2 ^A^^<<A>>AvvvA\n",
      "delta_row 0 - delta_col -1\n",
      "delta_row 0 - delta_col 1\n",
      "delta_row 0 - delta_col -1\n",
      "delta_row 0 - delta_col 0\n",
      "delta_row 1 - delta_col -1\n",
      "delta_row 0 - delta_col 0\n",
      "delta_row -1 - delta_col 2\n",
      "delta_row 1 - delta_col 0\n",
      "delta_row 0 - delta_col 0\n",
      "delta_row -1 - delta_col 0\n",
      "delta_row 1 - delta_col -1\n",
      "delta_row 0 - delta_col 0\n",
      "delta_row 0 - delta_col 0\n",
      "delta_row -1 - delta_col 1\n",
      "Code level 3 <A>A<AAv<AA^>>AvAA^Av<AAA^>A\n",
      "delta_row 1 - delta_col -2\n",
      "delta_row -1 - delta_col 2\n",
      "delta_row 1 - delta_col 0\n",
      "delta_row -1 - delta_col 0\n",
      "delta_row 1 - delta_col -2\n",
      "delta_row -1 - delta_col 2\n",
      "delta_row 0 - delta_col 0\n",
      "delta_row 1 - delta_col -1\n",
      "delta_row 0 - delta_col -1\n",
      "delta_row -1 - delta_col 2\n",
      "delta_row 0 - delta_col 0\n",
      "delta_row 0 - delta_col -1\n",
      "delta_row 1 - delta_col 1\n",
      "delta_row 0 - delta_col 0\n",
      "delta_row -1 - delta_col 0\n",
      "delta_row 1 - delta_col -1\n",
      "delta_row -1 - delta_col 1\n",
      "delta_row 0 - delta_col 0\n",
      "delta_row 0 - delta_col -1\n",
      "delta_row 0 - delta_col 1\n",
      "delta_row 1 - delta_col -1\n",
      "delta_row 0 - delta_col -1\n",
      "delta_row -1 - delta_col 2\n",
      "delta_row 0 - delta_col 0\n",
      "delta_row 0 - delta_col 0\n",
      "delta_row 0 - delta_col -1\n",
      "delta_row 1 - delta_col 1\n",
      "delta_row -1 - delta_col 0\n"
     ]
    },
    {
     "data": {
      "text/plain": [
       "'v<<A^>>AvA^Av<<A^>>AAv<A<A^>>AA<Av>AA^Av<A^>AA<A>Av<A<A^>>AAA<Av>A^A'"
      ]
     },
     "execution_count": 16,
     "metadata": {},
     "output_type": "execute_result"
    }
   ],
   "source": [
    "generate_final_sequence('379A')"
   ]
  },
  {
   "cell_type": "code",
   "execution_count": 85,
   "id": "da2dbe2a",
   "metadata": {},
   "outputs": [],
   "source": [
    "def compile_code_for_directional_pad(sequences):\n",
    "    directional_keypad = np.array([[' ', '^', 'A'], ['<', 'v', '>']])\n",
    "    start_position = find_destination(directional_keypad, 'A')\n",
    "    current_position = start_position\n",
    "    \n",
    "    decode = []\n",
    "    for s in sequences:\n",
    "        if s == '^':\n",
    "            current_position = subtract(current_position, (-1,0))\n",
    "        elif s == 'v':\n",
    "            current_position = subtract(current_position, (1,0))\n",
    "        elif s == '>':\n",
    "            current_position = subtract(current_position, (0,1))\n",
    "        elif s == '<':\n",
    "            current_position = subtract(current_position, (0,-1))\n",
    "        else:\n",
    "            decode.append(directional_keypad[current_position])\n",
    "    \n",
    "    return \"\".join(decode)\n",
    "\n",
    "def compile_code_for_numeric_pad(sequences):\n",
    "    numeric_key_pad = np.array([[7,8,9],[4,5,6], [1,2,3], [' ',0,'A']])\n",
    "    start_position = find_destination(numeric_key_pad, 'A')\n",
    "    current_position = start_position\n",
    "    \n",
    "    decode = []\n",
    "    for s in sequences:\n",
    "        if s == '^':\n",
    "            current_position = subtract(current_position, (-1,0))\n",
    "        elif s == 'v':\n",
    "            current_position = subtract(current_position, (1,0))\n",
    "        elif s == '>':\n",
    "            current_position = subtract(current_position, (0,1))\n",
    "        elif s == '<':\n",
    "            current_position = subtract(current_position, (0,-1))\n",
    "        else:\n",
    "            decode.append(numeric_key_pad[current_position])\n",
    "    \n",
    "    return \"\".join(decode)\n"
   ]
  },
  {
   "cell_type": "code",
   "execution_count": 15,
   "id": "1a936900",
   "metadata": {},
   "outputs": [
    {
     "data": {
      "text/plain": [
       "'^A<<^^A>>AvvvA'"
      ]
     },
     "execution_count": 15,
     "metadata": {},
     "output_type": "execute_result"
    }
   ],
   "source": [
    "compile_code_for_directional_pad('<A>Av<<AA>^AA>AvAA^A<vAAA>^A')"
   ]
  },
  {
   "cell_type": "code",
   "execution_count": null,
   "id": "242bf236",
   "metadata": {},
   "outputs": [],
   "source": [
    "^A^^<<A>>AvvvA"
   ]
  },
  {
   "cell_type": "code",
   "execution_count": 21,
   "id": "3c91f35d",
   "metadata": {},
   "outputs": [
    {
     "data": {
      "text/plain": [
       "('<A>Av<<AA>^AA>AvAA^A<vAAA>^A', '^A<<^^A>>AvvvA')"
      ]
     },
     "execution_count": 21,
     "metadata": {},
     "output_type": "execute_result"
    }
   ],
   "source": [
    "test = '<v<A>>^AvA^A<vA<AA>>^AAvA<^A>AAvA^A<vA>^AA<A>A<v<A>A>^AAAvA<^A>A'\n",
    "compile_code_for_directional_pad(test), compile_code_for_directional_pad(compile_code_for_directional_pad(test))"
   ]
  },
  {
   "cell_type": "code",
   "execution_count": 25,
   "id": "33b40971",
   "metadata": {},
   "outputs": [],
   "source": [
    "# len(generate_sequence_level_3('<A>Av<<AA>^AA>AvAA^A<vAAA>^A'))"
   ]
  },
  {
   "cell_type": "code",
   "execution_count": 22,
   "id": "71710ab8",
   "metadata": {},
   "outputs": [
    {
     "data": {
      "text/plain": [
       "('<A>A<AAv<AA^>>AvAA^Av<AAA^>A', '^A^^<<A>>AvvvA')"
      ]
     },
     "execution_count": 22,
     "metadata": {},
     "output_type": "execute_result"
    }
   ],
   "source": [
    "test = 'v<<A^>>AvA^Av<<A^>>AAv<A<A^>>AA<Av>AA^Av<A^>AA<A>Av<A<A^>>AAA<Av>A^A'\n",
    "compile_code_for_directional_pad(test), compile_code_for_directional_pad(compile_code_for_directional_pad(test))"
   ]
  },
  {
   "cell_type": "code",
   "execution_count": 29,
   "id": "f393e680",
   "metadata": {},
   "outputs": [
    {
     "name": "stdout",
     "output_type": "stream",
     "text": [
      "delta_row -1 - delta_col 0\n",
      "delta_row -2 - delta_col -2\n",
      "delta_row 0 - delta_col 2\n",
      "delta_row 3 - delta_col 0\n"
     ]
    },
    {
     "data": {
      "text/plain": [
       "'^A^^<<A>>AvvvA'"
      ]
     },
     "execution_count": 29,
     "metadata": {},
     "output_type": "execute_result"
    }
   ],
   "source": [
    "generate_sequence_level_1('379A')"
   ]
  },
  {
   "cell_type": "code",
   "execution_count": 54,
   "id": "2a987c76",
   "metadata": {},
   "outputs": [
    {
     "data": {
      "text/plain": [
       "{('A', 'A', 'C', 'C'),\n",
       " ('A', 'C', 'A', 'C'),\n",
       " ('A', 'C', 'C', 'A'),\n",
       " ('C', 'A', 'A', 'C'),\n",
       " ('C', 'A', 'C', 'A'),\n",
       " ('C', 'C', 'A', 'A')}"
      ]
     },
     "execution_count": 54,
     "metadata": {},
     "output_type": "execute_result"
    }
   ],
   "source": [
    "import itertools\n",
    "permutations = set(itertools.permutations('AACC', 4))\n",
    "permutations"
   ]
  },
  {
   "cell_type": "code",
   "execution_count": 56,
   "id": "1991fc2c",
   "metadata": {},
   "outputs": [
    {
     "data": {
      "text/plain": [
       "['ACAC', 'CCAA', 'CACA', 'ACCA', 'CAAC', 'AACC']"
      ]
     },
     "execution_count": 56,
     "metadata": {},
     "output_type": "execute_result"
    }
   ],
   "source": [
    "[\"\".join(c) for c in permutations]"
   ]
  },
  {
   "cell_type": "code",
   "execution_count": 52,
   "id": "7b14bb56",
   "metadata": {},
   "outputs": [
    {
     "data": {
      "text/plain": [
       "6"
      ]
     },
     "execution_count": 52,
     "metadata": {},
     "output_type": "execute_result"
    }
   ],
   "source": [
    "len(permutations)"
   ]
  },
  {
   "cell_type": "code",
   "execution_count": 59,
   "id": "ff6de3e1",
   "metadata": {},
   "outputs": [],
   "source": [
    "import itertools\n",
    "def permute(sequences):\n",
    "    tokens = sequences.split('A')\n",
    "    array = []\n",
    "    for t in tokens:\n",
    "        if len(set(t)) > 1:\n",
    "            permutations = set(itertools.permutations(t, len(t))) \n",
    "            duplicates = [''.join(c) for c in permutations]\n",
    "            array.append(duplicates)\n",
    "        else: array.append([t])\n",
    "    return array\n",
    "    "
   ]
  },
  {
   "cell_type": "code",
   "execution_count": 66,
   "id": "66d569a1",
   "metadata": {},
   "outputs": [
    {
     "data": {
      "text/plain": [
       "[['<'], ['^'], ['^>^', '^^>', '>^^'], ['vvv'], ['']]"
      ]
     },
     "execution_count": 66,
     "metadata": {},
     "output_type": "execute_result"
    }
   ],
   "source": [
    "# tokens = permute('^A^^<<A>>AvvvA')\n",
    "tokens = permute('<A^A>^^AvvvA')\n",
    "tokens"
   ]
  },
  {
   "cell_type": "code",
   "execution_count": 67,
   "id": "4f01c1bc",
   "metadata": {},
   "outputs": [],
   "source": [
    "def concate_sequences(s, current_index, current_array, total_array):\n",
    "    if current_index == len(s):\n",
    "        total_array.append(\"A\".join(current_array))\n",
    "        return\n",
    "    else:\n",
    "        if len(s[current_index]) == 1:\n",
    "            current_array.append(s[current_index][0])\n",
    "            concate_sequences(s, current_index + 1, current_array, total_array)\n",
    "        else:\n",
    "            for t in s[current_index]:\n",
    "                copy_array = current_array.copy()\n",
    "                copy_array.append(t)\n",
    "                concate_sequences(s, current_index+1, copy_array, total_array)\n",
    "    \n",
    "total_array = []\n",
    "concate_sequences(tokens,0, [], total_array)"
   ]
  },
  {
   "cell_type": "code",
   "execution_count": 68,
   "id": "7ec84e0b",
   "metadata": {},
   "outputs": [
    {
     "data": {
      "text/plain": [
       "['<A^A^>^AvvvA', '<A^A^^>AvvvA', '<A^A>^^AvvvA']"
      ]
     },
     "execution_count": 68,
     "metadata": {},
     "output_type": "execute_result"
    }
   ],
   "source": [
    "total_array"
   ]
  },
  {
   "cell_type": "code",
   "execution_count": 74,
   "id": "7d8d836a",
   "metadata": {},
   "outputs": [
    {
     "data": {
      "text/plain": [
       "68"
      ]
     },
     "execution_count": 74,
     "metadata": {},
     "output_type": "execute_result"
    }
   ],
   "source": [
    "def generate_final_sequence(code):\n",
    "    level1 = generate_sequence_level_1(code)\n",
    "    level1_permuted = []\n",
    "    concate_sequences(permute(level1),0,[], level1_permuted)\n",
    "    \n",
    "    level2_combined_permuted = []\n",
    "    for lv1 in level1_permuted:\n",
    "        level2 = generate_sequence_level_2(lv1)\n",
    "        level2_permuted = []\n",
    "        concate_sequences(permute(level2),0,[], level2_permuted)\n",
    "        level2_combined_permuted.extend(level2_permuted)\n",
    "        \n",
    "    level3_combined_permuted = []\n",
    "    for lv2 in level2_combined_permuted:\n",
    "        level3 = generate_sequence_level_3(lv2)\n",
    "        level3_combined_permuted.append(level3)\n",
    "#         level3_permuted = []\n",
    "#         concate_sequences(permute(level3),0,[], level3_permuted)\n",
    "#         level3_combined_permuted.extend(level3_permuted)\n",
    "    return level3_combined_permuted\n",
    "min([len(s) for s in generate_final_sequence('029A')])"
   ]
  },
  {
   "cell_type": "code",
   "execution_count": 75,
   "id": "5aa83757",
   "metadata": {},
   "outputs": [
    {
     "data": {
      "text/plain": [
       "60"
      ]
     },
     "execution_count": 75,
     "metadata": {},
     "output_type": "execute_result"
    }
   ],
   "source": [
    "min([len(s) for s in generate_final_sequence('980A')])"
   ]
  },
  {
   "cell_type": "code",
   "execution_count": 76,
   "id": "e3db9370",
   "metadata": {},
   "outputs": [
    {
     "data": {
      "text/plain": [
       "64"
      ]
     },
     "execution_count": 76,
     "metadata": {},
     "output_type": "execute_result"
    }
   ],
   "source": [
    "min([len(s) for s in generate_final_sequence('179A')])"
   ]
  },
  {
   "cell_type": "code",
   "execution_count": 77,
   "id": "324632b0",
   "metadata": {},
   "outputs": [
    {
     "data": {
      "text/plain": [
       "60"
      ]
     },
     "execution_count": 77,
     "metadata": {},
     "output_type": "execute_result"
    }
   ],
   "source": [
    "min([len(s) for s in generate_final_sequence('456A')])"
   ]
  },
  {
   "cell_type": "code",
   "execution_count": 78,
   "id": "872f20de",
   "metadata": {},
   "outputs": [
    {
     "data": {
      "text/plain": [
       "64"
      ]
     },
     "execution_count": 78,
     "metadata": {},
     "output_type": "execute_result"
    }
   ],
   "source": [
    "min([len(s) for s in generate_final_sequence('379A')])"
   ]
  },
  {
   "cell_type": "code",
   "execution_count": 91,
   "id": "645668c9",
   "metadata": {},
   "outputs": [
    {
     "name": "stdout",
     "output_type": "stream",
     "text": [
      "<<vAA>A>^AA<A>vA^AvA^A<<vA>>^AAvA^A<vA>^AA<A>A<vA<A>>^AAA<A>vA^A\n",
      "<<vAA>A>^AA<A>vA^AvA^A<<vA>>^AAvA^A<vA>^AA<A>A<vA<A>>^AAAvA<^A>A\n",
      "<<vAA>A>^AA<A>vA^AvA^A<<vA>>^AAvA^A<vA>^AA<A>A<<vA>A>^AAA<A>vA^A\n",
      "<<vAA>A>^AA<A>vA^AvA^A<<vA>>^AAvA^A<vA>^AA<A>A<<vA>A>^AAAvA<^A>A\n",
      "<<vAA>A>^AAvA<^A>AvA^A<<vA>>^AAvA^A<vA>^AA<A>A<vA<A>>^AAA<A>vA^A\n",
      "<<vAA>A>^AAvA<^A>AvA^A<<vA>>^AAvA^A<vA>^AA<A>A<vA<A>>^AAAvA<^A>A\n",
      "<<vAA>A>^AAvA<^A>AvA^A<<vA>>^AAvA^A<vA>^AA<A>A<<vA>A>^AAA<A>vA^A\n",
      "<<vAA>A>^AAvA<^A>AvA^A<<vA>>^AAvA^A<vA>^AA<A>A<<vA>A>^AAAvA<^A>A\n",
      "<vA<AA>>^AA<A>vA^AvA^A<<vA>>^AAvA^A<vA>^AA<A>A<vA<A>>^AAA<A>vA^A\n",
      "<vA<AA>>^AA<A>vA^AvA^A<<vA>>^AAvA^A<vA>^AA<A>A<vA<A>>^AAAvA<^A>A\n",
      "<vA<AA>>^AA<A>vA^AvA^A<<vA>>^AAvA^A<vA>^AA<A>A<<vA>A>^AAA<A>vA^A\n",
      "<vA<AA>>^AA<A>vA^AvA^A<<vA>>^AAvA^A<vA>^AA<A>A<<vA>A>^AAAvA<^A>A\n",
      "<vA<AA>>^AAvA<^A>AvA^A<<vA>>^AAvA^A<vA>^AA<A>A<vA<A>>^AAA<A>vA^A\n",
      "<vA<AA>>^AAvA<^A>AvA^A<<vA>>^AAvA^A<vA>^AA<A>A<vA<A>>^AAAvA<^A>A\n",
      "<vA<AA>>^AAvA<^A>AvA^A<<vA>>^AAvA^A<vA>^AA<A>A<<vA>A>^AAA<A>vA^A\n",
      "<vA<AA>>^AAvA<^A>AvA^A<<vA>>^AAvA^A<vA>^AA<A>A<<vA>A>^AAAvA<^A>A\n"
     ]
    }
   ],
   "source": [
    "for s in generate_final_sequence('179A'):\n",
    "    if len(s) == 64:\n",
    "        print(s)"
   ]
  },
  {
   "cell_type": "code",
   "execution_count": 92,
   "id": "1c159306",
   "metadata": {},
   "outputs": [
    {
     "name": "stdout",
     "output_type": "stream",
     "text": [
      "<<^A^^A>>AvvvA\n",
      "179A\n"
     ]
    }
   ],
   "source": [
    "test = '<vA<AA>>^AAvA<^A>AvA^A<<vA>>^AAvA^A<vA>^AA<A>A<<vA>A>^AAAvA<^A>A'\n",
    "decode = compile_code_for_directional_pad(compile_code_for_directional_pad(test))\n",
    "print(decode)\n",
    "print(compile_code_for_numeric_pad(decode))"
   ]
  },
  {
   "cell_type": "code",
   "execution_count": 96,
   "id": "4ca8f386",
   "metadata": {},
   "outputs": [
    {
     "name": "stdout",
     "output_type": "stream",
     "text": [
      "<<vAA>A>^AA<A>vA^AAvA^A<vA>^A<A>A<vA>^A<A>A<vA<A>>^AA<A>vA^A\n",
      "<<vAA>A>^AA<A>vA^AAvA^A<vA>^A<A>A<vA>^A<A>A<vA<A>>^AAvA<^A>A\n",
      "<<vAA>A>^AA<A>vA^AAvA^A<vA>^A<A>A<vA>^A<A>A<<vA>A>^AA<A>vA^A\n",
      "<<vAA>A>^AA<A>vA^AAvA^A<vA>^A<A>A<vA>^A<A>A<<vA>A>^AAvA<^A>A\n",
      "<<vAA>A>^AAvA<^A>AAvA^A<vA>^A<A>A<vA>^A<A>A<vA<A>>^AA<A>vA^A\n",
      "<<vAA>A>^AAvA<^A>AAvA^A<vA>^A<A>A<vA>^A<A>A<vA<A>>^AAvA<^A>A\n",
      "<<vAA>A>^AAvA<^A>AAvA^A<vA>^A<A>A<vA>^A<A>A<<vA>A>^AA<A>vA^A\n",
      "<<vAA>A>^AAvA<^A>AAvA^A<vA>^A<A>A<vA>^A<A>A<<vA>A>^AAvA<^A>A\n",
      "<vA<AA>>^AA<A>vA^AAvA^A<vA>^A<A>A<vA>^A<A>A<vA<A>>^AA<A>vA^A\n",
      "<vA<AA>>^AA<A>vA^AAvA^A<vA>^A<A>A<vA>^A<A>A<vA<A>>^AAvA<^A>A\n",
      "<vA<AA>>^AA<A>vA^AAvA^A<vA>^A<A>A<vA>^A<A>A<<vA>A>^AA<A>vA^A\n",
      "<vA<AA>>^AA<A>vA^AAvA^A<vA>^A<A>A<vA>^A<A>A<<vA>A>^AAvA<^A>A\n",
      "<vA<AA>>^AAvA<^A>AAvA^A<vA>^A<A>A<vA>^A<A>A<vA<A>>^AA<A>vA^A\n",
      "<vA<AA>>^AAvA<^A>AAvA^A<vA>^A<A>A<vA>^A<A>A<vA<A>>^AAvA<^A>A\n",
      "<vA<AA>>^AAvA<^A>AAvA^A<vA>^A<A>A<vA>^A<A>A<<vA>A>^AA<A>vA^A\n",
      "<vA<AA>>^AAvA<^A>AAvA^A<vA>^A<A>A<vA>^A<A>A<<vA>A>^AAvA<^A>A\n"
     ]
    }
   ],
   "source": [
    "for s in generate_final_sequence('456A'):\n",
    "    if len(s) == 60:\n",
    "        print(s)"
   ]
  },
  {
   "cell_type": "code",
   "execution_count": 97,
   "id": "0f14365c",
   "metadata": {},
   "outputs": [
    {
     "name": "stdout",
     "output_type": "stream",
     "text": [
      "<<^^A>A>AvvA\n",
      "456A\n"
     ]
    }
   ],
   "source": [
    "test = '<<vAA>A>^AA<A>vA^AAvA^A<vA>^A<A>A<vA>^A<A>A<vA<A>>^AA<A>vA^A'\n",
    "decode = compile_code_for_directional_pad(compile_code_for_directional_pad(test))\n",
    "print(decode)\n",
    "print(compile_code_for_numeric_pad(decode))"
   ]
  },
  {
   "cell_type": "code",
   "execution_count": 1,
   "id": "dcee3846",
   "metadata": {},
   "outputs": [
    {
     "name": "stdout",
     "output_type": "stream",
     "text": [
      "num_solve A 7\n",
      "possible inputs ['A^<<^^A', 'A^^<<^A', 'A^<^^<A', 'A^^<^<A', 'A^^^<<A', 'A^<^<^A']\n",
      "A^<<^^A\n",
      "v<<A>>^Av<A<A>>^AAvA<^A>AAvA^A\n",
      "A^^<<^A\n",
      "v<<A>>^AAv<A<A>>^AAvA<^A>AvA^A\n",
      "A^<^^<A\n",
      "v<<A>>^Av<A<A>>^AvA<^A>AAv<A<A>>^AvAA<^A>A\n",
      "A^^<^<A\n",
      "v<<A>>^AAv<A<A>>^AvA<^A>Av<A<A>>^AvAA<^A>A\n",
      "A^^^<<A\n",
      "v<<A>>^AAAv<A<A>>^AAvAA<^A>A\n",
      "A^<^<^A\n",
      "v<<A>>^Av<A<A>>^AvA<^A>Av<A<A>>^AvA<^A>AvA^A\n",
      "best input v<<A>>^AAAv<A<A>>^AAvAA<^A>A score 28\n",
      "num_solve 7 8\n",
      "possible inputs ['A>A']\n",
      "A>A\n",
      "v<A>^A<A>A\n",
      "best input v<A>^A<A>A score 10\n",
      "num_solve 8 9\n",
      "possible inputs ['A>A']\n",
      "A>A\n",
      "v<A>^A<A>A\n",
      "best input v<A>^A<A>A score 10\n",
      "num_solve 9 A\n",
      "possible inputs ['AvvvA']\n",
      "AvvvA\n",
      "v<A<A>>^AAAvA<^A>A\n",
      "best input v<A<A>>^AAAvA<^A>A score 18\n",
      "code 789A gives v<<A>>^AAAv<A<A>>^AAvAA<^A>Av<A>^A<A>Av<A>^A<A>Av<A<A>>^AAAvA<^A>A len 66 score 52074\n",
      "<AAAv<AA>>^AvA^AvA^Av<AAA>^A\n",
      "^^^<<A>A>AvvvA\n",
      "789A\n",
      "num_solve A 5\n",
      "possible inputs ['A<^^A', 'A^<^A', 'A^^<A']\n",
      "A<^^A\n",
      "v<A<AA>>^AvA<^A>AAvA^A\n",
      "A^<^A\n",
      "v<<A>>^Av<A<A>>^AvA<^A>AvA^A\n",
      "A^^<A\n",
      "v<<A>>^AAv<A<A>>^AvAA<^A>A\n",
      "best input v<A<AA>>^AvA<^A>AAvA^A score 22\n",
      "num_solve 5 4\n",
      "possible inputs ['A<A']\n",
      "A<A\n",
      "v<A<AA>>^AvAA<^A>A\n",
      "best input v<A<AA>>^AvAA<^A>A score 18\n",
      "num_solve 4 0\n",
      "possible inputs ['A>vvA']\n",
      "A>vvA\n",
      "v<A>^Av<<A>>^AAvA<^A>A\n",
      "best input v<A>^Av<<A>>^AAvA<^A>A score 22\n",
      "num_solve 0 A\n",
      "possible inputs ['A>A']\n",
      "A>A\n",
      "v<A>^A<A>A\n",
      "best input v<A>^A<A>A score 10\n",
      "code 540A gives v<A<AA>>^AvA<^A>AAvA^Av<A<AA>>^AvAA<^A>Av<A>^Av<<A>>^AAvA<^A>Av<A>^A<A>A len 72 score 38880\n",
      "v<<A>^AA>Av<<A>>^AvA<AA>^AvA^A\n",
      "<^^A<A>vvA>A\n",
      "540A\n",
      "num_solve A 2\n",
      "possible inputs ['A<^A', 'A^<A']\n",
      "A<^A\n",
      "v<A<AA>>^AvA<^A>AvA^A\n",
      "A^<A\n",
      "v<<A>>^Av<A<A>>^AvAA<^A>A\n",
      "best input v<A<AA>>^AvA<^A>AvA^A score 21\n",
      "num_solve 2 8\n",
      "possible inputs ['A^^A']\n",
      "A^^A\n",
      "v<<A>>^AAvA^A\n",
      "best input v<<A>>^AAvA^A score 13\n",
      "num_solve 8 5\n",
      "possible inputs ['AvA']\n",
      "AvA\n",
      "v<A<A>>^AvA<^A>A\n",
      "best input v<A<A>>^AvA<^A>A score 16\n",
      "num_solve 5 A\n",
      "possible inputs ['Av>vA', 'A>vvA', 'Avv>A']\n",
      "Av>vA\n",
      "v<A<A>>^AvA^Av<<A>>^AvA<^A>A\n",
      "A>vvA\n",
      "v<A>^Av<<A>>^AAvA<^A>A\n",
      "Avv>A\n",
      "v<A<A>>^AAvA^A<A>A\n",
      "best input v<A<A>>^AAvA^A<A>A score 18\n",
      "code 285A gives v<A<AA>>^AvA<^A>AvA^Av<<A>>^AAvA^Av<A<A>>^AvA<^A>Av<A<A>>^AAvA^A<A>A len 68 score 19380\n",
      "v<<A>^A>A<AA>Av<A>^Av<AA>A^A\n",
      "<^A^^AvAvv>A\n",
      "285A\n",
      "num_solve A 1\n",
      "possible inputs ['A^<<A']\n",
      "A^<<A\n",
      "v<<A>>^Av<A<A>>^AAvAA<^A>A\n",
      "best input v<<A>>^Av<A<A>>^AAvAA<^A>A score 26\n",
      "num_solve 1 4\n",
      "possible inputs ['A^A']\n",
      "A^A\n",
      "v<<A>>^AvA^A\n",
      "best input v<<A>>^AvA^A score 12\n",
      "num_solve 4 0\n",
      "possible inputs ['A>vvA']\n",
      "A>vvA\n",
      "v<A>^Av<<A>>^AAvA<^A>A\n",
      "best input v<A>^Av<<A>>^AAvA<^A>A score 22\n",
      "num_solve 0 A\n",
      "possible inputs ['A>A']\n",
      "A>A\n",
      "v<A>^A<A>A\n",
      "best input v<A>^A<A>A score 10\n",
      "code 140A gives v<<A>>^Av<A<A>>^AAvAA<^A>Av<<A>>^AvA^Av<A>^Av<<A>>^AAvA<^A>Av<A>^A<A>A len 70 score 9800\n",
      "<Av<AA>>^A<A>AvA<AA>^AvA^A\n",
      "^<<A^A>vvA>A\n",
      "140A\n",
      "num_solve A 1\n",
      "possible inputs ['A^<<A']\n",
      "A^<<A\n",
      "v<<A>>^Av<A<A>>^AAvAA<^A>A\n",
      "best input v<<A>>^Av<A<A>>^AAvAA<^A>A score 26\n",
      "num_solve 1 8\n",
      "possible inputs ['A^>^A', 'A>^^A', 'A^^>A']\n",
      "A^>^A\n",
      "v<<A>>^Av<A>A^Av<<A>^A>AvA^A\n",
      "A>^^A\n",
      "v<A>^Av<<A>^A>AAvA^A\n",
      "A^^>A\n",
      "v<<A>>^AAv<A>A^A<A>A\n",
      "best input v<A>^Av<<A>^A>AAvA^A score 20\n",
      "num_solve 8 9\n",
      "possible inputs ['A>A']\n",
      "A>A\n",
      "v<A>^A<A>A\n",
      "best input v<A>^A<A>A score 10\n",
      "num_solve 9 A\n",
      "possible inputs ['AvvvA']\n",
      "AvvvA\n",
      "v<A<A>>^AAAvA<^A>A\n",
      "best input v<A<A>>^AAAvA<^A>A score 18\n",
      "code 189A gives v<<A>>^Av<A<A>>^AAvAA<^A>Av<A>^Av<<A>^A>AAvA^Av<A>^A<A>Av<A<A>>^AAAvA<^A>A len 74 score 13986\n",
      "<Av<AA>>^AvA<^AA>AvA^Av<AAA>^A\n",
      "^<<A>^^A>AvvvA\n",
      "189A\n",
      "overall score 134120\n"
     ]
    }
   ],
   "source": [
    "from sys import maxsize\n",
    "from itertools import pairwise, permutations\n",
    "\n",
    "dir_base_lookup = {\n",
    "    ('A', 'A'): 'A',\n",
    "    ('^', '^'): 'A',\n",
    "    ('>', '>'): 'A',\n",
    "    ('v', 'v'): 'A',\n",
    "    ('<', '<'): 'A',\n",
    "    ('A', '^'): '<A',\n",
    "    ('^', 'A'): '>A',\n",
    "    ('A', '>'): 'vA',\n",
    "    ('>', 'A'): '^A',\n",
    "    ('v', '^'): '^A',\n",
    "    ('^', 'v'): 'vA',\n",
    "    ('v', '<'): '<A',\n",
    "    ('<', 'v'): '>A',\n",
    "    ('v', '>'): '>A',\n",
    "    ('>', 'v'): '<A',\n",
    "\n",
    "    ('A', 'v'): 'v<A',\n",
    "    ('v', 'A'): '>^A',\n",
    "    ('A', '<'): 'v<<A',\n",
    "    ('<', 'A'): '>>^A',\n",
    "\n",
    "    ('>', '<'): '<<A',\n",
    "    ('<', '>'): '>>A',\n",
    "    ('<', '^'): '>^A',\n",
    "    ('^', '<'): 'v<A',\n",
    "    ('>', '^'): '<^A',\n",
    "    ('^', '>'): 'v>A',\n",
    "}\n",
    "\n",
    "dirs = [\n",
    "    [('^', -1), ('v', 1)],\n",
    "    [('<', -1), ('>', 1)],\n",
    "]\n",
    "\n",
    "numpad = [\n",
    "    ['7', '8', '9'],\n",
    "    ['4', '5', '6'],\n",
    "    ['1', '2', '3'],\n",
    "    [' ', '0', 'A']\n",
    "]\n",
    "\n",
    "numpad_lookup = {\n",
    "    '7': (0, 0), '8': (0, 1), '9': (0, 2),\n",
    "    '4': (1, 0), '5': (1, 1), '6': (1, 2),\n",
    "    '1': (2, 0), '2': (2, 1), '3': (2, 2),\n",
    "    ' ': (3, 0), '0': (3, 1), 'A': (3, 2),\n",
    "}\n",
    "\n",
    "dirpad = [\n",
    "    [' ', '^', 'A'],\n",
    "    ['<', 'v', '>'],\n",
    "]\n",
    "\n",
    "dirpad_lookup = {\n",
    "    ' ': (0, 0), '^': (0, 1), 'A': (0, 2),\n",
    "    '<': (1, 0), 'v': (1, 1), '>': (1, 2),\n",
    "}\n",
    "\n",
    "memo_dir = {} # TODO memo\n",
    "def dir_dfs(key_start, key_end, depth=0):\n",
    "    if depth == 0:\n",
    "        return dir_base_lookup[key_start, key_end]\n",
    "\n",
    "    s = dir_dfs(key_start, key_end, depth-1)\n",
    "    out = \"\"\n",
    "    for k0, k1 in pairwise('A' + s):\n",
    "        out += dir_base_lookup[k0, k1]\n",
    "\n",
    "    return out\n",
    "\n",
    "memo_num = {} # TODO memo\n",
    "def num_solve(key_start, key_end):\n",
    "    print(\"num_solve\", key_start, key_end)\n",
    "    y0, x0 = numpad_lookup[key_start]\n",
    "    y1, x1 = numpad_lookup[key_end]\n",
    "    y_dist, x_dist = y1 - y0, x1 - x0\n",
    "    y_key, y_dir = dirs[0][y_dist > 0]\n",
    "    x_key, x_dir = dirs[1][x_dist > 0]\n",
    "\n",
    "    # To dodge blank corner\n",
    "    start_move = \"\"\n",
    "    mov_s = \"\"\n",
    "    if (y0 == 3 or y1 == 3) and (x0 == 0 or x1 == 0):\n",
    "        if x0 == 0:\n",
    "            start_move = '>'\n",
    "            mov_s = y_key * abs(y_dist) + x_key * (abs(x_dist) - 1)\n",
    "        else:\n",
    "            start_move = '^'\n",
    "            mov_s = y_key * (abs(y_dist) - 1) + x_key * abs(x_dist)\n",
    "    else:\n",
    "        mov_s = y_key * abs(y_dist) + x_key * abs(x_dist)\n",
    "\n",
    "    possible_inputs = [\n",
    "        'A' + start_move + ''.join(x) + 'A'\n",
    "        for x in set(permutations(mov_s))\n",
    "    ]\n",
    "    print(\"possible inputs\", possible_inputs)\n",
    "\n",
    "    min_score, min_inputs = maxsize, \"\"\n",
    "    for inputs in possible_inputs:\n",
    "        print(inputs)\n",
    "        sequence = ''.join(dir_dfs(k0, k1, depth=1) for k0, k1 in pairwise(inputs))\n",
    "        print(sequence)\n",
    "        if len(sequence) < min_score:\n",
    "            min_score = len(sequence)\n",
    "            min_inputs = sequence\n",
    "    memo_num[key_start, key_end] = min_score\n",
    "    print(\"best input\", min_inputs, \"score\", min_score)\n",
    "\n",
    "    return min_inputs\n",
    "\n",
    "def reduce_print_nums(s):\n",
    "    k2d = {'^': (-1, 0), '>': (0, 1), 'v': (1, 0), '<': (0, -1)}\n",
    "\n",
    "    out = \"\"\n",
    "\n",
    "    y, x = (3, 2)\n",
    "    for c in s:\n",
    "        if c == 'A':\n",
    "            out += numpad[y][x]\n",
    "            continue\n",
    "        dy, dx = k2d[c]\n",
    "        y, x = y+dy, x+dx\n",
    "        if numpad[y][x] == ' ':\n",
    "            print(\"blank panic\", y, x, s, out)\n",
    "            assert(False)\n",
    "    print(out)\n",
    "\n",
    "def reduce_print(s, depth):\n",
    "    if depth <= 0:\n",
    "        reduce_print_nums(s)\n",
    "        return\n",
    "\n",
    "    k2d = {'^': (-1, 0), '>': (0, 1), 'v': (1, 0), '<': (0, -1)}\n",
    "\n",
    "    out = \"\"\n",
    "    y, x = (0, 2)\n",
    "    for c in s:\n",
    "        if c == 'A':\n",
    "            out += dirpad[y][x]\n",
    "            continue\n",
    "        dy, dx = k2d[c]\n",
    "        y, x = y+dy, x+dx\n",
    "        if dirpad[y][x] == ' ':\n",
    "            print(\"blank panic\", y, x, s, out)\n",
    "            assert(False)\n",
    "\n",
    "    print(out)\n",
    "    reduce_print(out, depth - 1)\n",
    "\n",
    "if __name__ == \"__main__\":\n",
    "    codes = open(\"input_day21.txt\").read().splitlines()\n",
    "    out = 0\n",
    "    for code in codes:\n",
    "        m = int(code[:-1])\n",
    "        s = ''.join(num_solve(a, b) for a, b in pairwise(\"A\" + code))\n",
    "        out += len(s) * m\n",
    "        print(\"code\", code, \"gives\", s, \"len\", len(s), \"score\", len(s) * m)\n",
    "        reduce_print(s, 2)\n",
    "    print(\"overall score\", out)"
   ]
  },
  {
   "cell_type": "code",
   "execution_count": null,
   "id": "e46bcd53",
   "metadata": {},
   "outputs": [],
   "source": []
  }
 ],
 "metadata": {
  "kernelspec": {
   "display_name": "Python 3.11 (tensorflow)",
   "language": "python",
   "name": "tensorflow"
  },
  "language_info": {
   "codemirror_mode": {
    "name": "ipython",
    "version": 3
   },
   "file_extension": ".py",
   "mimetype": "text/x-python",
   "name": "python",
   "nbconvert_exporter": "python",
   "pygments_lexer": "ipython3",
   "version": "3.11.4"
  },
  "toc": {
   "base_numbering": 1,
   "nav_menu": {},
   "number_sections": true,
   "sideBar": true,
   "skip_h1_title": false,
   "title_cell": "Table of Contents",
   "title_sidebar": "Contents",
   "toc_cell": false,
   "toc_position": {},
   "toc_section_display": true,
   "toc_window_display": false
  }
 },
 "nbformat": 4,
 "nbformat_minor": 5
}
