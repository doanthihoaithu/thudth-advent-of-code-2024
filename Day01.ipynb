{
 "cells": [
  {
   "cell_type": "code",
   "execution_count": 1,
   "id": "a2d8a13d",
   "metadata": {},
   "outputs": [],
   "source": [
    "import numpy as np\n",
    "import pandas as pd"
   ]
  },
  {
   "cell_type": "code",
   "execution_count": 41,
   "id": "64560a6d",
   "metadata": {},
   "outputs": [],
   "source": [
    "df = pd.read_csv('day01_input.txt', delimiter=\"  \", header=None, engine='python')\n",
    "df.columns = ['list1', 'list2']"
   ]
  },
  {
   "cell_type": "code",
   "execution_count": 43,
   "id": "12071868",
   "metadata": {},
   "outputs": [
    {
     "data": {
      "text/html": [
       "<div>\n",
       "<style scoped>\n",
       "    .dataframe tbody tr th:only-of-type {\n",
       "        vertical-align: middle;\n",
       "    }\n",
       "\n",
       "    .dataframe tbody tr th {\n",
       "        vertical-align: top;\n",
       "    }\n",
       "\n",
       "    .dataframe thead th {\n",
       "        text-align: right;\n",
       "    }\n",
       "</style>\n",
       "<table border=\"1\" class=\"dataframe\">\n",
       "  <thead>\n",
       "    <tr style=\"text-align: right;\">\n",
       "      <th></th>\n",
       "      <th>list1</th>\n",
       "      <th>list2</th>\n",
       "    </tr>\n",
       "  </thead>\n",
       "  <tbody>\n",
       "    <tr>\n",
       "      <th>0</th>\n",
       "      <td>66845</td>\n",
       "      <td>37619</td>\n",
       "    </tr>\n",
       "    <tr>\n",
       "      <th>1</th>\n",
       "      <td>94793</td>\n",
       "      <td>99076</td>\n",
       "    </tr>\n",
       "    <tr>\n",
       "      <th>2</th>\n",
       "      <td>76946</td>\n",
       "      <td>36179</td>\n",
       "    </tr>\n",
       "    <tr>\n",
       "      <th>3</th>\n",
       "      <td>27374</td>\n",
       "      <td>48777</td>\n",
       "    </tr>\n",
       "    <tr>\n",
       "      <th>4</th>\n",
       "      <td>47847</td>\n",
       "      <td>92154</td>\n",
       "    </tr>\n",
       "  </tbody>\n",
       "</table>\n",
       "</div>"
      ],
      "text/plain": [
       "   list1  list2\n",
       "0  66845  37619\n",
       "1  94793  99076\n",
       "2  76946  36179\n",
       "3  27374  48777\n",
       "4  47847  92154"
      ]
     },
     "execution_count": 43,
     "metadata": {},
     "output_type": "execute_result"
    }
   ],
   "source": [
    "df.head()"
   ]
  },
  {
   "cell_type": "markdown",
   "id": "fa73ccc6",
   "metadata": {},
   "source": [
    "# Part 1"
   ]
  },
  {
   "cell_type": "code",
   "execution_count": 19,
   "id": "88bfa666",
   "metadata": {},
   "outputs": [],
   "source": [
    "list1 = df['list1']\n",
    "list2 = df['list2']"
   ]
  },
  {
   "cell_type": "code",
   "execution_count": 37,
   "id": "c926b5f0",
   "metadata": {},
   "outputs": [
    {
     "name": "stdout",
     "output_type": "stream",
     "text": [
      "Answer: 1889772\n"
     ]
    }
   ],
   "source": [
    "answer = np.abs(list1.sort_values().values-list2.sort_values().values).sum()\n",
    "print('Answer:',answer)"
   ]
  },
  {
   "cell_type": "markdown",
   "id": "87c1e0e0",
   "metadata": {},
   "source": [
    "# Part 2"
   ]
  },
  {
   "cell_type": "code",
   "execution_count": 44,
   "id": "d3618d46",
   "metadata": {},
   "outputs": [],
   "source": [
    "dictionary = list2.value_counts().to_dict()"
   ]
  },
  {
   "cell_type": "code",
   "execution_count": 45,
   "id": "6c34d71b",
   "metadata": {},
   "outputs": [
    {
     "name": "stdout",
     "output_type": "stream",
     "text": [
      "Answer: 23228917\n"
     ]
    }
   ],
   "source": [
    "distances = 0\n",
    "for i in list1.values:\n",
    "    distances += i * dictionary.get(i,0)\n",
    "print('Answer:', distances)"
   ]
  }
 ],
 "metadata": {
  "kernelspec": {
   "display_name": "Python 3.8 (timeeval)",
   "language": "python",
   "name": "timeeval"
  },
  "language_info": {
   "codemirror_mode": {
    "name": "ipython",
    "version": 3
   },
   "file_extension": ".py",
   "mimetype": "text/x-python",
   "name": "python",
   "nbconvert_exporter": "python",
   "pygments_lexer": "ipython3",
   "version": "3.8.19"
  },
  "toc": {
   "base_numbering": 1,
   "nav_menu": {},
   "number_sections": true,
   "sideBar": true,
   "skip_h1_title": false,
   "title_cell": "Table of Contents",
   "title_sidebar": "Contents",
   "toc_cell": false,
   "toc_position": {},
   "toc_section_display": true,
   "toc_window_display": false
  }
 },
 "nbformat": 4,
 "nbformat_minor": 5
}
