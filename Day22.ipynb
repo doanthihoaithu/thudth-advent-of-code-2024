{
 "cells": [
  {
   "cell_type": "code",
   "execution_count": 1,
   "id": "8dd0bfc1",
   "metadata": {},
   "outputs": [],
   "source": [
    "import numpy as np"
   ]
  },
  {
   "cell_type": "markdown",
   "id": "4b223abc",
   "metadata": {},
   "source": [
    "# Part 1"
   ]
  },
  {
   "cell_type": "code",
   "execution_count": 11,
   "id": "bd11233a",
   "metadata": {},
   "outputs": [],
   "source": [
    "def mix(value, secret_number):\n",
    "    return value ^ secret_number\n",
    "\n",
    "def prune(secret_number):\n",
    "    return secret_number % 16777216\n",
    "\n",
    "def mix_prune(value, secret_number):\n",
    "    return prune(mix(value, secret_number))\n",
    "    "
   ]
  },
  {
   "cell_type": "code",
   "execution_count": 28,
   "id": "266dbb68",
   "metadata": {},
   "outputs": [],
   "source": [
    "def get_next_secret_number(number):\n",
    "    result = mix_prune(number * 64, number)\n",
    "    result = mix_prune(int(result/32), result)\n",
    "    result = mix_prune(result * 2048, result)\n",
    "    return result\n",
    "    "
   ]
  },
  {
   "cell_type": "code",
   "execution_count": 32,
   "id": "6e8fb3fa",
   "metadata": {},
   "outputs": [],
   "source": [
    "def get_next_secret_numbers(number, steps):\n",
    "    new_number = number\n",
    "    for i in range(steps):\n",
    "#         print(new_number)\n",
    "        new_number = get_next_secret_number(new_number)\n",
    "#         print(new_number)\n",
    "    return new_number"
   ]
  },
  {
   "cell_type": "code",
   "execution_count": 38,
   "id": "c84c5ca5",
   "metadata": {},
   "outputs": [
    {
     "name": "stdout",
     "output_type": "stream",
     "text": [
      "2448\n",
      "Answer for part 1: 20068964552\n"
     ]
    }
   ],
   "source": [
    "with open('input_day22.txt') as file:\n",
    "    lines = file.readlines()\n",
    "    lines = [line.strip() for line in lines]\n",
    "    initial_numbers = [int(c) for c in lines]\n",
    "    print(len(initial_numbers))\n",
    "    \n",
    "    result = 0\n",
    "    for n in initial_numbers:\n",
    "        result += get_next_secret_numbers(n, 2000)\n",
    "        \n",
    "    print('Answer for part 1:', result)"
   ]
  },
  {
   "cell_type": "code",
   "execution_count": 33,
   "id": "76063eba",
   "metadata": {},
   "outputs": [
    {
     "data": {
      "text/plain": [
       "5908254"
      ]
     },
     "execution_count": 33,
     "metadata": {},
     "output_type": "execute_result"
    }
   ],
   "source": [
    "get_next_secret_numbers(123, 10)"
   ]
  },
  {
   "cell_type": "code",
   "execution_count": 37,
   "id": "253f28cb",
   "metadata": {},
   "outputs": [
    {
     "data": {
      "text/plain": [
       "8667524"
      ]
     },
     "execution_count": 37,
     "metadata": {},
     "output_type": "execute_result"
    }
   ],
   "source": [
    "get_next_secret_numbers(2024, 2000)"
   ]
  },
  {
   "cell_type": "markdown",
   "id": "2ab6cee6",
   "metadata": {},
   "source": [
    "# Part 2"
   ]
  },
  {
   "cell_type": "code",
   "execution_count": 41,
   "id": "13adb3c8",
   "metadata": {},
   "outputs": [],
   "source": [
    "def get_next_secret_array(number, steps):\n",
    "    result = [number%10]\n",
    "    new_number = number\n",
    "    for i in range(steps):\n",
    "#         print(new_number)\n",
    "        new_number = get_next_secret_number(new_number)\n",
    "        result.append(new_number%10)\n",
    "#         print(new_number)\n",
    "    return result"
   ]
  },
  {
   "cell_type": "code",
   "execution_count": 110,
   "id": "caffba0b",
   "metadata": {},
   "outputs": [
    {
     "name": "stdout",
     "output_type": "stream",
     "text": [
      "2448\n"
     ]
    }
   ],
   "source": [
    "with open('input_day22.txt') as file:\n",
    "    lines = file.readlines()\n",
    "    lines = [line.strip() for line in lines]\n",
    "    initial_numbers = [int(c) for c in lines]\n",
    "    print(len(initial_numbers))\n",
    "    \n",
    "    result = 0\n",
    "    all_buyers_price_sequences = []\n",
    "    all_buyers_change_sequences = []\n",
    "    for n in initial_numbers:\n",
    "        prices = np.array(get_next_secret_array(n, 2000))\n",
    "        all_buyers_price_sequences.append(prices)\n",
    "        all_buyers_change_sequences.append(prices[1:] - prices[:-1])"
   ]
  },
  {
   "cell_type": "code",
   "execution_count": 111,
   "id": "501fbccb",
   "metadata": {},
   "outputs": [],
   "source": [
    "dictionary = dict()\n",
    "for index, all_changes in enumerate(all_buyers_change_sequences):\n",
    "    added_key = dict()\n",
    "    for i in range(len(all_changes)-4):\n",
    "        changes = all_changes[i:i+4]\n",
    "        changes = [str(c) for c in changes]\n",
    "        key = \",\".join(changes)\n",
    "        if key not in dictionary:\n",
    "            dictionary[key] = [all_buyers_price_sequences[index][i+4]]\n",
    "            added_key[key] = True\n",
    "        else:\n",
    "            if key not in added_key:\n",
    "                dictionary[key].append(all_buyers_price_sequences[index][i+4])\n",
    "                added_key[key] = True\n",
    "    "
   ]
  },
  {
   "cell_type": "code",
   "execution_count": 115,
   "id": "6aed5e3d",
   "metadata": {},
   "outputs": [
    {
     "name": "stdout",
     "output_type": "stream",
     "text": [
      "Answer for part 2: 2246\n"
     ]
    }
   ],
   "source": [
    "sum_array = [sum(a) for a in dictionary.values()]\n",
    "print('Answer for part 2:', max(sum_array))"
   ]
  },
  {
   "cell_type": "code",
   "execution_count": null,
   "id": "c46af125",
   "metadata": {},
   "outputs": [],
   "source": []
  }
 ],
 "metadata": {
  "kernelspec": {
   "display_name": "Python 3.8 (timeeval)",
   "language": "python",
   "name": "timeeval"
  },
  "language_info": {
   "codemirror_mode": {
    "name": "ipython",
    "version": 3
   },
   "file_extension": ".py",
   "mimetype": "text/x-python",
   "name": "python",
   "nbconvert_exporter": "python",
   "pygments_lexer": "ipython3",
   "version": "3.8.19"
  },
  "toc": {
   "base_numbering": 1,
   "nav_menu": {},
   "number_sections": true,
   "sideBar": true,
   "skip_h1_title": false,
   "title_cell": "Table of Contents",
   "title_sidebar": "Contents",
   "toc_cell": false,
   "toc_position": {},
   "toc_section_display": true,
   "toc_window_display": false
  }
 },
 "nbformat": 4,
 "nbformat_minor": 5
}
