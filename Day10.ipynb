{
 "cells": [
  {
   "cell_type": "markdown",
   "id": "f4e37cb5",
   "metadata": {},
   "source": [
    "# Part 1"
   ]
  },
  {
   "cell_type": "code",
   "execution_count": 7,
   "id": "a9d6c481",
   "metadata": {},
   "outputs": [],
   "source": [
    "import numpy as np"
   ]
  },
  {
   "cell_type": "code",
   "execution_count": 8,
   "id": "939d3311",
   "metadata": {},
   "outputs": [],
   "source": [
    "def in_bound(pos, map_matrix):\n",
    "    max_row = map_matrix.shape[0]\n",
    "    max_column = map_matrix.shape[1]\n",
    "    return pos[0] in range(max_row) and pos[1] in range(max_column)"
   ]
  },
  {
   "cell_type": "code",
   "execution_count": 9,
   "id": "c40f232a",
   "metadata": {},
   "outputs": [],
   "source": [
    "def get_next_positions(current_pos, map_matrix):\n",
    "    next_value = map_matrix[current_pos] +1\n",
    "    current_row, current_col = current_pos\n",
    "    next_positions = [(current_row-1, current_col), (current_row, current_col+1), \\\n",
    "                      (current_row+1, current_col), (current_row, current_col-1)]\n",
    "    result = []\n",
    "    for p in next_positions:\n",
    "        if in_bound(p, map_matrix):\n",
    "            if map_matrix[p] == next_value:\n",
    "                result.append(p)\n",
    "    return result\n",
    "        "
   ]
  },
  {
   "cell_type": "code",
   "execution_count": 10,
   "id": "db557b55",
   "metadata": {},
   "outputs": [],
   "source": [
    "def spread(current_position, hiking_trails, hiking_trails_array, map_matrix, trail_tail_visited_dic):\n",
    "    if map_matrix[current_position] == 9:\n",
    "        if trail_tail_visited_dic[current_position] == False:\n",
    "            hiking_trails_array.append(hiking_trails)\n",
    "            trail_tail_visited_dic[current_position] = True\n",
    "    else:\n",
    "        next_positions = get_next_positions(current_position, map_matrix)\n",
    "        if len(next_positions) == 0:\n",
    "            return\n",
    "        for n in next_positions:\n",
    "            new_hiking_trails = hiking_trails.copy()\n",
    "            new_hiking_trails.append(n)\n",
    "            spread(n, new_hiking_trails, hiking_trails_array, map_matrix,trail_tail_visited_dic)\n",
    "    "
   ]
  },
  {
   "cell_type": "code",
   "execution_count": 11,
   "id": "db5d16c3",
   "metadata": {},
   "outputs": [
    {
     "name": "stdout",
     "output_type": "stream",
     "text": [
      "Answer: 468\n"
     ]
    }
   ],
   "source": [
    "with open('input_day10.txt') as file:\n",
    "    lines = file.readlines()\n",
    "    lines = [line.strip() for line in lines]\n",
    "    map_matrix = [[int(col) for col in row] for row in lines]\n",
    "    map_matrix = np.array(map_matrix)\n",
    "\n",
    "    trail_head_positions = []\n",
    "    trail_tail_positions = []\n",
    "    for i in range(map_matrix.shape[0]):\n",
    "        for j in range(map_matrix.shape[1]):\n",
    "            if map_matrix[i,j] == 0:\n",
    "                trail_head_positions.append((i,j))\n",
    "            if map_matrix[i,j] == 9:\n",
    "                trail_tail_positions.append((i,j))\n",
    "    \n",
    "    counter = 0\n",
    "    for head in trail_head_positions:\n",
    "        hiking_trails = []\n",
    "        hiking_trails_array = []\n",
    "        trail_tail_visited_map = {t: False for t in trail_tail_positions}\n",
    "        spread(head, hiking_trails, hiking_trails_array, map_matrix, trail_tail_visited_map)\n",
    "        counter = counter + len(hiking_trails_array)\n",
    "    print('Answer:', counter)"
   ]
  },
  {
   "cell_type": "markdown",
   "id": "88a3acc7",
   "metadata": {},
   "source": [
    "# Part 2"
   ]
  },
  {
   "cell_type": "code",
   "execution_count": 12,
   "id": "aebf1b6e",
   "metadata": {},
   "outputs": [],
   "source": [
    "def spread_part2(current_position, hiking_trails, hiking_trails_array, map_matrix):\n",
    "    if map_matrix[current_position] == 9:\n",
    "        hiking_trails_array.append(hiking_trails)\n",
    "    else:\n",
    "        next_positions = get_next_positions(current_position, map_matrix)\n",
    "        if len(next_positions) == 0:\n",
    "            return\n",
    "        for n in next_positions:\n",
    "            new_hiking_trails = hiking_trails.copy()\n",
    "            new_hiking_trails.append(n)\n",
    "            spread_part2(n, new_hiking_trails, hiking_trails_array, map_matrix)"
   ]
  },
  {
   "cell_type": "code",
   "execution_count": 13,
   "id": "0ebfba7e",
   "metadata": {},
   "outputs": [
    {
     "name": "stdout",
     "output_type": "stream",
     "text": [
      "Answer: 966\n"
     ]
    }
   ],
   "source": [
    "with open('input_day10.txt') as file:\n",
    "    lines = file.readlines()\n",
    "    lines = [line.strip() for line in lines]\n",
    "    map_matrix = [[int(col) for col in row] for row in lines]\n",
    "    map_matrix = np.array(map_matrix)\n",
    "#     print(map_matrix.shape)\n",
    "\n",
    "    trail_head_positions = []\n",
    "    trail_tail_positions = []\n",
    "    for i in range(map_matrix.shape[0]):\n",
    "        for j in range(map_matrix.shape[1]):\n",
    "            if map_matrix[i,j] == 0:\n",
    "                trail_head_positions.append((i,j))\n",
    "            if map_matrix[i,j] == 9:\n",
    "                trail_tail_positions.append((i,j))\n",
    "    \n",
    "    counter = 0\n",
    "    for head in trail_head_positions:\n",
    "        hiking_trails = []\n",
    "        hiking_trails_array = []\n",
    "        spread_part2(head, hiking_trails, hiking_trails_array, map_matrix)\n",
    "        counter = counter + len(hiking_trails_array)\n",
    "    print('Answer:', counter)"
   ]
  }
 ],
 "metadata": {
  "kernelspec": {
   "display_name": "TimeEval (Python 3.8)",
   "language": "python",
   "name": "timeeval"
  },
  "language_info": {
   "codemirror_mode": {
    "name": "ipython",
    "version": 3
   },
   "file_extension": ".py",
   "mimetype": "text/x-python",
   "name": "python",
   "nbconvert_exporter": "python",
   "pygments_lexer": "ipython3",
   "version": "3.8.19"
  },
  "toc": {
   "base_numbering": 1,
   "nav_menu": {},
   "number_sections": true,
   "sideBar": true,
   "skip_h1_title": false,
   "title_cell": "Table of Contents",
   "title_sidebar": "Contents",
   "toc_cell": false,
   "toc_position": {},
   "toc_section_display": true,
   "toc_window_display": false
  }
 },
 "nbformat": 4,
 "nbformat_minor": 5
}
