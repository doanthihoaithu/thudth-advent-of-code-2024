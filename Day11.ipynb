{
 "cells": [
  {
   "cell_type": "code",
   "execution_count": 1,
   "id": "59f7d597",
   "metadata": {},
   "outputs": [],
   "source": [
    "import numpy as np"
   ]
  },
  {
   "cell_type": "markdown",
   "id": "43e84005",
   "metadata": {},
   "source": [
    "# Part 1"
   ]
  },
  {
   "cell_type": "code",
   "execution_count": 30,
   "id": "3346bcb8",
   "metadata": {},
   "outputs": [],
   "source": [
    "def check_rule(n):\n",
    "    if n == 0:\n",
    "        return 1  \n",
    "    if len(str(n)) % 2 == 0:\n",
    "        return 2\n",
    "    return 3"
   ]
  },
  {
   "cell_type": "code",
   "execution_count": 31,
   "id": "0358d78b",
   "metadata": {},
   "outputs": [],
   "source": [
    "def generate_stones_for_rules(rule1_array, rule2_array, rule3_array):\n",
    "    new_rule1_array = []\n",
    "    new_rule2_array = []\n",
    "    new_rule3_array = []\n",
    "    for n in rule1_array:\n",
    "        new_rule3_array.append(1)\n",
    "        \n",
    "    for n in rule2_array:\n",
    "        length = len(str(n))\n",
    "        half_length = int(length/2)\n",
    "        left = int(n/10**half_length)\n",
    "        right = n % (10**half_length)\n",
    "#         print(left, right, check_rule(left), check_rule(right))\n",
    "        if check_rule(left) == 1:\n",
    "            new_rule1_array.append(left)\n",
    "        elif check_rule(left) == 2:\n",
    "            new_rule2_array.append(left)\n",
    "        else:\n",
    "            new_rule3_array.append(left)\n",
    "            \n",
    "        if check_rule(right) == 1:\n",
    "            new_rule1_array.append(right)\n",
    "        elif check_rule(right) == 2:\n",
    "            new_rule2_array.append(right)\n",
    "        else:\n",
    "            new_rule3_array.append(right)\n",
    "        \n",
    "    for n in rule3_array:\n",
    "        new_value = n * 2024\n",
    "        if check_rule(new_value) == 1:\n",
    "            new_rule3_array.append(new_value)\n",
    "        elif check_rule(new_value) == 2:\n",
    "            new_rule2_array.append(new_value)\n",
    "        else:\n",
    "            new_rule3_array.append(new_value)\n",
    "    \n",
    "    return new_rule1_array, new_rule2_array, new_rule3_array\n",
    "        \n",
    "        "
   ]
  },
  {
   "cell_type": "code",
   "execution_count": 32,
   "id": "f15e85f0",
   "metadata": {},
   "outputs": [
    {
     "name": "stdout",
     "output_type": "stream",
     "text": [
      "Answer: 193607\n"
     ]
    }
   ],
   "source": [
    "with open('input_day11.txt') as file:\n",
    "    line = file.readline().strip()\n",
    "    numbers = [int(c) for c in line.split(' ')]\n",
    "#     print(numbers)\n",
    "    \n",
    "    # numbers = [125, 17]\n",
    "    \n",
    "    rule1_array = []\n",
    "    rule2_array = []\n",
    "    rule3_array = []\n",
    "    \n",
    "    for n in numbers:\n",
    "        rule_number = check_rule(n)\n",
    "        if rule_number == 1:\n",
    "            rule1_array.append(n)\n",
    "        elif rule_number == 2:\n",
    "            rule2_array.append(n)\n",
    "        else:\n",
    "            rule3_array.append(n)\n",
    "        \n",
    "    for i in range(1,26):\n",
    "    #     print (rule1_array, rule2_array, rule3_array)\n",
    "        rule1_array, rule2_array, rule3_array = generate_stones_for_rules(rule1_array, rule2_array, rule3_array)\n",
    "    print('Answer:', len(rule1_array) + len(rule2_array) + len(rule3_array))"
   ]
  },
  {
   "cell_type": "markdown",
   "id": "6375bb77",
   "metadata": {},
   "source": [
    "# Part 2"
   ]
  },
  {
   "cell_type": "code",
   "execution_count": 33,
   "id": "1387837b",
   "metadata": {},
   "outputs": [
    {
     "name": "stdout",
     "output_type": "stream",
     "text": [
      "Answer: 229557103025807\n"
     ]
    }
   ],
   "source": [
    "from functools import cache\n",
    "from math import floor, log10\n",
    "\n",
    "@cache\n",
    "def count(x, d=75):\n",
    "    if d == 0: return 1\n",
    "    if x == 0: return count(1, d-1)\n",
    "\n",
    "    l = floor(log10(x))+1\n",
    "    if l % 2: return count(x*2024, d-1)\n",
    "\n",
    "    return (count(x // 10**(l//2), d-1)+\n",
    "            count(x %  10**(l//2), d-1))\n",
    "\n",
    "with open('input_day11.txt') as file:\n",
    "    line = file.readline().strip()\n",
    "    numbers = [int(c) for c in line.split(' ')]\n",
    "    print('Answer:', sum(map(count, numbers)))"
   ]
  }
 ],
 "metadata": {
  "kernelspec": {
   "display_name": "Python 3.12 (basic)",
   "language": "python",
   "name": "basic"
  },
  "language_info": {
   "codemirror_mode": {
    "name": "ipython",
    "version": 3
   },
   "file_extension": ".py",
   "mimetype": "text/x-python",
   "name": "python",
   "nbconvert_exporter": "python",
   "pygments_lexer": "ipython3",
   "version": "3.12.3"
  },
  "toc": {
   "base_numbering": 1,
   "nav_menu": {},
   "number_sections": true,
   "sideBar": true,
   "skip_h1_title": false,
   "title_cell": "Table of Contents",
   "title_sidebar": "Contents",
   "toc_cell": false,
   "toc_position": {},
   "toc_section_display": true,
   "toc_window_display": false
  }
 },
 "nbformat": 4,
 "nbformat_minor": 5
}
