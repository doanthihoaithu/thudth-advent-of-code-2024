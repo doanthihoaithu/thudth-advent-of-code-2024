{
 "cells": [
  {
   "cell_type": "markdown",
   "id": "cbe397f1",
   "metadata": {},
   "source": [
    "# Part 1"
   ]
  },
  {
   "cell_type": "code",
   "execution_count": 16,
   "id": "e9c03225",
   "metadata": {},
   "outputs": [],
   "source": [
    "import numpy as np"
   ]
  },
  {
   "cell_type": "code",
   "execution_count": 39,
   "id": "6b5950c3",
   "metadata": {},
   "outputs": [
    {
     "name": "stdout",
     "output_type": "stream",
     "text": [
      "Answer for part 1: 3360\n"
     ]
    }
   ],
   "source": [
    "with open('input_day25.txt') as file:\n",
    "    lines = file.readlines()\n",
    "    \n",
    "    schematics = []\n",
    "    current_schematic = []\n",
    "    for index, line in enumerate(lines):\n",
    "        if line != '\\n':\n",
    "            current_schematic.append([c for c in line.strip()])\n",
    "            if index == len(lines) - 1:\n",
    "                schematics.append(current_schematic)       \n",
    "        else:\n",
    "            schematics.append(current_schematic)\n",
    "            current_schematic = []\n",
    "            \n",
    "    schematics = [np.array(s) for s in schematics]\n",
    "    locks = []\n",
    "    keys = []\n",
    "    for s in schematics:\n",
    "        if (s[0] == '#').all() and (s[-1] == '.').all():\n",
    "            locks.append(s)\n",
    "        elif (s[0] == '.').all() and (s[-1] == '#').all():\n",
    "            keys.append(s)\n",
    "            \n",
    "    counter = 0\n",
    "    for l in locks:\n",
    "        l_height = (l == '#').sum(axis=0) - 1\n",
    "#         print(l_height)\n",
    "        for k in keys:\n",
    "            k_height = (k == '#').sum(axis=0) - 1\n",
    "\n",
    "            overlap = ((l_height + k_height) >= 6).any()\n",
    "            if overlap == False:\n",
    "                counter +=1\n",
    "    print('Answer for part 1:', counter)\n",
    "        \n",
    "#     lines = [line.strip() for line in lines]"
   ]
  },
  {
   "cell_type": "markdown",
   "id": "c8a106d9",
   "metadata": {},
   "source": [
    "# Part 2"
   ]
  },
  {
   "cell_type": "code",
   "execution_count": null,
   "id": "fb76fada",
   "metadata": {},
   "outputs": [],
   "source": []
  }
 ],
 "metadata": {
  "kernelspec": {
   "display_name": "Python 3.11 (tensorflow)",
   "language": "python",
   "name": "tensorflow"
  },
  "language_info": {
   "codemirror_mode": {
    "name": "ipython",
    "version": 3
   },
   "file_extension": ".py",
   "mimetype": "text/x-python",
   "name": "python",
   "nbconvert_exporter": "python",
   "pygments_lexer": "ipython3",
   "version": "3.11.4"
  },
  "toc": {
   "base_numbering": 1,
   "nav_menu": {},
   "number_sections": true,
   "sideBar": true,
   "skip_h1_title": false,
   "title_cell": "Table of Contents",
   "title_sidebar": "Contents",
   "toc_cell": false,
   "toc_position": {},
   "toc_section_display": true,
   "toc_window_display": false
  }
 },
 "nbformat": 4,
 "nbformat_minor": 5
}
