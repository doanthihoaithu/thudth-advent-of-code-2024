{
 "cells": [
  {
   "cell_type": "markdown",
   "id": "3211d884",
   "metadata": {},
   "source": [
    "# Part 1"
   ]
  },
  {
   "cell_type": "code",
   "execution_count": 40,
   "id": "6a98b1d4",
   "metadata": {},
   "outputs": [
    {
     "name": "stdout",
     "output_type": "stream",
     "text": [
      "520 3380\n",
      "Answer for part 1: 1083\n"
     ]
    }
   ],
   "source": [
    "from itertools import combinations\n",
    "\n",
    "with open('input_day23.txt') as file:\n",
    "    lines = file.readlines()\n",
    "    lines = [line.strip() for line in lines]\n",
    "    \n",
    "    ids = set()\n",
    "    connections = set()\n",
    "    for line in lines:\n",
    "        pairs = line.split('-')\n",
    "        ids.add(pairs[0])\n",
    "        ids.add(pairs[1])\n",
    "        connections.add(line)\n",
    "        \n",
    "    print(len(ids), len(connections))\n",
    "    \n",
    "    counter = 0\n",
    "    for triple in set(list(combinations(ids, 3))):\n",
    "        a,b,c = triple[0], triple[1], triple[2]\n",
    "        if a.startswith('t') or b.startswith('t') or c.startswith('t'):\n",
    "            ab = f'{a}-{b}'\n",
    "            ba = f'{b}-{a}'\n",
    "\n",
    "            ac = f'{a}-{c}'\n",
    "            ca = f'{c}-{a}'\n",
    "\n",
    "            bc = f'{b}-{c}'\n",
    "            cb = f'{c}-{b}'\n",
    "\n",
    "            if (ab in connections) or (ba in connections):\n",
    "                if (ac in connections) or (ca in connections):\n",
    "                    if (bc in connections) or (cb in connections):\n",
    "    #                     print(a,b,c)\n",
    "                        counter +=1\n",
    "    print('Answer for part 1:', counter)"
   ]
  },
  {
   "cell_type": "markdown",
   "id": "f57e09aa",
   "metadata": {},
   "source": [
    "# Part 2"
   ]
  },
  {
   "cell_type": "code",
   "execution_count": 4,
   "id": "d912c358",
   "metadata": {},
   "outputs": [],
   "source": [
    "def build_neighbor_dictionary(connections):\n",
    "    dictionary = dict()\n",
    "    for c in connections:\n",
    "        id1 = c.split('-')[0]\n",
    "        id2 = c.split('-')[1]\n",
    "#         print(id1, id2)\n",
    "        if id1 in dictionary:\n",
    "            dictionary[id1].add(id2)\n",
    "        else:\n",
    "            dictionary[id1] = set()\n",
    "            dictionary[id1].add(id2)\n",
    "        \n",
    "        if id2 in dictionary:\n",
    "            dictionary[id2].add(id1)\n",
    "        else:\n",
    "            dictionary[id2] = set()\n",
    "            dictionary[id2].add(id1)\n",
    "    return dictionary\n",
    "def neighbor(v):\n",
    "    return dictionary[v]\n",
    "# neighbor('3', connections) "
   ]
  },
  {
   "cell_type": "code",
   "execution_count": 7,
   "id": "89ee637f",
   "metadata": {},
   "outputs": [],
   "source": [
    "# R: current clique\n",
    "# P: candidate set\n",
    "# X: exclusion set\n",
    "# Bron–Kerbosch algorithm \n",
    "def BK_alg(R, P, X, maximal_cliques):\n",
    "    if len(P) == 0 and len(X) == 0:\n",
    "        maximal_cliques.append(R)\n",
    "        return\n",
    "    while P:\n",
    "        v = P.pop()\n",
    "        BK_alg(R | {v}, P & neighbor(v), X & neighbor(v), maximal_cliques)\n",
    "        X.add(v)"
   ]
  },
  {
   "cell_type": "code",
   "execution_count": 8,
   "id": "dacbdd7d",
   "metadata": {},
   "outputs": [
    {
     "name": "stdout",
     "output_type": "stream",
     "text": [
      "520 3380\n",
      "Maximum size of maximul cliques: 13\n",
      "Answer for part 2: as,bu,cp,dj,ez,fd,hu,it,kj,nx,pp,xh,yu\n"
     ]
    }
   ],
   "source": [
    "from itertools import combinations\n",
    "\n",
    "with open('input_day23.txt') as file:\n",
    "    lines = file.readlines()\n",
    "    lines = [line.strip() for line in lines]\n",
    "    \n",
    "    ids = set()\n",
    "    connections = set()\n",
    "    for line in lines:\n",
    "        pairs = line.split('-')\n",
    "        ids.add(pairs[0])\n",
    "        ids.add(pairs[1])\n",
    "        connections.add(line)\n",
    "        \n",
    "    dictionary = build_neighbor_dictionary(connections)\n",
    "        \n",
    "    print(len(ids), len(connections))\n",
    "    \n",
    "    R = set()\n",
    "    P = ids.copy()\n",
    "    X = set()\n",
    "    maximal_cliques = []\n",
    "    BK_alg(R, P, X, maximal_cliques)\n",
    "    max_size = max([len(c) for c in maximal_cliques])\n",
    "    print('Maximum size of maximul cliques:',max_size)\n",
    "    for c in maximal_cliques:\n",
    "        if len(c) == max_size:\n",
    "            print('Answer for part 2:',','.join(sorted(c)))"
   ]
  },
  {
   "cell_type": "code",
   "execution_count": null,
   "id": "9abd200c",
   "metadata": {},
   "outputs": [],
   "source": []
  }
 ],
 "metadata": {
  "kernelspec": {
   "display_name": "Python 3.11 (tensorflow)",
   "language": "python",
   "name": "tensorflow"
  },
  "language_info": {
   "codemirror_mode": {
    "name": "ipython",
    "version": 3
   },
   "file_extension": ".py",
   "mimetype": "text/x-python",
   "name": "python",
   "nbconvert_exporter": "python",
   "pygments_lexer": "ipython3",
   "version": "3.11.4"
  },
  "toc": {
   "base_numbering": 1,
   "nav_menu": {},
   "number_sections": true,
   "sideBar": true,
   "skip_h1_title": false,
   "title_cell": "Table of Contents",
   "title_sidebar": "Contents",
   "toc_cell": false,
   "toc_position": {},
   "toc_section_display": true,
   "toc_window_display": false
  }
 },
 "nbformat": 4,
 "nbformat_minor": 5
}
