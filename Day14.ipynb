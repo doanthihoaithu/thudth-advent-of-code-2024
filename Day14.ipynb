{
 "cells": [
  {
   "cell_type": "markdown",
   "id": "c43cca3b",
   "metadata": {},
   "source": [
    "# Part 1"
   ]
  },
  {
   "cell_type": "code",
   "execution_count": 74,
   "id": "8a07cf45",
   "metadata": {},
   "outputs": [
    {
     "name": "stdout",
     "output_type": "stream",
     "text": [
      "Answer: 217132650\n"
     ]
    }
   ],
   "source": [
    "from datetime import datetime\n",
    "import numpy as np\n",
    "import re\n",
    "\n",
    "with open('input_day14.txt') as file:\n",
    "    lines = file.readlines()\n",
    "    lines = [line.strip() for line in lines]\n",
    "    robots = []\n",
    "    for line in lines:\n",
    "        reg_string = r'p=(\\d+),(\\d+)\\sv=(-*\\d+),(-*\\d+)'\n",
    "        reg_pattern = re.compile(reg_string)\n",
    "        match = re.search(reg_pattern, line)\n",
    "        if match:\n",
    "            position_y = int(match.group(1))\n",
    "            position_x = int(match.group(2))\n",
    "            delta_y = int(match.group(3))\n",
    "            delta_x = int(match.group(4))\n",
    "            robots.append([(position_x, position_y), (delta_x, delta_y)])\n",
    "            \n",
    "    max_x = 103\n",
    "    max_y = 101\n",
    "\n",
    "    area_map = np.zeros((max_x,max_y)).astype(int)\n",
    "\n",
    "    for robot in robots:\n",
    "        position, velocity = robot\n",
    "#         print('Position:', position, 'Velocity:', velocity)\n",
    "        if velocity[0] >= 0:\n",
    "            final_position_x = (position[0] + (velocity[0]*100 % max_x)) % max_x\n",
    "        else:\n",
    "            final_position_x = (position[0]  - (abs(velocity[0]*100) % max_x))% max_x\n",
    "            \n",
    "        if velocity[1] >= 0:\n",
    "            final_position_y = (position[1] + (velocity[1]*100 % max_y))% max_y\n",
    "        else:\n",
    "            final_position_y = (position[1] - (abs(velocity[1]*100) % max_y))% max_y\n",
    "        \n",
    "#         print(f'Old position: {position}, new position: {(final_position_x, final_position_y)}, velocity {velocity}')\n",
    "        area_map[final_position_x, final_position_y] = area_map[final_position_x, final_position_y]+1\n",
    "        \n",
    "#     print(area_map)\n",
    "    counter1 = 0\n",
    "    counter2 = 0\n",
    "    counter3 = 0\n",
    "    counter4 = 0\n",
    "    max_x = area_map.shape[0]\n",
    "    middle_x = int(max_x/2)\n",
    "    max_y = area_map.shape[1]\n",
    "    middle_y = int(max_y/2)\n",
    "    for i in range(area_map.shape[0]):\n",
    "        for j in range(area_map.shape[1]):\n",
    "            if i < middle_x and j < middle_y: \n",
    "                counter1 = counter1 + area_map[i,j]\n",
    "            elif i < middle_x and j > middle_y:\n",
    "                counter2 = counter2 + area_map[i,j]\n",
    "            elif i > middle_x and j < middle_y:\n",
    "                counter3 = counter3 + area_map[i,j]\n",
    "            elif i > middle_x and j > middle_y:\n",
    "                counter4 = counter4 + area_map[i,j]\n",
    "    print('Answer:', counter1*counter2*counter3*counter4)\n",
    "# counter1, counter2, counter3, counter4"
   ]
  },
  {
   "cell_type": "markdown",
   "id": "c9c54615",
   "metadata": {},
   "source": [
    "# Part 2"
   ]
  },
  {
   "cell_type": "code",
   "execution_count": 69,
   "id": "52e2538b",
   "metadata": {},
   "outputs": [],
   "source": [
    "from datetime import datetime\n",
    "import numpy as np\n",
    "import re\n",
    "\n",
    "with open('input_day14.txt') as file:\n",
    "    lines = file.readlines()\n",
    "    lines = [line.strip() for line in lines]\n",
    "    robots = []\n",
    "    for line in lines:\n",
    "        reg_string = r'p=(\\d+),(\\d+)\\sv=(-*\\d+),(-*\\d+)'\n",
    "        reg_pattern = re.compile(reg_string)\n",
    "        match = re.search(reg_pattern, line)\n",
    "        if match:\n",
    "            position_y = int(match.group(1))\n",
    "            position_x = int(match.group(2))\n",
    "            delta_y = int(match.group(3))\n",
    "            delta_x = int(match.group(4))\n",
    "            robots.append([(position_x, position_y), (delta_x, delta_y)])\n",
    "            \n",
    "    max_x = 103\n",
    "    max_y = 101\n",
    "\n",
    "    area_map = np.zeros((max_x,max_y)).astype(int)\n",
    "    \n",
    "    safety_factors = []\n",
    "    \n",
    "    for i in range(1,100000):\n",
    "        \n",
    "        copy_area_map = area_map.copy()\n",
    "        \n",
    "\n",
    "        for robot in robots:\n",
    "            position, velocity = robot\n",
    "            if velocity[0] >= 0:\n",
    "                final_position_x = (position[0] + (velocity[0]*i % max_x)) % max_x\n",
    "            else:\n",
    "                final_position_x = (position[0]  - (abs(velocity[0]*i) % max_x))% max_x\n",
    "\n",
    "            if velocity[1] >= 0:\n",
    "                final_position_y = (position[1] + (velocity[1]*i % max_y))% max_y\n",
    "            else:\n",
    "                final_position_y = (position[1] - (abs(velocity[1]*i) % max_y))% max_y\n",
    "            copy_area_map[final_position_x, final_position_y] = copy_area_map[final_position_x, final_position_y]+1\n",
    "\n",
    "        counter1 = 0\n",
    "        counter2 = 0\n",
    "        counter3 = 0\n",
    "        counter4 = 0\n",
    "        max_x = copy_area_map.shape[0]\n",
    "        middle_x = int(max_x/2)\n",
    "        max_y = copy_area_map.shape[1]\n",
    "        middle_y = int(max_y/2)\n",
    "        for i in range(copy_area_map.shape[0]):\n",
    "            for j in range(copy_area_map.shape[1]):\n",
    "                if i < middle_x and j < middle_y: \n",
    "                    counter1 = counter1 + copy_area_map[i,j]\n",
    "                elif i < middle_x and j > middle_y:\n",
    "                    counter2 = counter2 + copy_area_map[i,j]\n",
    "                elif i > middle_x and j < middle_y:\n",
    "                    counter3 = counter3 + copy_area_map[i,j]\n",
    "                elif i > middle_x and j > middle_y:\n",
    "                    counter4 = counter4 + copy_area_map[i,j]\n",
    "                    \n",
    "        safety_factors.append(counter1*counter2*counter3*counter4)"
   ]
  },
  {
   "cell_type": "code",
   "execution_count": 70,
   "id": "4ea631d4",
   "metadata": {},
   "outputs": [
    {
     "data": {
      "text/plain": [
       "103362336"
      ]
     },
     "execution_count": 70,
     "metadata": {},
     "output_type": "execute_result"
    }
   ],
   "source": [
    "safety_factors = np.array(safety_factors)\n",
    "safety_factors.min()"
   ]
  },
  {
   "cell_type": "code",
   "execution_count": 73,
   "id": "4f9a88af",
   "metadata": {},
   "outputs": [
    {
     "name": "stdout",
     "output_type": "stream",
     "text": [
      "Answer: 6516\n"
     ]
    }
   ],
   "source": [
    "print('Answer:', safety_factors.argmin() + 1)"
   ]
  }
 ],
 "metadata": {
  "kernelspec": {
   "display_name": "Python 3.11 (pytorch)",
   "language": "python",
   "name": "pytorch"
  },
  "language_info": {
   "codemirror_mode": {
    "name": "ipython",
    "version": 3
   },
   "file_extension": ".py",
   "mimetype": "text/x-python",
   "name": "python",
   "nbconvert_exporter": "python",
   "pygments_lexer": "ipython3",
   "version": "3.11.4"
  },
  "toc": {
   "base_numbering": 1,
   "nav_menu": {},
   "number_sections": true,
   "sideBar": true,
   "skip_h1_title": false,
   "title_cell": "Table of Contents",
   "title_sidebar": "Contents",
   "toc_cell": false,
   "toc_position": {},
   "toc_section_display": true,
   "toc_window_display": false
  }
 },
 "nbformat": 4,
 "nbformat_minor": 5
}
