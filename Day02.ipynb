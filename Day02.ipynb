{
 "cells": [
  {
   "cell_type": "code",
   "execution_count": 1,
   "id": "fdee0e47",
   "metadata": {},
   "outputs": [],
   "source": [
    "import numpy as np\n",
    "import pandas as pd"
   ]
  },
  {
   "cell_type": "markdown",
   "id": "0b61f84b",
   "metadata": {},
   "source": [
    "# Part 1"
   ]
  },
  {
   "cell_type": "code",
   "execution_count": 119,
   "id": "1c9169af",
   "metadata": {},
   "outputs": [],
   "source": [
    "def check_safe(numbers: [], trend: str=None):\n",
    "#     print(numbers)\n",
    "    if len(numbers) == 1:\n",
    "        return True\n",
    "    elif len(numbers) == 2:\n",
    "        first = numbers[0]\n",
    "        second = numbers[1]\n",
    "        if abs(second-first) <=3 and abs(second-first)>=1 :\n",
    "            current_trend = 'inc' if first < second else 'dec'\n",
    "            if trend is None: \n",
    "                return True\n",
    "            elif current_trend == trend:\n",
    "                return True\n",
    "            else:\n",
    "                return False\n",
    "        else:\n",
    "            return False\n",
    "    else:\n",
    "        current_trend = 'inc' if numbers[0] < numbers[1] else 'dec'\n",
    "        if trend == None:\n",
    "            trend = current_trend\n",
    "        if (current_trend == trend) and (abs(numbers[0]-numbers[1])<=3) and  (abs(numbers[0]-numbers[1])>=1):\n",
    "            return check_safe(numbers[1:], current_trend)\n",
    "        else:\n",
    "            return False"
   ]
  },
  {
   "cell_type": "code",
   "execution_count": 120,
   "id": "45e54b23",
   "metadata": {},
   "outputs": [
    {
     "name": "stdout",
     "output_type": "stream",
     "text": [
      "Answer: 486\n"
     ]
    }
   ],
   "source": [
    "with open('input_day02.txt') as file:\n",
    "    counter = 0\n",
    "    lines = [line.rstrip() for line in file]\n",
    "#     print(lines[0])\n",
    "    for line in lines:\n",
    "        nums = [int(n) for n in line.split()]\n",
    "        is_safe = check_safe(nums)\n",
    "        if is_safe:\n",
    "            counter = counter + 1\n",
    "    print('Answer:', counter)"
   ]
  },
  {
   "cell_type": "code",
   "execution_count": 121,
   "id": "3e1aefa2",
   "metadata": {},
   "outputs": [
    {
     "data": {
      "text/plain": [
       "True"
      ]
     },
     "execution_count": 121,
     "metadata": {},
     "output_type": "execute_result"
    }
   ],
   "source": [
    "numbers = [7, 6, 4, 2, 1]\n",
    "check_safe(numbers)"
   ]
  },
  {
   "cell_type": "code",
   "execution_count": 122,
   "id": "8971ae75",
   "metadata": {},
   "outputs": [
    {
     "data": {
      "text/plain": [
       "False"
      ]
     },
     "execution_count": 122,
     "metadata": {},
     "output_type": "execute_result"
    }
   ],
   "source": [
    "numbers = [int(n) for n in '1 2 7 8 9'.split()]\n",
    "check_safe(numbers)"
   ]
  },
  {
   "cell_type": "code",
   "execution_count": 123,
   "id": "1fe22445",
   "metadata": {},
   "outputs": [
    {
     "data": {
      "text/plain": [
       "False"
      ]
     },
     "execution_count": 123,
     "metadata": {},
     "output_type": "execute_result"
    }
   ],
   "source": [
    "numbers = [int(n) for n in '8 6 4 4 1'.split()]\n",
    "check_safe(numbers)"
   ]
  },
  {
   "cell_type": "code",
   "execution_count": 124,
   "id": "5fdff1b7",
   "metadata": {},
   "outputs": [
    {
     "data": {
      "text/plain": [
       "True"
      ]
     },
     "execution_count": 124,
     "metadata": {},
     "output_type": "execute_result"
    }
   ],
   "source": [
    "numbers = [int(n) for n in '1 3 6 7 9'.split()]\n",
    "check_safe(numbers)"
   ]
  },
  {
   "cell_type": "markdown",
   "id": "4c0f8973",
   "metadata": {},
   "source": [
    "# Part 2"
   ]
  },
  {
   "cell_type": "code",
   "execution_count": 125,
   "id": "0b15d72d",
   "metadata": {},
   "outputs": [],
   "source": [
    "def check_weak_safe(numbers: []):\n",
    "    is_weak_safe = False\n",
    "    for i in range(len(numbers)):\n",
    "        removed_numbers = numbers.copy()\n",
    "        removed_numbers.pop(i)\n",
    "        if check_safe(removed_numbers):\n",
    "            is_weak_safe = True\n",
    "            break\n",
    "    return is_weak_safe\n",
    "    "
   ]
  },
  {
   "cell_type": "code",
   "execution_count": 126,
   "id": "529394c4",
   "metadata": {},
   "outputs": [
    {
     "name": "stdout",
     "output_type": "stream",
     "text": [
      "Answer: 540\n"
     ]
    }
   ],
   "source": [
    "with open('input_day02.txt') as file:\n",
    "    counter = 0\n",
    "    lines = [line.rstrip() for line in file]\n",
    "#     print(lines[0])\n",
    "    for line in lines:\n",
    "        nums = [int(n) for n in line.split()]\n",
    "        is_safe = check_safe(nums)\n",
    "        if is_safe:\n",
    "            counter = counter + 1\n",
    "        else:\n",
    "            is_weak_safe = check_weak_safe(nums)\n",
    "            if is_weak_safe:\n",
    "                counter = counter + 1\n",
    "                    \n",
    "    print('Answer:', counter)"
   ]
  },
  {
   "cell_type": "code",
   "execution_count": 127,
   "id": "74353342",
   "metadata": {},
   "outputs": [
    {
     "data": {
      "text/plain": [
       "True"
      ]
     },
     "execution_count": 127,
     "metadata": {},
     "output_type": "execute_result"
    }
   ],
   "source": [
    "numbers = [int(n) for n in '7 6 4 2 1'.split()]\n",
    "check_weak_safe(numbers)"
   ]
  },
  {
   "cell_type": "code",
   "execution_count": 128,
   "id": "f445733d",
   "metadata": {},
   "outputs": [
    {
     "data": {
      "text/plain": [
       "False"
      ]
     },
     "execution_count": 128,
     "metadata": {},
     "output_type": "execute_result"
    }
   ],
   "source": [
    "numbers = [int(n) for n in '1 2 7 8 9'.split()]\n",
    "check_weak_safe(numbers)"
   ]
  }
 ],
 "metadata": {
  "kernelspec": {
   "display_name": "Python 3.12 (basic)",
   "language": "python",
   "name": "basic"
  },
  "language_info": {
   "codemirror_mode": {
    "name": "ipython",
    "version": 3
   },
   "file_extension": ".py",
   "mimetype": "text/x-python",
   "name": "python",
   "nbconvert_exporter": "python",
   "pygments_lexer": "ipython3",
   "version": "3.12.3"
  },
  "toc": {
   "base_numbering": 1,
   "nav_menu": {},
   "number_sections": true,
   "sideBar": true,
   "skip_h1_title": false,
   "title_cell": "Table of Contents",
   "title_sidebar": "Contents",
   "toc_cell": false,
   "toc_position": {},
   "toc_section_display": true,
   "toc_window_display": false
  }
 },
 "nbformat": 4,
 "nbformat_minor": 5
}
