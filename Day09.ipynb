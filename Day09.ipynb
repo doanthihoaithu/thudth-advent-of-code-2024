{
 "cells": [
  {
   "cell_type": "code",
   "execution_count": 1,
   "id": "bc007bb1",
   "metadata": {},
   "outputs": [],
   "source": [
    "import numpy as np"
   ]
  },
  {
   "cell_type": "markdown",
   "id": "ee4e7eb3",
   "metadata": {},
   "source": [
    "# Part 1"
   ]
  },
  {
   "cell_type": "code",
   "execution_count": 2,
   "id": "79d5177a",
   "metadata": {},
   "outputs": [],
   "source": [
    "def generate_block_string(number_array, start, end):\n",
    "    result = []\n",
    "    for i in range(start, end):\n",
    "        if i % 2 == 0:\n",
    "#             print(str(int(i/2))*number_array[i])\n",
    "            next_elements = [str(int(i/2))]*number_array[i]\n",
    "            result.extend(next_elements)\n",
    "            \n",
    "        else:\n",
    "            next_elements = [\".\"] * number_array[i]\n",
    "            result.extend(next_elements)\n",
    "    return result"
   ]
  },
  {
   "cell_type": "code",
   "execution_count": 3,
   "id": "c5ccc9f0",
   "metadata": {},
   "outputs": [
    {
     "name": "stdout",
     "output_type": "stream",
     "text": [
      "19999\n"
     ]
    }
   ],
   "source": [
    "with open('input_day09.txt') as file:\n",
    "    frequency_dictionary = dict()\n",
    "    line = file.readline().strip()\n",
    "    number_array = [int(c) for c in line]\n",
    "    print(len(number_array))\n",
    "    processed_array = generate_block_string(number_array, 0, len(number_array))"
   ]
  },
  {
   "cell_type": "code",
   "execution_count": 4,
   "id": "317badff",
   "metadata": {},
   "outputs": [],
   "source": [
    "left = 0\n",
    "right = len(processed_array) -1\n",
    "while left < right:\n",
    "    \n",
    "    while processed_array[left] != '.':\n",
    "        left = left + 1\n",
    "    while processed_array[right] == '.':\n",
    "        right = right -1\n",
    "    \n",
    "    if left < right:\n",
    "        tmp = processed_array[left]\n",
    "        processed_array[left] = processed_array[right]\n",
    "        processed_array[right] = tmp\n",
    "        left = left + 1\n",
    "        right = right - 1   "
   ]
  },
  {
   "cell_type": "code",
   "execution_count": 5,
   "id": "65dd8d91",
   "metadata": {},
   "outputs": [
    {
     "name": "stdout",
     "output_type": "stream",
     "text": [
      "Answer: 6349606724455\n"
     ]
    }
   ],
   "source": [
    "result = 0\n",
    "for i, character in enumerate(processed_array):\n",
    "    if character == '.':\n",
    "        break\n",
    "    else:\n",
    "        result = result + i * int(character)\n",
    "print('Answer:', result)\n",
    "    "
   ]
  },
  {
   "cell_type": "markdown",
   "id": "eba81141",
   "metadata": {},
   "source": [
    "# Part 2"
   ]
  },
  {
   "cell_type": "code",
   "execution_count": 6,
   "id": "0e1ead38",
   "metadata": {},
   "outputs": [
    {
     "name": "stdout",
     "output_type": "stream",
     "text": [
      "19999\n"
     ]
    }
   ],
   "source": [
    "with open('input_day09.txt') as file:\n",
    "    frequency_dictionary = dict()\n",
    "    line = file.readline().strip()\n",
    "    number_array = [int(c) for c in line]\n",
    "    print(len(number_array))\n",
    "    processed_array = generate_block_string(number_array, 0, len(number_array))"
   ]
  },
  {
   "cell_type": "code",
   "execution_count": 9,
   "id": "7796bdfd",
   "metadata": {},
   "outputs": [],
   "source": [
    "# find empty blocks with length \"counter\"\n",
    "# return the starting index of empty blocks\n",
    "# return -1 if we can not find empty blocks with length of \"counter\"\n",
    "# max_block_index - index of empty blocks can not ecceed current index of considered file blocks\n",
    "def find_empty_slots(processed_array, counter, max_block_index):\n",
    "    iterator = 0\n",
    "    while iterator < max_block_index:\n",
    "        while processed_array[iterator] != '.':\n",
    "            iterator  =  iterator + 1\n",
    "        \n",
    "        exist = True\n",
    "        tracking_iterator = iterator\n",
    "        for i in range(counter):\n",
    "            if iterator + i < max_block_index:\n",
    "                if processed_array[iterator + i] != '.':\n",
    "                    exist = False\n",
    "                    tracking_iterator = iterator + i\n",
    "                    break\n",
    "            else:\n",
    "                return -1\n",
    "                \n",
    "        if exist == True:\n",
    "            return iterator\n",
    "        else:\n",
    "            iterator = tracking_iterator      \n",
    "    return -1"
   ]
  },
  {
   "cell_type": "code",
   "execution_count": 10,
   "id": "5a64a700",
   "metadata": {},
   "outputs": [],
   "source": [
    "# get number of the same file blocks\n",
    "def get_file_block_count(process_array, most_right_file_index):\n",
    "    file_block_counter = 0\n",
    "    file_id = process_array[most_right_file_index]\n",
    "    iterator = most_right_file_index\n",
    "    while process_array[iterator] == file_id:\n",
    "        file_block_counter = file_block_counter + 1\n",
    "        iterator = iterator - 1\n",
    "    return file_block_counter"
   ]
  },
  {
   "cell_type": "code",
   "execution_count": 11,
   "id": "794e0ae4",
   "metadata": {},
   "outputs": [],
   "source": [
    "# swap file blocks with empty blocks\n",
    "def swap(process_array, start_empty_index, most_right_file_index, counter):\n",
    "    for i in range(counter):\n",
    "        tmp = process_array[start_empty_index + i]\n",
    "        process_array[start_empty_index + i] = process_array[most_right_file_index-i]\n",
    "        process_array[most_right_file_index-i] = tmp"
   ]
  },
  {
   "cell_type": "code",
   "execution_count": 12,
   "id": "443cf10e",
   "metadata": {},
   "outputs": [],
   "source": [
    "left = 0\n",
    "right = len(processed_array) -1\n",
    "while right > left:\n",
    "    while processed_array[right] == '.':\n",
    "        right = right -1\n",
    "    counter = get_file_block_count(processed_array, right)\n",
    "#     print (f'File:{processed_array[right]}, count: {counter}')\n",
    "    empty_slots_start = find_empty_slots(processed_array, counter, right)\n",
    "#     print(f'empty_slots_start: {empty_slots_start}')\n",
    "    if empty_slots_start > 0:\n",
    "        left = empty_slots_start\n",
    "        swap(processed_array, left, right, counter)\n",
    "        right = right - counter\n",
    "    else:\n",
    "        left = 0\n",
    "        right = right - counter\n",
    "    "
   ]
  },
  {
   "cell_type": "code",
   "execution_count": 13,
   "id": "68465ce5",
   "metadata": {},
   "outputs": [
    {
     "name": "stdout",
     "output_type": "stream",
     "text": [
      "Answer: 6376648986651\n"
     ]
    }
   ],
   "source": [
    "result = 0\n",
    "for i, character in enumerate(processed_array):\n",
    "    if character == '.':\n",
    "        continue\n",
    "    else:\n",
    "        result = result + i * int(character)\n",
    "print('Answer:', result)\n",
    "    "
   ]
  }
 ],
 "metadata": {
  "kernelspec": {
   "display_name": "TimeEval (Python 3.8)",
   "language": "python",
   "name": "timeeval"
  },
  "language_info": {
   "codemirror_mode": {
    "name": "ipython",
    "version": 3
   },
   "file_extension": ".py",
   "mimetype": "text/x-python",
   "name": "python",
   "nbconvert_exporter": "python",
   "pygments_lexer": "ipython3",
   "version": "3.8.19"
  },
  "toc": {
   "base_numbering": 1,
   "nav_menu": {},
   "number_sections": true,
   "sideBar": true,
   "skip_h1_title": false,
   "title_cell": "Table of Contents",
   "title_sidebar": "Contents",
   "toc_cell": false,
   "toc_position": {},
   "toc_section_display": true,
   "toc_window_display": false
  }
 },
 "nbformat": 4,
 "nbformat_minor": 5
}
